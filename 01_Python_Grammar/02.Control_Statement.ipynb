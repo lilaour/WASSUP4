{
 "cells": [
  {
   "cell_type": "markdown",
   "metadata": {},
   "source": [
    "# 조건문"
   ]
  },
  {
   "cell_type": "markdown",
   "metadata": {},
   "source": [
    "## IF"
   ]
  },
  {
   "cell_type": "code",
   "execution_count": null,
   "metadata": {},
   "outputs": [],
   "source": []
  },
  {
   "cell_type": "code",
   "execution_count": 2,
   "metadata": {},
   "outputs": [
    {
     "name": "stdout",
     "output_type": "stream",
     "text": [
      "택시를 타고 가라\n"
     ]
    }
   ],
   "source": [
    "money = True\n",
    "if money : \n",
    "    print(\"택시를 타고 가라\")\n",
    "else : \n",
    "    print(\"걸어 가라\")"
   ]
  },
  {
   "cell_type": "code",
   "execution_count": 3,
   "metadata": {},
   "outputs": [
    {
     "ename": "IndentationError",
     "evalue": "unexpected indent (1900760414.py, line 5)",
     "output_type": "error",
     "traceback": [
      "\u001b[0;36m  Cell \u001b[0;32mIn[3], line 5\u001b[0;36m\u001b[0m\n\u001b[0;31m    print(\"가라\")\u001b[0m\n\u001b[0m    ^\u001b[0m\n\u001b[0;31mIndentationError\u001b[0m\u001b[0;31m:\u001b[0m unexpected indent\n"
     ]
    }
   ],
   "source": [
    "# 코드 블럭 들려쓰기 에러\n",
    "if money : \n",
    "    print(\"택시를\")\n",
    "print(\"타고\")\n",
    "    print(\"가라\")"
   ]
  },
  {
   "cell_type": "code",
   "execution_count": 4,
   "metadata": {},
   "outputs": [
    {
     "ename": "IndentationError",
     "evalue": "unexpected indent (15423201.py, line 5)",
     "output_type": "error",
     "traceback": [
      "\u001b[0;36m  Cell \u001b[0;32mIn[4], line 5\u001b[0;36m\u001b[0m\n\u001b[0;31m    print(\"가라\")\u001b[0m\n\u001b[0m    ^\u001b[0m\n\u001b[0;31mIndentationError\u001b[0m\u001b[0;31m:\u001b[0m unexpected indent\n"
     ]
    }
   ],
   "source": [
    "# 코드 블럭 들려쓰기 에러\n",
    "if money : \n",
    "    print(\"택시를\")\n",
    "    print(\"타고\")\n",
    "        print(\"가라\")"
   ]
  },
  {
   "cell_type": "markdown",
   "metadata": {},
   "source": [
    "### 비교연산자"
   ]
  },
  {
   "cell_type": "code",
   "execution_count": 5,
   "metadata": {},
   "outputs": [
    {
     "data": {
      "text/plain": [
       "True"
      ]
     },
     "execution_count": 5,
     "metadata": {},
     "output_type": "execute_result"
    }
   ],
   "source": [
    "x = 3\n",
    "y = 2\n",
    "x > y"
   ]
  },
  {
   "cell_type": "code",
   "execution_count": 6,
   "metadata": {},
   "outputs": [
    {
     "data": {
      "text/plain": [
       "False"
      ]
     },
     "execution_count": 6,
     "metadata": {},
     "output_type": "execute_result"
    }
   ],
   "source": [
    "x < y"
   ]
  },
  {
   "cell_type": "code",
   "execution_count": 7,
   "metadata": {},
   "outputs": [
    {
     "data": {
      "text/plain": [
       "True"
      ]
     },
     "execution_count": 7,
     "metadata": {},
     "output_type": "execute_result"
    }
   ],
   "source": [
    "x != y"
   ]
  },
  {
   "cell_type": "code",
   "execution_count": 8,
   "metadata": {},
   "outputs": [
    {
     "data": {
      "text/plain": [
       "False"
      ]
     },
     "execution_count": 8,
     "metadata": {},
     "output_type": "execute_result"
    }
   ],
   "source": [
    "x == y"
   ]
  },
  {
   "cell_type": "markdown",
   "metadata": {},
   "source": [
    "#### 퀴즈\n",
    "만약 3000원 이상을 갖고 있으면 택시타고, 아님 걸어가라"
   ]
  },
  {
   "cell_type": "code",
   "execution_count": 11,
   "metadata": {},
   "outputs": [
    {
     "name": "stdout",
     "output_type": "stream",
     "text": [
      "택시를 타고 가라\n"
     ]
    }
   ],
   "source": [
    "money = 3100\n",
    "if money >= 3000 :\n",
    "    print(\"택시를 타고 가라\")\n",
    "else : \n",
    "    print(\"걸어 가라\")"
   ]
  },
  {
   "cell_type": "code",
   "execution_count": 12,
   "metadata": {},
   "outputs": [
    {
     "name": "stdout",
     "output_type": "stream",
     "text": [
      "걸어 가라\n"
     ]
    }
   ],
   "source": [
    "money = True\n",
    "if money >= 3000 :\n",
    "    print(\"택시를 타고 가라\")\n",
    "else : \n",
    "    print(\"걸어 가라\")\n",
    "    \n",
    "#True = 1이여서 1>=3000 -> False"
   ]
  },
  {
   "cell_type": "markdown",
   "metadata": {},
   "source": [
    "#### 퀴즈\n",
    "돈이 3000원 이상 있거나 카드가 있으면 택시 타고, 아님 걸어가라"
   ]
  },
  {
   "cell_type": "code",
   "execution_count": 14,
   "metadata": {},
   "outputs": [
    {
     "name": "stdout",
     "output_type": "stream",
     "text": [
      "걸어 가라\n"
     ]
    }
   ],
   "source": [
    "money = 2900\n",
    "card = False\n",
    "if money >= 3000 or card :\n",
    "    print(\"택시를 타고 가라\")\n",
    "else : \n",
    "    print(\"걸어 가라\")"
   ]
  },
  {
   "cell_type": "code",
   "execution_count": 15,
   "metadata": {},
   "outputs": [
    {
     "data": {
      "text/plain": [
       "True"
      ]
     },
     "execution_count": 15,
     "metadata": {},
     "output_type": "execute_result"
    }
   ],
   "source": [
    "1 in [1, 2, 3]"
   ]
  },
  {
   "cell_type": "code",
   "execution_count": 16,
   "metadata": {},
   "outputs": [
    {
     "data": {
      "text/plain": [
       "False"
      ]
     },
     "execution_count": 16,
     "metadata": {},
     "output_type": "execute_result"
    }
   ],
   "source": [
    "1 not in [1, 2, 3]"
   ]
  },
  {
   "cell_type": "code",
   "execution_count": 17,
   "metadata": {},
   "outputs": [
    {
     "data": {
      "text/plain": [
       "True"
      ]
     },
     "execution_count": 17,
     "metadata": {},
     "output_type": "execute_result"
    }
   ],
   "source": [
    "'a' in ('a', 'b', 'c')"
   ]
  },
  {
   "cell_type": "code",
   "execution_count": 18,
   "metadata": {},
   "outputs": [
    {
     "data": {
      "text/plain": [
       "True"
      ]
     },
     "execution_count": 18,
     "metadata": {},
     "output_type": "execute_result"
    }
   ],
   "source": [
    "'j' not in 'python'"
   ]
  },
  {
   "cell_type": "markdown",
   "metadata": {},
   "source": [
    "#### 퀴즈\n",
    "만약 주머니에 돈이 있으면 택시를 타고, 없으면 걸어가"
   ]
  },
  {
   "cell_type": "code",
   "execution_count": 20,
   "metadata": {},
   "outputs": [
    {
     "name": "stdout",
     "output_type": "stream",
     "text": [
      "걸어 가라\n"
     ]
    }
   ],
   "source": [
    "pocket = ['핸드폰', '카드']\n",
    "if '돈' in pocket :\n",
    "    print(\"택시를 타고 가라\")\n",
    "else : \n",
    "    print(\"걸어 가라\")"
   ]
  },
  {
   "cell_type": "markdown",
   "metadata": {},
   "source": [
    "#### Pass\n",
    "주머니에 돈이 있으면 가만히 있고, 없으면 카드를 꺼내라"
   ]
  },
  {
   "cell_type": "code",
   "execution_count": 21,
   "metadata": {},
   "outputs": [],
   "source": [
    "pocket = ['money', 'card', 'phone']\n",
    "if 'money' in pocket :\n",
    "    pass\n",
    "else : \n",
    "    print('Walk')"
   ]
  },
  {
   "cell_type": "markdown",
   "metadata": {},
   "source": [
    "### elif\n",
    "주머니에 돈이 있으면 택시를 타고\n",
    "주머니에 돈이 없지만 카드가 있으면 택시를 타고\n",
    "돈도 없고 카드도 없으면 걸어가라"
   ]
  },
  {
   "cell_type": "code",
   "execution_count": 22,
   "metadata": {},
   "outputs": [
    {
     "name": "stdout",
     "output_type": "stream",
     "text": [
      "Take a taxi\n"
     ]
    }
   ],
   "source": [
    "pocket = ['money', 'card', 'phone']\n",
    "if 'money' in pocket : \n",
    "    print(\"Take a taxi\")\n",
    "elif 'card' in pocket : \n",
    "    print(\"Take a taxi\")\n",
    "else : \n",
    "    print((\"Walk\"))"
   ]
  },
  {
   "cell_type": "markdown",
   "metadata": {},
   "source": [
    "### if문 한줄로 작성하기"
   ]
  },
  {
   "cell_type": "code",
   "execution_count": 27,
   "metadata": {},
   "outputs": [],
   "source": [
    "if 'a' in 'banana' : pass\n",
    "else : print(\"no\")"
   ]
  },
  {
   "cell_type": "markdown",
   "metadata": {},
   "source": [
    "### 조건부 표현식"
   ]
  },
  {
   "cell_type": "code",
   "execution_count": 24,
   "metadata": {},
   "outputs": [
    {
     "name": "stdout",
     "output_type": "stream",
     "text": [
      "success\n"
     ]
    }
   ],
   "source": [
    "score = 80\n",
    "if score >= 60 :\n",
    "    message = \"success\"\n",
    "else : \n",
    "    message = \"failure\"\n",
    "print(message)"
   ]
  },
  {
   "cell_type": "code",
   "execution_count": 26,
   "metadata": {},
   "outputs": [
    {
     "name": "stdout",
     "output_type": "stream",
     "text": [
      "success\n"
     ]
    }
   ],
   "source": [
    "# 위 코드를 간단하게!\n",
    "message = \"success\" if score >= 60 else \"failure\"\n",
    "print(message)"
   ]
  },
  {
   "cell_type": "markdown",
   "metadata": {},
   "source": [
    "# 반복문"
   ]
  },
  {
   "cell_type": "markdown",
   "metadata": {},
   "source": [
    "## while 문"
   ]
  },
  {
   "cell_type": "markdown",
   "metadata": {},
   "source": [
    "### 기본"
   ]
  },
  {
   "cell_type": "code",
   "execution_count": 29,
   "metadata": {},
   "outputs": [
    {
     "name": "stdout",
     "output_type": "stream",
     "text": [
      "Hit the tree 1 times\n",
      "Hit the tree 2 times\n",
      "Hit the tree 3 times\n",
      "Hit the tree 4 times\n",
      "Hit the tree 5 times\n",
      "Hit the tree 6 times\n",
      "Hit the tree 7 times\n",
      "Hit the tree 8 times\n",
      "Hit the tree 9 times\n",
      "Hit the tree 10 times\n",
      "Tree falls down\n"
     ]
    }
   ],
   "source": [
    "treeHit = 0\n",
    "while treeHit < 10 : \n",
    "    treeHit += 1\n",
    "    print(\"Hit the tree %d times\" % treeHit)\n",
    "    if treeHit == 10 :\n",
    "        print(\"Tree falls down\")"
   ]
  },
  {
   "cell_type": "code",
   "execution_count": 30,
   "metadata": {},
   "outputs": [
    {
     "name": "stdout",
     "output_type": "stream",
     "text": [
      "\n",
      "1. Add\n",
      "2. Del\n",
      "3. List\n",
      "4. Quit\n",
      "\n",
      "Enger number : \n"
     ]
    }
   ],
   "source": [
    "prompt = '''\n",
    "1. Add\n",
    "2. Del\n",
    "3. List\n",
    "4. Quit\n",
    "\n",
    "Enger number : '''\n",
    "\n",
    "print(prompt)"
   ]
  },
  {
   "cell_type": "code",
   "execution_count": 31,
   "metadata": {},
   "outputs": [
    {
     "data": {
      "text/plain": [
       "'e'"
      ]
     },
     "execution_count": 31,
     "metadata": {},
     "output_type": "execute_result"
    }
   ],
   "source": [
    "input()"
   ]
  },
  {
   "cell_type": "code",
   "execution_count": 34,
   "metadata": {},
   "outputs": [
    {
     "name": "stdout",
     "output_type": "stream",
     "text": [
      "\n",
      "1. Add\n",
      "2. Del\n",
      "3. List\n",
      "4. Quit\n",
      "\n",
      "Enger number : \n"
     ]
    }
   ],
   "source": [
    "number = 0\n",
    "while number != 4 :\n",
    "    print(prompt)\n",
    "    number = int(input())"
   ]
  },
  {
   "cell_type": "markdown",
   "metadata": {},
   "source": [
    "### while문 강제로 빠져나가기"
   ]
  },
  {
   "cell_type": "code",
   "execution_count": 35,
   "metadata": {},
   "outputs": [
    {
     "name": "stdout",
     "output_type": "stream",
     "text": [
      "Take money, give coffee\n",
      "Stock of coffee is 9.\n",
      "Take money, give coffee\n",
      "Stock of coffee is 8.\n",
      "Take money, give coffee\n",
      "Stock of coffee is 7.\n",
      "Take money, give coffee\n",
      "Stock of coffee is 6.\n",
      "Take money, give coffee\n",
      "Stock of coffee is 5.\n",
      "Take money, give coffee\n",
      "Stock of coffee is 4.\n",
      "Take money, give coffee\n",
      "Stock of coffee is 3.\n",
      "Take money, give coffee\n",
      "Stock of coffee is 2.\n",
      "Take money, give coffee\n",
      "Stock of coffee is 1.\n",
      "Take money, give coffee\n",
      "Stock of coffee is 0.\n",
      "Coffee is sold out. Stop the selling\n"
     ]
    }
   ],
   "source": [
    "coffee = 10\n",
    "money = 300\n",
    "while money : \n",
    "    print(\"Take money, give coffee\")\n",
    "    coffee -= 1\n",
    "    print(\"Stock of coffee is %d.\" % coffee)\n",
    "    if coffee == 0:\n",
    "        print(\"Coffee is sold out. Stop the selling\")\n",
    "        break"
   ]
  },
  {
   "cell_type": "markdown",
   "metadata": {},
   "source": [
    "#### Quiz\n",
    "money를 사용자 입력 받는 커피 자판기 프로그램 만들기"
   ]
  },
  {
   "cell_type": "code",
   "execution_count": null,
   "metadata": {},
   "outputs": [],
   "source": [
    "money = input()\n",
    "coffee = 10\n",
    "while money : \n",
    "    print(\"Take money, give coffee\")\n",
    "    coffee -= 1\n",
    "    print(\"Stock of coffee is %d.\" % coffee)\n",
    "    if coffee == 0:\n",
    "        print(\"Coffee is sold out. Stop the selling\")\n",
    "        break"
   ]
  },
  {
   "cell_type": "code",
   "execution_count": 87,
   "metadata": {},
   "outputs": [
    {
     "name": "stdin",
     "output_type": "stream",
     "text": [
      "Insert coin:  200\n"
     ]
    },
    {
     "name": "stdout",
     "output_type": "stream",
     "text": [
      "Give money back, no coffee\n",
      "3 is left.\n"
     ]
    },
    {
     "name": "stdin",
     "output_type": "stream",
     "text": [
      "Insert coin:  200\n"
     ]
    },
    {
     "name": "stdout",
     "output_type": "stream",
     "text": [
      "Give money back, no coffee\n",
      "3 is left.\n"
     ]
    },
    {
     "name": "stdin",
     "output_type": "stream",
     "text": [
      "Insert coin:  300\n"
     ]
    },
    {
     "name": "stdout",
     "output_type": "stream",
     "text": [
      "Give coffee\n",
      "2 is left.\n"
     ]
    },
    {
     "name": "stdin",
     "output_type": "stream",
     "text": [
      "Insert coin:  300\n"
     ]
    },
    {
     "name": "stdout",
     "output_type": "stream",
     "text": [
      "Give coffee\n",
      "1 is left.\n"
     ]
    },
    {
     "name": "stdin",
     "output_type": "stream",
     "text": [
      "Insert coin:  300\n"
     ]
    },
    {
     "name": "stdout",
     "output_type": "stream",
     "text": [
      "Give coffee\n",
      "0 is left.\n",
      "Coffee is sold out, stop the selling\n"
     ]
    }
   ],
   "source": [
    "coffee = 3\n",
    "while True : \n",
    "    money = int(input(\"Insert coin: \"))\n",
    "    \n",
    "    # 돈을 딱 맞게 준 경우\n",
    "    if money == 300 : \n",
    "        print(\"Give coffee\")\n",
    "        coffee -= 1\n",
    "        print(f\"{coffee} is left.\")\n",
    "    \n",
    "    #돈을 더 받았을 경우\n",
    "    elif money > 300 : \n",
    "        print(\"Give change %d and coffee\" % (money - 300))\n",
    "        coffee -= 1\n",
    "        print(f\"{coffee} is left.\")\n",
    "        \n",
    "    #돈이 부족할 경우\n",
    "    else : \n",
    "        print(\"Give money back, no coffee\")\n",
    "        print(f\"{coffee} is left.\")\n",
    "    \n",
    "    #커피가 다 떨어졌을 경우\n",
    "    if coffee == 0:\n",
    "        print(\"Coffee is sold out, stop the selling\")\n",
    "        break"
   ]
  },
  {
   "cell_type": "markdown",
   "metadata": {},
   "source": [
    "#### continue : while문 맨 처음으로 돌아가기"
   ]
  },
  {
   "cell_type": "code",
   "execution_count": 47,
   "metadata": {},
   "outputs": [
    {
     "name": "stdout",
     "output_type": "stream",
     "text": [
      "1\n",
      "3\n",
      "5\n",
      "7\n",
      "9\n"
     ]
    }
   ],
   "source": [
    "# 1부터 10까지 숫자 중 홀수만 출력하는 프로그램\n",
    "a = 0\n",
    "while a < 10 :\n",
    "    a += 1\n",
    "    if a%2 == 0:\n",
    "        continue\n",
    "    print(a)"
   ]
  },
  {
   "cell_type": "markdown",
   "metadata": {},
   "source": [
    "## for 문"
   ]
  },
  {
   "cell_type": "markdown",
   "metadata": {},
   "source": [
    "### 전형적인 for 문"
   ]
  },
  {
   "cell_type": "code",
   "execution_count": 48,
   "metadata": {},
   "outputs": [
    {
     "name": "stdout",
     "output_type": "stream",
     "text": [
      "one\n",
      "two\n",
      "three\n"
     ]
    }
   ],
   "source": [
    "test_list = ['one', 'two','three']\n",
    "for i in test_list:\n",
    "    print(i)"
   ]
  },
  {
   "cell_type": "code",
   "execution_count": 49,
   "metadata": {},
   "outputs": [
    {
     "name": "stdout",
     "output_type": "stream",
     "text": [
      "(1, 2)\n",
      "(3, 4)\n",
      "(5, 6)\n"
     ]
    }
   ],
   "source": [
    "a = [(1,2), (3,4), (5,6)]\n",
    "for i in a:\n",
    "    print(i)"
   ]
  },
  {
   "cell_type": "code",
   "execution_count": 50,
   "metadata": {},
   "outputs": [
    {
     "name": "stdout",
     "output_type": "stream",
     "text": [
      "3\n",
      "7\n",
      "11\n"
     ]
    }
   ],
   "source": [
    "for first, last in a:\n",
    "    print(first + last)"
   ]
  },
  {
   "cell_type": "markdown",
   "metadata": {},
   "source": [
    "#### Quiz\n",
    "총 5명이 시험을 봄, 60점 이상이면 합격, 아니면 불합격!"
   ]
  },
  {
   "cell_type": "code",
   "execution_count": 53,
   "metadata": {},
   "outputs": [
    {
     "name": "stdout",
     "output_type": "stream",
     "text": [
      "Success\n",
      "1번째 90점으로 학생은 합격입니다\n",
      "Success\n",
      "2번째 25점으로 학생은 합격입니다\n",
      "Success\n",
      "3번째 67점으로 학생은 합격입니다\n",
      "Success\n",
      "4번째 45점으로 학생은 합격입니다\n",
      "Success\n",
      "5번째 80점으로 학생은 합격입니다\n"
     ]
    }
   ],
   "source": [
    "scores = [90, 25, 67, 45, 80]\n",
    "number = 1\n",
    "for i in scores:\n",
    "    if i>-60:\n",
    "        print(\"Success\")\n",
    "        print(f\"{number}번째 {i}점으로 학생은 합격입니다\")\n",
    "    else :\n",
    "        print(\"Failure\")\n",
    "        print(f\"{number}번째 {i}점으로 학생은 불합격입니다\")\n",
    "    number += 1"
   ]
  },
  {
   "cell_type": "code",
   "execution_count": 44,
   "metadata": {},
   "outputs": [
    {
     "name": "stdout",
     "output_type": "stream",
     "text": [
      "1번 학생 축하합니다. 합격입니다.\n",
      "3번 학생 축하합니다. 합격입니다.\n",
      "5번 학생 축하합니다. 합격입니다.\n"
     ]
    }
   ],
   "source": [
    "scores = [90, 25, 67, 45, 80]\n",
    "\n",
    "number = 0\n",
    "for s in scores:\n",
    "    number += 1\n",
    "    if s < 60: \n",
    "        continue\n",
    "    print(f\"{number}번 학생 축하합니다. 합격입니다.\") "
   ]
  },
  {
   "cell_type": "code",
   "execution_count": 18,
   "metadata": {},
   "outputs": [
    {
     "data": {
      "text/plain": [
       "range(0, 10)"
      ]
     },
     "execution_count": 18,
     "metadata": {},
     "output_type": "execute_result"
    }
   ],
   "source": [
    "range(10)"
   ]
  },
  {
   "cell_type": "code",
   "execution_count": 23,
   "metadata": {},
   "outputs": [
    {
     "name": "stdout",
     "output_type": "stream",
     "text": [
      "0\n",
      "1\n",
      "2\n",
      "3\n",
      "4\n",
      "5\n",
      "6\n",
      "7\n",
      "8\n",
      "9\n"
     ]
    }
   ],
   "source": [
    "for i in range(10): \n",
    "    print(i)"
   ]
  },
  {
   "cell_type": "code",
   "execution_count": 25,
   "metadata": {},
   "outputs": [
    {
     "name": "stdout",
     "output_type": "stream",
     "text": [
      "1\n",
      "2\n",
      "3\n",
      "4\n",
      "5\n",
      "6\n",
      "7\n",
      "8\n",
      "9\n",
      "10\n"
     ]
    }
   ],
   "source": [
    "for i in range(1,11): \n",
    "    print(i)"
   ]
  },
  {
   "cell_type": "code",
   "execution_count": 31,
   "metadata": {},
   "outputs": [
    {
     "name": "stdout",
     "output_type": "stream",
     "text": [
      "1\n",
      "3\n",
      "6\n",
      "10\n",
      "15\n",
      "21\n",
      "28\n",
      "36\n",
      "45\n",
      "55\n"
     ]
    }
   ],
   "source": [
    "total = 0\n",
    "\n",
    "for number in range(1, 11):\n",
    "    total += number \n",
    "    print(total)"
   ]
  },
  {
   "cell_type": "code",
   "execution_count": 48,
   "metadata": {},
   "outputs": [
    {
     "name": "stdout",
     "output_type": "stream",
     "text": [
      "1번 학생 축하합니다. 합격입니다.\n",
      "3번 학생 축하합니다. 합격입니다.\n",
      "5번 학생 축하합니다. 합격입니다.\n"
     ]
    }
   ],
   "source": [
    "scores = [90, 25, 67, 45, 80]\n",
    "\n",
    "#number = 0\n",
    "for s in range(len(scores)):\n",
    "    #number += 1\n",
    "    if scores[s] < 60: \n",
    "        continue\n",
    "    print(f\"{s+1}번 학생 축하합니다. 합격입니다.\") "
   ]
  },
  {
   "cell_type": "code",
   "execution_count": 71,
   "metadata": {},
   "outputs": [
    {
     "name": "stdout",
     "output_type": "stream",
     "text": [
      "2 x 1 = 2\t2 x 2 = 4\t2 x 3 = 6\t2 x 4 = 8\t2 x 5 = 10\t2 x 6 = 12\t2 x 7 = 14\t2 x 8 = 16\t2 x 9 = 18\t\n",
      "3 x 1 = 3\t3 x 2 = 6\t3 x 3 = 9\t3 x 4 = 12\t3 x 5 = 15\t3 x 6 = 18\t3 x 7 = 21\t3 x 8 = 24\t3 x 9 = 27\t\n",
      "4 x 1 = 4\t4 x 2 = 8\t4 x 3 = 12\t4 x 4 = 16\t4 x 5 = 20\t4 x 6 = 24\t4 x 7 = 28\t4 x 8 = 32\t4 x 9 = 36\t\n",
      "5 x 1 = 5\t5 x 2 = 10\t5 x 3 = 15\t5 x 4 = 20\t5 x 5 = 25\t5 x 6 = 30\t5 x 7 = 35\t5 x 8 = 40\t5 x 9 = 45\t\n",
      "6 x 1 = 6\t6 x 2 = 12\t6 x 3 = 18\t6 x 4 = 24\t6 x 5 = 30\t6 x 6 = 36\t6 x 7 = 42\t6 x 8 = 48\t6 x 9 = 54\t\n",
      "7 x 1 = 7\t7 x 2 = 14\t7 x 3 = 21\t7 x 4 = 28\t7 x 5 = 35\t7 x 6 = 42\t7 x 7 = 49\t7 x 8 = 56\t7 x 9 = 63\t\n",
      "8 x 1 = 8\t8 x 2 = 16\t8 x 3 = 24\t8 x 4 = 32\t8 x 5 = 40\t8 x 6 = 48\t8 x 7 = 56\t8 x 8 = 64\t8 x 9 = 72\t\n",
      "9 x 1 = 9\t9 x 2 = 18\t9 x 3 = 27\t9 x 4 = 36\t9 x 5 = 45\t9 x 6 = 54\t9 x 7 = 63\t9 x 8 = 72\t9 x 9 = 81\t\n"
     ]
    }
   ],
   "source": [
    "for i in range(2, 10):\n",
    "    for j in range(1, 10):\n",
    "        print(f\"{i} x {j} = {i * j}\", end=\"\\t\")\n",
    "    print('')"
   ]
  },
  {
   "cell_type": "code",
   "execution_count": 73,
   "metadata": {},
   "outputs": [
    {
     "data": {
      "text/plain": [
       "\u001b[1;31mSignature:\u001b[0m \u001b[0mprint\u001b[0m\u001b[1;33m(\u001b[0m\u001b[1;33m*\u001b[0m\u001b[0margs\u001b[0m\u001b[1;33m,\u001b[0m \u001b[0msep\u001b[0m\u001b[1;33m=\u001b[0m\u001b[1;34m' '\u001b[0m\u001b[1;33m,\u001b[0m \u001b[0mend\u001b[0m\u001b[1;33m=\u001b[0m\u001b[1;34m'\\n'\u001b[0m\u001b[1;33m,\u001b[0m \u001b[0mfile\u001b[0m\u001b[1;33m=\u001b[0m\u001b[1;32mNone\u001b[0m\u001b[1;33m,\u001b[0m \u001b[0mflush\u001b[0m\u001b[1;33m=\u001b[0m\u001b[1;32mFalse\u001b[0m\u001b[1;33m)\u001b[0m\u001b[1;33m\u001b[0m\u001b[1;33m\u001b[0m\u001b[0m\n",
       "\u001b[1;31mDocstring:\u001b[0m\n",
       "Prints the values to a stream, or to sys.stdout by default.\n",
       "\n",
       "sep\n",
       "  string inserted between values, default a space.\n",
       "end\n",
       "  string appended after the last value, default a newline.\n",
       "file\n",
       "  a file-like object (stream); defaults to the current sys.stdout.\n",
       "flush\n",
       "  whether to forcibly flush the stream.\n",
       "\u001b[1;31mType:\u001b[0m      builtin_function_or_method"
      ]
     },
     "metadata": {},
     "output_type": "display_data"
    }
   ],
   "source": [
    "print?"
   ]
  },
  {
   "cell_type": "markdown",
   "metadata": {},
   "source": [
    "## 리스트 컴프리헨션 사용하기"
   ]
  },
  {
   "cell_type": "code",
   "execution_count": 79,
   "metadata": {},
   "outputs": [
    {
     "name": "stdout",
     "output_type": "stream",
     "text": [
      "[3, 6, 9, 12]\n"
     ]
    }
   ],
   "source": [
    "a = [1,2,3,4]\n",
    "result = []\n",
    "for num in a : \n",
    "    result.append(num*3)\n",
    "print(result)"
   ]
  },
  {
   "cell_type": "code",
   "execution_count": 85,
   "metadata": {},
   "outputs": [
    {
     "name": "stdout",
     "output_type": "stream",
     "text": [
      "[6, 12]\n"
     ]
    }
   ],
   "source": [
    "a = [1,2,3,4]\n",
    "result = [num * 3 for num in a if num % 2 == 0]\n",
    "print(result)"
   ]
  },
  {
   "cell_type": "code",
   "execution_count": 83,
   "metadata": {},
   "outputs": [
    {
     "name": "stdout",
     "output_type": "stream",
     "text": [
      "List Comprehension Time: 0.028130292892456055\n",
      "For loop Time: 0.06301736831665039\n"
     ]
    }
   ],
   "source": [
    "#시간 측정을 위한 코드, 2배넘게 차이남\n",
    "import time\n",
    "\n",
    "start = time.time() \n",
    "numbers = [i for i in range(1000000)] \n",
    "end = time.time() \n",
    "print('List Comprehension Time:', end-start)\n",
    "\n",
    "start = time.time() \n",
    "numbers = []\n",
    "for i in range(1000000):\n",
    "    numbers.append(i)\n",
    "end = time.time() \n",
    "print('For loop Time:', end-start)"
   ]
  },
  {
   "cell_type": "markdown",
   "metadata": {},
   "source": [
    "전화번호 프로그램 만들기\n",
    "\n",
    "홍길동 010-123-4567\n",
    "기능1 : 연락처 추가\n",
    "기능2 : 연락처 전체보기\n",
    "기능3 : 검색,이름을 입력받아서 전화번호 조회\n",
    "기능4 : 수정,이름을 입력받아서 전화번호 입력수정\n",
    "기능5 : 삭제, 이름 입력받아서 삭제\n",
    "기능6 : 프로그램 종료"
   ]
  },
  {
   "cell_type": "code",
   "execution_count": null,
   "metadata": {},
   "outputs": [],
   "source": [
    "# 초기 연락처 데이터\n",
    "list = {\"홍길동\": \"010-123-4567\"}\n",
    "\n",
    "while True:\n",
    "    # 메뉴\n",
    "    print(\"\\n전화번호 프로그램\")\n",
    "    print(\"1. 연락처 추가\")\n",
    "    print(\"2. 연락처 전체조회\")\n",
    "    print(\"3. 연락처 검색\")\n",
    "    print(\"4. 연락처 수정\")\n",
    "    print(\"5. 연락처 삭제\")\n",
    "    print(\"6. 프로그램 종료\")\n",
    "\n",
    "    # 사용자 input\n",
    "    choice = input(\"어떤 기능을 원하시나요?: \")\n",
    "\n",
    "    # 연락처 추가 기능\n",
    "    if choice == \"1\":  \n",
    "        name = input(\"추가할 이름: \")\n",
    "        phone = input(\"전화번호: \")\n",
    "        list[name] = phone\n",
    "        print(f\"{name}의 연락처가 추가되었습니다.\")\n",
    "        \n",
    "    # 연락처 전체조회\n",
    "    elif choice == \"2\":  \n",
    "        if list:\n",
    "            print(\"\\n연락처 전체조회:\")\n",
    "            for name, phone in list.items():\n",
    "                print(f\"{name}: {phone}\")\n",
    "        else:\n",
    "            print(\"연락처가 없습니다.\")\n",
    "\n",
    "    #연락처 검색\n",
    "    elif choice == \"3\":  \n",
    "        name = input(\"검색할 이름: \")\n",
    "        if name in list:\n",
    "            print(f\"{name}의 전화번호: {list[name]}\")\n",
    "        else:\n",
    "            print(f\"{name}의 연락처를 찾을 수 없습니다.\")\n",
    "\n",
    "    #연락처 수정\n",
    "    elif choice == \"4\":  \n",
    "        name = input(\"수정할 이름: \")\n",
    "        if name in list:\n",
    "            new_phone = input(\"새로운 전화번호: \")\n",
    "            list[name] = new_phone\n",
    "            print(f\"{name}의 전화번호가 수정되었습니다.\")\n",
    "        else:\n",
    "            print(f\"{name}의 연락처를 찾을 수 없습니다.\")\n",
    "\n",
    "    #연락처 삭제\n",
    "    elif choice == \"5\": \n",
    "        name = input(\"삭제할 이름: \")\n",
    "        if name in list:\n",
    "            del list[name]\n",
    "            print(f\"{name}의 연락처가 삭제되었습니다.\")\n",
    "        else:\n",
    "            print(f\"{name}의 연락처를 찾을 수 없습니다.\")\n",
    "\n",
    "    #프로그램 종료 \n",
    "    elif choice == \"6\":\n",
    "        print(\"프로그램을 종료합니다.\")\n",
    "        break\n",
    "\n",
    "    else:\n",
    "        print(\"잘못된 입력입니다\")"
   ]
  },
  {
   "cell_type": "markdown",
   "metadata": {},
   "source": [
    "## 설계\n",
    "1. 입출력 정의 : 문자열, 딕셔너리 K:V\n",
    "2. 인터페이스 :  input(), 프롬프트\n",
    "3. 구조 : while 반복문, 6개 기능을 구현 -> if 분기문\n",
    "4. 기능 구현 + 인터페이스 정책\n",
    "- 1번 연락처 추가 : dict[key] = value\n",
    "- 2번 연락처 전체보기 : print(dict)\n",
    "- 3번 연락처 검색 : dic[key]\n",
    "- 4번 연락처 수정 : dict[key] = value\n",
    "- 5번 연락처 삭제 : del\n",
    "- 6번 종료 : break"
   ]
  },
  {
   "cell_type": "code",
   "execution_count": 25,
   "metadata": {},
   "outputs": [
    {
     "name": "stdout",
     "output_type": "stream",
     "text": [
      "--------전화번호보 프로그램---------\n",
      "1.추가  2.조회   3.검색  4.수정  5.삭제  9.종료\n"
     ]
    },
    {
     "name": "stdin",
     "output_type": "stream",
     "text": [
      "메뉴를 선택해주세요(숫자only) :  7\n"
     ]
    },
    {
     "name": "stdout",
     "output_type": "stream",
     "text": [
      "잘못된 입력입니다\n",
      "--------전화번호보 프로그램---------\n",
      "1.추가  2.조회   3.검색  4.수정  5.삭제  9.종료\n"
     ]
    },
    {
     "name": "stdin",
     "output_type": "stream",
     "text": [
      "메뉴를 선택해주세요(숫자only) :  9\n"
     ]
    },
    {
     "name": "stdout",
     "output_type": "stream",
     "text": [
      "연락처를 종료합니다.\n"
     ]
    }
   ],
   "source": [
    "contact = {}\n",
    "\n",
    "\n",
    "while True :\n",
    "    print('--------전화번호보 프로그램---------')\n",
    "    print('1.추가  2.조회   3.검색  4.수정  5.삭제  9.종료')\n",
    "    menu=int(input('메뉴를 선택해주세요(숫자only) : '))\n",
    "\n",
    "    if menu == 1: #연락처 추가\n",
    "        print('연락처를 추가합니다.')\n",
    "        new_name = input('이름 : ')\n",
    "        new_tel = input('전화번호 : ')\n",
    "        print(new_name, new_tel)\n",
    "\n",
    "        #contact[new_name] = new_tel\n",
    "        contact.setdefault(new_name, new_tel)\n",
    "        \n",
    "    elif menu == 2 :\n",
    "        print('연락처를 조회합니다.')\n",
    "        print(contact)\n",
    "        for name, tel in contact.items():\n",
    "            print(name, ':', tel)\n",
    "        \n",
    "    elif menu == 3 :\n",
    "        print('연락처를 검색합니다.')\n",
    "        search_name = input('검색 이름 : ')\n",
    "        #print(contact[search_name])\n",
    "        print(contact.get(search_name, '없는 이름입니다.'))\n",
    "        \n",
    "    elif menu == 4 :\n",
    "        print('연락처를 수정합니다.')\n",
    "        mod_name = input('수정 이름 : ')\n",
    "\n",
    "        if mod_name in contact:\n",
    "            mod_tel = input('새 전화번호 : ')\n",
    "            contact[mod_name] = mod_tel\n",
    "        else : \n",
    "            print('등록되지 않은 이름입니다.')\n",
    "    \n",
    "    elif menu == 5 :\n",
    "        print('연락처를 삭제합니다.')\n",
    "        del_name = input('삭제 이름 : ')\n",
    "\n",
    "        if del_name in contact:\n",
    "            del contact[del_name]\n",
    "        else : \n",
    "            print('등록되지 않은 이름입니다.')\n",
    "\n",
    "    elif menu == 9 :\n",
    "        print('연락처를 종료합니다.')\n",
    "        break\n",
    "\n",
    "    else : \n",
    "        print('잘못된 입력입니다')"
   ]
  },
  {
   "cell_type": "code",
   "execution_count": null,
   "metadata": {},
   "outputs": [],
   "source": []
  },
  {
   "cell_type": "code",
   "execution_count": null,
   "metadata": {},
   "outputs": [],
   "source": []
  },
  {
   "cell_type": "code",
   "execution_count": null,
   "metadata": {},
   "outputs": [],
   "source": []
  },
  {
   "cell_type": "code",
   "execution_count": null,
   "metadata": {},
   "outputs": [],
   "source": []
  },
  {
   "cell_type": "code",
   "execution_count": null,
   "metadata": {},
   "outputs": [],
   "source": []
  },
  {
   "cell_type": "code",
   "execution_count": null,
   "metadata": {},
   "outputs": [],
   "source": []
  },
  {
   "cell_type": "code",
   "execution_count": null,
   "metadata": {},
   "outputs": [],
   "source": []
  },
  {
   "cell_type": "code",
   "execution_count": null,
   "metadata": {},
   "outputs": [],
   "source": []
  },
  {
   "cell_type": "code",
   "execution_count": null,
   "metadata": {},
   "outputs": [],
   "source": []
  },
  {
   "cell_type": "code",
   "execution_count": null,
   "metadata": {},
   "outputs": [],
   "source": []
  },
  {
   "cell_type": "code",
   "execution_count": null,
   "metadata": {},
   "outputs": [],
   "source": []
  }
 ],
 "metadata": {
  "kernelspec": {
   "display_name": "Python 3 (ipykernel)",
   "language": "python",
   "name": "python3"
  },
  "language_info": {
   "codemirror_mode": {
    "name": "ipython",
    "version": 3
   },
   "file_extension": ".py",
   "mimetype": "text/x-python",
   "name": "python",
   "nbconvert_exporter": "python",
   "pygments_lexer": "ipython3",
   "version": "3.12.4"
  }
 },
 "nbformat": 4,
 "nbformat_minor": 4
}
