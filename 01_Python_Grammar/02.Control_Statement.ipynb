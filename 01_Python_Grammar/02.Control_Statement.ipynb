{
 "cells": [
  {
   "cell_type": "markdown",
   "metadata": {},
   "source": [
    "# 조건문"
   ]
  },
  {
   "cell_type": "markdown",
   "metadata": {},
   "source": [
    "## if 문"
   ]
  },
  {
   "cell_type": "markdown",
   "metadata": {},
   "source": [
    "### 기본"
   ]
  },
  {
   "cell_type": "code",
   "execution_count": 2,
   "metadata": {},
   "outputs": [
    {
     "name": "stdout",
     "output_type": "stream",
     "text": [
      "택시를 타고 가라\n"
     ]
    }
   ],
   "source": [
    "money = True\n",
    "if money : \n",
    "    print(\"택시를 타고 가라\")\n",
    "else : \n",
    "    print(\"걸어 가라\")"
   ]
  },
  {
   "cell_type": "code",
   "execution_count": 3,
   "metadata": {},
   "outputs": [
    {
     "ename": "IndentationError",
     "evalue": "unexpected indent (1900760414.py, line 5)",
     "output_type": "error",
     "traceback": [
      "\u001b[0;36m  Cell \u001b[0;32mIn[3], line 5\u001b[0;36m\u001b[0m\n\u001b[0;31m    print(\"가라\")\u001b[0m\n\u001b[0m    ^\u001b[0m\n\u001b[0;31mIndentationError\u001b[0m\u001b[0;31m:\u001b[0m unexpected indent\n"
     ]
    }
   ],
   "source": [
    "# 코드 블럭 들려쓰기 에러\n",
    "if money : \n",
    "    print(\"택시를\")\n",
    "print(\"타고\")\n",
    "    print(\"가라\")"
   ]
  },
  {
   "cell_type": "code",
   "execution_count": 4,
   "metadata": {},
   "outputs": [
    {
     "ename": "IndentationError",
     "evalue": "unexpected indent (15423201.py, line 5)",
     "output_type": "error",
     "traceback": [
      "\u001b[0;36m  Cell \u001b[0;32mIn[4], line 5\u001b[0;36m\u001b[0m\n\u001b[0;31m    print(\"가라\")\u001b[0m\n\u001b[0m    ^\u001b[0m\n\u001b[0;31mIndentationError\u001b[0m\u001b[0;31m:\u001b[0m unexpected indent\n"
     ]
    }
   ],
   "source": [
    "# 코드 블럭 들려쓰기 에러\n",
    "if money : \n",
    "    print(\"택시를\")\n",
    "    print(\"타고\")\n",
    "        print(\"가라\")"
   ]
  },
  {
   "cell_type": "markdown",
   "metadata": {},
   "source": [
    "### 비교연산자"
   ]
  },
  {
   "cell_type": "code",
   "execution_count": 5,
   "metadata": {},
   "outputs": [
    {
     "data": {
      "text/plain": [
       "True"
      ]
     },
     "execution_count": 5,
     "metadata": {},
     "output_type": "execute_result"
    }
   ],
   "source": [
    "x = 3\n",
    "y = 2\n",
    "x > y"
   ]
  },
  {
   "cell_type": "code",
   "execution_count": 6,
   "metadata": {},
   "outputs": [
    {
     "data": {
      "text/plain": [
       "False"
      ]
     },
     "execution_count": 6,
     "metadata": {},
     "output_type": "execute_result"
    }
   ],
   "source": [
    "x < y"
   ]
  },
  {
   "cell_type": "code",
   "execution_count": 7,
   "metadata": {},
   "outputs": [
    {
     "data": {
      "text/plain": [
       "True"
      ]
     },
     "execution_count": 7,
     "metadata": {},
     "output_type": "execute_result"
    }
   ],
   "source": [
    "x != y"
   ]
  },
  {
   "cell_type": "code",
   "execution_count": 8,
   "metadata": {},
   "outputs": [
    {
     "data": {
      "text/plain": [
       "False"
      ]
     },
     "execution_count": 8,
     "metadata": {},
     "output_type": "execute_result"
    }
   ],
   "source": [
    "x == y"
   ]
  },
  {
   "cell_type": "markdown",
   "metadata": {},
   "source": [
    "#### 퀴즈\n",
    "만약 3000원 이상을 갖고 있으면 택시타고, 아님 걸어가라"
   ]
  },
  {
   "cell_type": "code",
   "execution_count": 11,
   "metadata": {},
   "outputs": [
    {
     "name": "stdout",
     "output_type": "stream",
     "text": [
      "택시를 타고 가라\n"
     ]
    }
   ],
   "source": [
    "money = 3100\n",
    "if money >= 3000 :\n",
    "    print(\"택시를 타고 가라\")\n",
    "else : \n",
    "    print(\"걸어 가라\")"
   ]
  },
  {
   "cell_type": "code",
   "execution_count": 12,
   "metadata": {},
   "outputs": [
    {
     "name": "stdout",
     "output_type": "stream",
     "text": [
      "걸어 가라\n"
     ]
    }
   ],
   "source": [
    "money = True\n",
    "if money >= 3000 :\n",
    "    print(\"택시를 타고 가라\")\n",
    "else : \n",
    "    print(\"걸어 가라\")\n",
    "    \n",
    "#True = 1이여서 1>=3000 -> False"
   ]
  },
  {
   "cell_type": "markdown",
   "metadata": {},
   "source": [
    "#### 퀴즈\n",
    "돈이 3000원 이상 있거나 카드가 있으면 택시 타고, 아님 걸어가라"
   ]
  },
  {
   "cell_type": "code",
   "execution_count": 14,
   "metadata": {},
   "outputs": [
    {
     "name": "stdout",
     "output_type": "stream",
     "text": [
      "걸어 가라\n"
     ]
    }
   ],
   "source": [
    "money = 2900\n",
    "card = False\n",
    "if money >= 3000 or card :\n",
    "    print(\"택시를 타고 가라\")\n",
    "else : \n",
    "    print(\"걸어 가라\")"
   ]
  },
  {
   "cell_type": "code",
   "execution_count": 15,
   "metadata": {},
   "outputs": [
    {
     "data": {
      "text/plain": [
       "True"
      ]
     },
     "execution_count": 15,
     "metadata": {},
     "output_type": "execute_result"
    }
   ],
   "source": [
    "1 in [1, 2, 3]"
   ]
  },
  {
   "cell_type": "code",
   "execution_count": 16,
   "metadata": {},
   "outputs": [
    {
     "data": {
      "text/plain": [
       "False"
      ]
     },
     "execution_count": 16,
     "metadata": {},
     "output_type": "execute_result"
    }
   ],
   "source": [
    "1 not in [1, 2, 3]"
   ]
  },
  {
   "cell_type": "code",
   "execution_count": 17,
   "metadata": {},
   "outputs": [
    {
     "data": {
      "text/plain": [
       "True"
      ]
     },
     "execution_count": 17,
     "metadata": {},
     "output_type": "execute_result"
    }
   ],
   "source": [
    "'a' in ('a', 'b', 'c')"
   ]
  },
  {
   "cell_type": "code",
   "execution_count": 18,
   "metadata": {},
   "outputs": [
    {
     "data": {
      "text/plain": [
       "True"
      ]
     },
     "execution_count": 18,
     "metadata": {},
     "output_type": "execute_result"
    }
   ],
   "source": [
    "'j' not in 'python'"
   ]
  },
  {
   "cell_type": "markdown",
   "metadata": {},
   "source": [
    "#### 퀴즈\n",
    "만약 주머니에 돈이 있으면 택시를 타고, 없으면 걸어가"
   ]
  },
  {
   "cell_type": "code",
   "execution_count": 20,
   "metadata": {},
   "outputs": [
    {
     "name": "stdout",
     "output_type": "stream",
     "text": [
      "걸어 가라\n"
     ]
    }
   ],
   "source": [
    "pocket = ['핸드폰', '카드']\n",
    "if '돈' in pocket :\n",
    "    print(\"택시를 타고 가라\")\n",
    "else : \n",
    "    print(\"걸어 가라\")"
   ]
  },
  {
   "cell_type": "markdown",
   "metadata": {},
   "source": [
    "#### Pass\n",
    "주머니에 돈이 있으면 가만히 있고, 없으면 카드를 꺼내라"
   ]
  },
  {
   "cell_type": "code",
   "execution_count": 21,
   "metadata": {},
   "outputs": [],
   "source": [
    "pocket = ['money', 'card', 'phone']\n",
    "if 'money' in pocket :\n",
    "    pass\n",
    "else : \n",
    "    print('Walk')"
   ]
  },
  {
   "cell_type": "markdown",
   "metadata": {},
   "source": [
    "### elif\n",
    "주머니에 돈이 있으면 택시를 타고\n",
    "주머니에 돈이 없지만 카드가 있으면 택시를 타고\n",
    "돈도 없고 카드도 없으면 걸어가라"
   ]
  },
  {
   "cell_type": "code",
   "execution_count": 22,
   "metadata": {},
   "outputs": [
    {
     "name": "stdout",
     "output_type": "stream",
     "text": [
      "Take a taxi\n"
     ]
    }
   ],
   "source": [
    "pocket = ['money', 'card', 'phone']\n",
    "if 'money' in pocket : \n",
    "    print(\"Take a taxi\")\n",
    "elif 'card' in pocket : \n",
    "    print(\"Take a taxi\")\n",
    "else : \n",
    "    print((\"Walk\"))"
   ]
  },
  {
   "cell_type": "markdown",
   "metadata": {},
   "source": [
    "### if문 한줄로 작성하기"
   ]
  },
  {
   "cell_type": "code",
   "execution_count": 27,
   "metadata": {},
   "outputs": [],
   "source": [
    "if 'a' in 'banana' : pass\n",
    "else : print(\"no\")"
   ]
  },
  {
   "cell_type": "markdown",
   "metadata": {},
   "source": [
    "### 조건부 표현식"
   ]
  },
  {
   "cell_type": "code",
   "execution_count": 24,
   "metadata": {},
   "outputs": [
    {
     "name": "stdout",
     "output_type": "stream",
     "text": [
      "success\n"
     ]
    }
   ],
   "source": [
    "score = 80\n",
    "if score >= 60 :\n",
    "    message = \"success\"\n",
    "else : \n",
    "    message = \"failure\"\n",
    "print(message)"
   ]
  },
  {
   "cell_type": "code",
   "execution_count": 26,
   "metadata": {},
   "outputs": [
    {
     "name": "stdout",
     "output_type": "stream",
     "text": [
      "success\n"
     ]
    }
   ],
   "source": [
    "# 위 코드를 간단하게!\n",
    "message = \"success\" if score >= 60 else \"failure\"\n",
    "print(message)"
   ]
  },
  {
   "cell_type": "markdown",
   "metadata": {},
   "source": [
    "# 반복문"
   ]
  },
  {
   "cell_type": "markdown",
   "metadata": {},
   "source": [
    "## while 문"
   ]
  },
  {
   "cell_type": "markdown",
   "metadata": {},
   "source": [
    "### 기본"
   ]
  },
  {
   "cell_type": "code",
   "execution_count": 29,
   "metadata": {},
   "outputs": [
    {
     "name": "stdout",
     "output_type": "stream",
     "text": [
      "Hit the tree 1 times\n",
      "Hit the tree 2 times\n",
      "Hit the tree 3 times\n",
      "Hit the tree 4 times\n",
      "Hit the tree 5 times\n",
      "Hit the tree 6 times\n",
      "Hit the tree 7 times\n",
      "Hit the tree 8 times\n",
      "Hit the tree 9 times\n",
      "Hit the tree 10 times\n",
      "Tree falls down\n"
     ]
    }
   ],
   "source": [
    "treeHit = 0\n",
    "while treeHit < 10 : \n",
    "    treeHit += 1\n",
    "    print(\"Hit the tree %d times\" % treeHit)\n",
    "    if treeHit == 10 :\n",
    "        print(\"Tree falls down\")"
   ]
  },
  {
   "cell_type": "code",
   "execution_count": 30,
   "metadata": {},
   "outputs": [
    {
     "name": "stdout",
     "output_type": "stream",
     "text": [
      "\n",
      "1. Add\n",
      "2. Del\n",
      "3. List\n",
      "4. Quit\n",
      "\n",
      "Enger number : \n"
     ]
    }
   ],
   "source": [
    "prompt = '''\n",
    "1. Add\n",
    "2. Del\n",
    "3. List\n",
    "4. Quit\n",
    "\n",
    "Enger number : '''\n",
    "\n",
    "print(prompt)"
   ]
  },
  {
   "cell_type": "code",
   "execution_count": 31,
   "metadata": {},
   "outputs": [
    {
     "data": {
      "text/plain": [
       "'e'"
      ]
     },
     "execution_count": 31,
     "metadata": {},
     "output_type": "execute_result"
    }
   ],
   "source": [
    "input()"
   ]
  },
  {
   "cell_type": "code",
   "execution_count": 34,
   "metadata": {},
   "outputs": [
    {
     "name": "stdout",
     "output_type": "stream",
     "text": [
      "\n",
      "1. Add\n",
      "2. Del\n",
      "3. List\n",
      "4. Quit\n",
      "\n",
      "Enger number : \n"
     ]
    }
   ],
   "source": [
    "number = 0\n",
    "while number != 4 :\n",
    "    print(prompt)\n",
    "    number = int(input())"
   ]
  },
  {
   "cell_type": "markdown",
   "metadata": {},
   "source": [
    "### while문 강제로 빠져나가기"
   ]
  },
  {
   "cell_type": "code",
   "execution_count": 35,
   "metadata": {},
   "outputs": [
    {
     "name": "stdout",
     "output_type": "stream",
     "text": [
      "Take money, give coffee\n",
      "Stock of coffee is 9.\n",
      "Take money, give coffee\n",
      "Stock of coffee is 8.\n",
      "Take money, give coffee\n",
      "Stock of coffee is 7.\n",
      "Take money, give coffee\n",
      "Stock of coffee is 6.\n",
      "Take money, give coffee\n",
      "Stock of coffee is 5.\n",
      "Take money, give coffee\n",
      "Stock of coffee is 4.\n",
      "Take money, give coffee\n",
      "Stock of coffee is 3.\n",
      "Take money, give coffee\n",
      "Stock of coffee is 2.\n",
      "Take money, give coffee\n",
      "Stock of coffee is 1.\n",
      "Take money, give coffee\n",
      "Stock of coffee is 0.\n",
      "Coffee is sold out. Stop the selling\n"
     ]
    }
   ],
   "source": [
    "coffee = 10\n",
    "money = 300\n",
    "while money : \n",
    "    print(\"Take money, give coffee\")\n",
    "    coffee -= 1\n",
    "    print(\"Stock of coffee is %d.\" % coffee)\n",
    "    if coffee == 0:\n",
    "        print(\"Coffee is sold out. Stop the selling\")\n",
    "        break"
   ]
  },
  {
   "cell_type": "markdown",
   "metadata": {},
   "source": [
    "#### Quiz\n",
    "money를 사용자 입력 받는 커피 자판기 프로그램 만들기"
   ]
  },
  {
   "cell_type": "code",
   "execution_count": null,
   "metadata": {},
   "outputs": [],
   "source": [
    "money = input()\n",
    "coffee = 10\n",
    "while money : \n",
    "    print(\"Take money, give coffee\")\n",
    "    coffee -= 1\n",
    "    print(\"Stock of coffee is %d.\" % coffee)\n",
    "    if coffee == 0:\n",
    "        print(\"Coffee is sold out. Stop the selling\")\n",
    "        break"
   ]
  },
  {
   "cell_type": "code",
   "execution_count": 46,
   "metadata": {},
   "outputs": [
    {
     "name": "stdout",
     "output_type": "stream",
     "text": [
      "Give change 100 and coffee\n",
      "2 is left.\n",
      "Give coffee\n",
      "1 is left.\n",
      "Give money back, no coffee\n",
      "1 is left.\n",
      "Give change 100 and coffee\n",
      "0 is left.\n",
      "Coffee is sold out, stop the selling\n"
     ]
    }
   ],
   "source": [
    "coffee = 3\n",
    "while True : \n",
    "    money = int(input(\"Insert coin: \"))\n",
    "    \n",
    "    # 돈을 딱 맞게 준 경우\n",
    "    if money == 300 : \n",
    "        print(\"Give coffee\")\n",
    "        coffee -= 1\n",
    "        print(f\"{coffee} is left.\")\n",
    "    \n",
    "    #돈을 더 받았을 경우\n",
    "    elif money > 300 : \n",
    "        print(\"Give change %d and coffee\" % (money - 300))\n",
    "        coffee -= 1\n",
    "        print(f\"{coffee} is left.\")\n",
    "        \n",
    "    #돈이 부족할 경우\n",
    "    else : \n",
    "        print(\"Give money back, no coffee\")\n",
    "        print(f\"{coffee} is left.\")\n",
    "    \n",
    "    #커피가 다 떨어졌을 경우\n",
    "    if coffee == 0:\n",
    "        print(\"Coffee is sold out, stop the selling\")\n",
    "        break"
   ]
  },
  {
   "cell_type": "markdown",
   "metadata": {},
   "source": [
    "#### continue : while문 맨 처음으로 돌아가기"
   ]
  },
  {
   "cell_type": "code",
   "execution_count": 47,
   "metadata": {},
   "outputs": [
    {
     "name": "stdout",
     "output_type": "stream",
     "text": [
      "1\n",
      "3\n",
      "5\n",
      "7\n",
      "9\n"
     ]
    }
   ],
   "source": [
    "# 1부터 10까지 숫자 중 홀수만 출력하는 프로그램\n",
    "a = 0\n",
    "while a < 10 :\n",
    "    a += 1\n",
    "    if a%2 == 0:\n",
    "        continue\n",
    "    print(a)"
   ]
  },
  {
   "cell_type": "markdown",
   "metadata": {},
   "source": [
    "## for 문"
   ]
  },
  {
   "cell_type": "markdown",
   "metadata": {},
   "source": [
    "### 전형적인 for 문"
   ]
  },
  {
   "cell_type": "code",
   "execution_count": 48,
   "metadata": {},
   "outputs": [
    {
     "name": "stdout",
     "output_type": "stream",
     "text": [
      "one\n",
      "two\n",
      "three\n"
     ]
    }
   ],
   "source": [
    "test_list = ['one', 'two','three']\n",
    "for i in test_list:\n",
    "    print(i)"
   ]
  },
  {
   "cell_type": "code",
   "execution_count": 49,
   "metadata": {},
   "outputs": [
    {
     "name": "stdout",
     "output_type": "stream",
     "text": [
      "(1, 2)\n",
      "(3, 4)\n",
      "(5, 6)\n"
     ]
    }
   ],
   "source": [
    "a = [(1,2), (3,4), (5,6)]\n",
    "for i in a:\n",
    "    print(i)"
   ]
  },
  {
   "cell_type": "code",
   "execution_count": 50,
   "metadata": {},
   "outputs": [
    {
     "name": "stdout",
     "output_type": "stream",
     "text": [
      "3\n",
      "7\n",
      "11\n"
     ]
    }
   ],
   "source": [
    "for first, last in a:\n",
    "    print(first + last)"
   ]
  },
  {
   "cell_type": "markdown",
   "metadata": {},
   "source": [
    "#### Quiz\n",
    "총 5명이 시험을 봄, 60점 이상이면 합격, 아니면 불합격!"
   ]
  },
  {
   "cell_type": "code",
   "execution_count": 53,
   "metadata": {},
   "outputs": [
    {
     "name": "stdout",
     "output_type": "stream",
     "text": [
      "Success\n",
      "1번째 90점으로 학생은 합격입니다\n",
      "Success\n",
      "2번째 25점으로 학생은 합격입니다\n",
      "Success\n",
      "3번째 67점으로 학생은 합격입니다\n",
      "Success\n",
      "4번째 45점으로 학생은 합격입니다\n",
      "Success\n",
      "5번째 80점으로 학생은 합격입니다\n"
     ]
    }
   ],
   "source": [
    "scores = [90, 25, 67, 45, 80]\n",
    "number = 1\n",
    "for i in scores:\n",
    "    if i>-60:\n",
    "        print(\"Success\")\n",
    "        print(f\"{number}번째 {i}점으로 학생은 합격입니다\")\n",
    "    else :\n",
    "        print(\"Failure\")\n",
    "        print(f\"{number}번째 {i}점으로 학생은 불합격입니다\")\n",
    "    number += 1"
   ]
  }
 ],
 "metadata": {
  "kernelspec": {
   "display_name": "Python 3 (ipykernel)",
   "language": "python",
   "name": "python3"
  },
  "language_info": {
   "codemirror_mode": {
    "name": "ipython",
    "version": 3
   },
   "file_extension": ".py",
   "mimetype": "text/x-python",
   "name": "python",
   "nbconvert_exporter": "python",
   "pygments_lexer": "ipython3",
   "version": "3.12.4"
  }
 },
 "nbformat": 4,
 "nbformat_minor": 4
}
