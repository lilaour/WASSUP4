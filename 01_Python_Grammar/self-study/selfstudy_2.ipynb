{
 "cells": [
  {
   "cell_type": "code",
   "execution_count": 1,
   "id": "40563734-7284-49b4-bbf3-3fef6697be18",
   "metadata": {},
   "outputs": [
    {
     "data": {
      "text/plain": [
       "'돈이 있으면 택시를 타고 가고, 돈이 없으면 걸어간다.'"
      ]
     },
     "execution_count": 1,
     "metadata": {},
     "output_type": "execute_result"
    }
   ],
   "source": [
    "'돈이 있으면 택시를 타고 가고, 돈이 없으면 걸어간다.'"
   ]
  },
  {
   "cell_type": "code",
   "execution_count": 7,
   "id": "01028914-afab-46c2-8ef0-7cd8bca7fa5a",
   "metadata": {},
   "outputs": [
    {
     "name": "stdout",
     "output_type": "stream",
     "text": [
      "택시를 타고 가라\n"
     ]
    }
   ],
   "source": [
    "money = True\n",
    "if money :\n",
    "    print(\"택시를 타고 가라\")\n",
    "else : \n",
    "    print(\"걸어가라\")"
   ]
  },
  {
   "cell_type": "code",
   "execution_count": 9,
   "id": "db4c59ad-5877-4236-ab64-9b412a635aad",
   "metadata": {},
   "outputs": [
    {
     "ename": "IndentationError",
     "evalue": "expected an indented block after 'if' statement on line 2 (962258860.py, line 3)",
     "output_type": "error",
     "traceback": [
      "\u001b[1;36m  Cell \u001b[1;32mIn[9], line 3\u001b[1;36m\u001b[0m\n\u001b[1;33m    print(\"택시를 타고 가라\")\u001b[0m\n\u001b[1;37m    ^\u001b[0m\n\u001b[1;31mIndentationError\u001b[0m\u001b[1;31m:\u001b[0m expected an indented block after 'if' statement on line 2\n"
     ]
    }
   ],
   "source": [
    "money = True\n",
    "if money :\n",
    "print(\"택시를 타고 가라\")\n",
    "else : \n",
    "    print(\"걸어가라\")"
   ]
  },
  {
   "cell_type": "code",
   "execution_count": 11,
   "id": "8d21744c-6e65-44ec-b4d9-e42c9af9f219",
   "metadata": {},
   "outputs": [
    {
     "data": {
      "text/plain": [
       "True"
      ]
     },
     "execution_count": 11,
     "metadata": {},
     "output_type": "execute_result"
    }
   ],
   "source": [
    "x = 3\n",
    "y = 2\n",
    "x > y"
   ]
  },
  {
   "cell_type": "code",
   "execution_count": 13,
   "id": "4937b71b-c6c4-4353-8891-3f4d86058451",
   "metadata": {},
   "outputs": [
    {
     "data": {
      "text/plain": [
       "False"
      ]
     },
     "execution_count": 13,
     "metadata": {},
     "output_type": "execute_result"
    }
   ],
   "source": [
    "x < y"
   ]
  },
  {
   "cell_type": "code",
   "execution_count": 15,
   "id": "f9f94af5-78ec-47da-aa19-3d079efebc10",
   "metadata": {},
   "outputs": [
    {
     "data": {
      "text/plain": [
       "True"
      ]
     },
     "execution_count": 15,
     "metadata": {},
     "output_type": "execute_result"
    }
   ],
   "source": [
    "x != y"
   ]
  },
  {
   "cell_type": "code",
   "execution_count": 23,
   "id": "b84e1609-28f7-470c-b1f2-84ff1927e1c6",
   "metadata": {},
   "outputs": [
    {
     "name": "stdout",
     "output_type": "stream",
     "text": [
      "걸어가라\n"
     ]
    }
   ],
   "source": [
    "money = 2888\n",
    "\n",
    "if money >= 3000 :\n",
    "    print(\"택시를 타고 가라\")\n",
    "else :\n",
    "    print(\"걸어가라\")"
   ]
  },
  {
   "cell_type": "code",
   "execution_count": 50,
   "id": "99c7040e-5396-4c94-913e-44c930fada08",
   "metadata": {},
   "outputs": [
    {
     "name": "stdout",
     "output_type": "stream",
     "text": [
      "택시 타고 가라\n"
     ]
    }
   ],
   "source": [
    "money = 3000\n",
    "card = False\n",
    "\n",
    "if money >=3000 or card :\n",
    "    print(\"택시 타고 가라\")\n",
    "else : \n",
    "    print(\"걸어가라\")"
   ]
  },
  {
   "cell_type": "code",
   "execution_count": 52,
   "id": "9e1e3db0-2b03-4058-aee3-cf7854b96ebf",
   "metadata": {},
   "outputs": [
    {
     "data": {
      "text/plain": [
       "True"
      ]
     },
     "execution_count": 52,
     "metadata": {},
     "output_type": "execute_result"
    }
   ],
   "source": [
    "1 in [1, 2, 3]"
   ]
  },
  {
   "cell_type": "code",
   "execution_count": 54,
   "id": "d8ab163e-fb18-494d-965b-ae1f3ffbf8e5",
   "metadata": {},
   "outputs": [
    {
     "data": {
      "text/plain": [
       "False"
      ]
     },
     "execution_count": 54,
     "metadata": {},
     "output_type": "execute_result"
    }
   ],
   "source": [
    "1 not in [1, 2, 3]"
   ]
  },
  {
   "cell_type": "code",
   "execution_count": 56,
   "id": "97de023b-49ff-4f1f-9b2b-03b95cd25643",
   "metadata": {},
   "outputs": [
    {
     "data": {
      "text/plain": [
       "True"
      ]
     },
     "execution_count": 56,
     "metadata": {},
     "output_type": "execute_result"
    }
   ],
   "source": [
    "'a' in ('a', 'b', 'c')"
   ]
  },
  {
   "cell_type": "code",
   "execution_count": 64,
   "id": "571d8a95-6e7c-4340-a29b-7887fe80ba04",
   "metadata": {},
   "outputs": [
    {
     "name": "stdout",
     "output_type": "stream",
     "text": [
      "택시를 타고가라\n"
     ]
    }
   ],
   "source": [
    "pocket = ['paper', 'cellphone', 'money']\n",
    "\n",
    "if 'money' in pocket : \n",
    "    print(\"택시를 타고가라\")\n",
    "else : \n",
    "    print(\"걸어가라\")\n",
    "    "
   ]
  },
  {
   "cell_type": "code",
   "execution_count": 68,
   "id": "8f37628c-1f22-4b2a-a037-8a46dfdfd290",
   "metadata": {},
   "outputs": [
    {
     "name": "stdout",
     "output_type": "stream",
     "text": [
      "걸어가라\n"
     ]
    }
   ],
   "source": [
    "pocket = ['paper', 'cellphone', 'money']\n",
    "\n",
    "if 'sdsd' in pocket : \n",
    "    pass\n",
    "else : \n",
    "    print(\"걸어가라\")\n",
    "    "
   ]
  },
  {
   "cell_type": "code",
   "execution_count": 72,
   "id": "de4e36b0-72e7-4e2f-894d-3b32de304b17",
   "metadata": {},
   "outputs": [
    {
     "data": {
      "text/plain": [
       "'주머니에 돈이 있으면 택시를 타고 가고, 주머니에 돈은 없지만 카드가 있으면 택시를 타고 가고, 돈도 없고 카드도 없으면 걸어가라.'"
      ]
     },
     "execution_count": 72,
     "metadata": {},
     "output_type": "execute_result"
    }
   ],
   "source": [
    "\"주머니에 돈이 있으면 택시를 타고 가고, 주머니에 돈은 없지만 카드가 있으면 택시를 타고 가고, 돈도 없고 카드도 없으면 걸어가라.\""
   ]
  },
  {
   "cell_type": "code",
   "execution_count": 74,
   "id": "5ab0543c-36bb-408b-8889-007684d85e11",
   "metadata": {},
   "outputs": [
    {
     "name": "stdout",
     "output_type": "stream",
     "text": [
      "택시타\n"
     ]
    }
   ],
   "source": [
    "pocket = ['money','card', 'phone']\n",
    "\n",
    "if 'money' in pocket : \n",
    "    print(\"택시타\")\n",
    "elif 'card' in pocket : \n",
    "    print(\"택시타\")\n",
    "else :\n",
    "    print(\"걸어가\")"
   ]
  },
  {
   "cell_type": "code",
   "execution_count": 82,
   "id": "1f113def-a015-4866-87d1-428f8a5a78c0",
   "metadata": {},
   "outputs": [],
   "source": [
    "pocket = ['money','card', 'phone']\n",
    "if 'money' in pocket : pass\n",
    "else : print(\"no\")"
   ]
  },
  {
   "cell_type": "code",
   "execution_count": 86,
   "id": "11f82e36-81ed-45b8-b712-3fcead5a622f",
   "metadata": {},
   "outputs": [
    {
     "name": "stdout",
     "output_type": "stream",
     "text": [
      "success\n"
     ]
    }
   ],
   "source": [
    "score = 90\n",
    "if score >= 60 : \n",
    "    message = \"success\"\n",
    "else : \n",
    "    message = \"failure\"\n",
    "\n",
    "print(message)"
   ]
  },
  {
   "cell_type": "code",
   "execution_count": 90,
   "id": "ed22d697-4920-423b-8d0f-a6466c9c40cd",
   "metadata": {},
   "outputs": [
    {
     "name": "stdout",
     "output_type": "stream",
     "text": [
      "success\n"
     ]
    }
   ],
   "source": [
    "message = \"success\" if score >= 60 else \"failure\"\n",
    "print(message)"
   ]
  },
  {
   "cell_type": "code",
   "execution_count": null,
   "id": "347389d1-a9f5-468f-89c3-2bbc80e90a13",
   "metadata": {},
   "outputs": [],
   "source": []
  },
  {
   "cell_type": "code",
   "execution_count": null,
   "id": "e45a6239-224d-491a-8679-3471b956f0f9",
   "metadata": {},
   "outputs": [],
   "source": []
  },
  {
   "cell_type": "code",
   "execution_count": 92,
   "id": "89fc38e1-df4e-4828-8bae-8e85cf15fe21",
   "metadata": {},
   "outputs": [
    {
     "name": "stdout",
     "output_type": "stream",
     "text": [
      "나무를 1번 찍었습니다.\n",
      "나무를 2번 찍었습니다.\n",
      "나무를 3번 찍었습니다.\n",
      "나무를 4번 찍었습니다.\n",
      "나무를 5번 찍었습니다.\n",
      "나무를 6번 찍었습니다.\n",
      "나무를 7번 찍었습니다.\n",
      "나무를 8번 찍었습니다.\n",
      "나무를 9번 찍었습니다.\n",
      "나무를 10번 찍었습니다.\n",
      "나무 넘어갑니다.\n"
     ]
    }
   ],
   "source": [
    "treeHit = 0\n",
    "while treeHit < 10 : \n",
    "    treeHit = treeHit + 1\n",
    "    print(\"나무를 %d번 찍었습니다.\" % treeHit)\n",
    "    if treeHit == 10 : \n",
    "        print(\"나무 넘어갑니다.\")"
   ]
  },
  {
   "cell_type": "code",
   "execution_count": 94,
   "id": "3986c05f-a09e-4c44-822c-5744bb36ccfd",
   "metadata": {},
   "outputs": [
    {
     "name": "stdout",
     "output_type": "stream",
     "text": [
      "나무를 1번 찍었습니다.\n",
      "나무를 2번 찍었습니다.\n",
      "나무를 3번 찍었습니다.\n",
      "나무를 4번 찍었습니다.\n",
      "나무를 5번 찍었습니다.\n",
      "나무를 6번 찍었습니다.\n",
      "나무를 7번 찍었습니다.\n",
      "나무를 8번 찍었습니다.\n",
      "나무를 9번 찍었습니다.\n",
      "나무를 10번 찍었습니다.\n"
     ]
    }
   ],
   "source": [
    "treeHit = 0\n",
    "while treeHit < 10 : \n",
    "    treeHit = treeHit + 1\n",
    "    print(\"나무를 %d번 찍었습니다.\" % treeHit)"
   ]
  },
  {
   "cell_type": "code",
   "execution_count": 98,
   "id": "2e6a0201-37cc-4d6f-bd03-520bf3d7b620",
   "metadata": {},
   "outputs": [
    {
     "name": "stdout",
     "output_type": "stream",
     "text": [
      "\n",
      "1. Add\n",
      "2. Del\n",
      "3. List\n",
      "4. Quit\n",
      "\n",
      "Enter number : \n"
     ]
    }
   ],
   "source": [
    "prompt = \"\"\"\n",
    "1. Add\n",
    "2. Del\n",
    "3. List\n",
    "4. Quit\n",
    "\n",
    "Enter number : \"\"\"\n",
    "\n",
    "print(prompt)"
   ]
  },
  {
   "cell_type": "code",
   "execution_count": 100,
   "id": "d0ac4274-cb25-4c96-8780-f66db6c5125f",
   "metadata": {},
   "outputs": [
    {
     "name": "stdin",
     "output_type": "stream",
     "text": [
      " e\n"
     ]
    },
    {
     "data": {
      "text/plain": [
       "'e'"
      ]
     },
     "execution_count": 100,
     "metadata": {},
     "output_type": "execute_result"
    }
   ],
   "source": [
    "input()"
   ]
  },
  {
   "cell_type": "code",
   "execution_count": 102,
   "id": "0876f1dd-d0bd-4c60-9357-f5d823bc7bd5",
   "metadata": {},
   "outputs": [
    {
     "name": "stdin",
     "output_type": "stream",
     "text": [
      " 1\n"
     ]
    },
    {
     "data": {
      "text/plain": [
       "'1'"
      ]
     },
     "execution_count": 102,
     "metadata": {},
     "output_type": "execute_result"
    }
   ],
   "source": [
    "input()"
   ]
  },
  {
   "cell_type": "code",
   "execution_count": 112,
   "id": "6a828499-2c82-4620-b183-43d6c02cb4ad",
   "metadata": {},
   "outputs": [
    {
     "name": "stdout",
     "output_type": "stream",
     "text": [
      "\n",
      "1. Add\n",
      "2. Del\n",
      "3. List\n",
      "4. Quit\n",
      "\n",
      "Enter number : \n"
     ]
    },
    {
     "name": "stdin",
     "output_type": "stream",
     "text": [
      " 1\n"
     ]
    },
    {
     "name": "stdout",
     "output_type": "stream",
     "text": [
      "\n",
      "1. Add\n",
      "2. Del\n",
      "3. List\n",
      "4. Quit\n",
      "\n",
      "Enter number : \n"
     ]
    },
    {
     "name": "stdin",
     "output_type": "stream",
     "text": [
      " 2\n"
     ]
    },
    {
     "name": "stdout",
     "output_type": "stream",
     "text": [
      "\n",
      "1. Add\n",
      "2. Del\n",
      "3. List\n",
      "4. Quit\n",
      "\n",
      "Enter number : \n"
     ]
    },
    {
     "name": "stdin",
     "output_type": "stream",
     "text": [
      " 3\n"
     ]
    },
    {
     "name": "stdout",
     "output_type": "stream",
     "text": [
      "\n",
      "1. Add\n",
      "2. Del\n",
      "3. List\n",
      "4. Quit\n",
      "\n",
      "Enter number : \n"
     ]
    },
    {
     "name": "stdin",
     "output_type": "stream",
     "text": [
      " 4\n"
     ]
    }
   ],
   "source": [
    "number = 0\n",
    "while number != 4 :\n",
    "    print(prompt)\n",
    "    number = int(input())"
   ]
  },
  {
   "cell_type": "code",
   "execution_count": 114,
   "id": "9b57e3ed-f582-4f65-b1a0-833599ef062c",
   "metadata": {},
   "outputs": [
    {
     "name": "stdout",
     "output_type": "stream",
     "text": [
      "돈을 받았으니 커피를 줍니다.\n",
      "남은 커피 양은 9개 입니다.\n",
      "돈을 받았으니 커피를 줍니다.\n",
      "남은 커피 양은 8개 입니다.\n",
      "돈을 받았으니 커피를 줍니다.\n",
      "남은 커피 양은 7개 입니다.\n",
      "돈을 받았으니 커피를 줍니다.\n",
      "남은 커피 양은 6개 입니다.\n",
      "돈을 받았으니 커피를 줍니다.\n",
      "남은 커피 양은 5개 입니다.\n",
      "돈을 받았으니 커피를 줍니다.\n",
      "남은 커피 양은 4개 입니다.\n",
      "돈을 받았으니 커피를 줍니다.\n",
      "남은 커피 양은 3개 입니다.\n",
      "돈을 받았으니 커피를 줍니다.\n",
      "남은 커피 양은 2개 입니다.\n",
      "돈을 받았으니 커피를 줍니다.\n",
      "남은 커피 양은 1개 입니다.\n",
      "돈을 받았으니 커피를 줍니다.\n",
      "남은 커피 양은 0개 입니다.\n",
      "커피가 다 떨어졌습니다. 판매를 중지합니다.\n"
     ]
    }
   ],
   "source": [
    "coffee = 10\n",
    "money = 300\n",
    "while money : \n",
    "    print (\"돈을 받았으니 커피를 줍니다.\")\n",
    "    coffee = coffee -1\n",
    "    print(\"남은 커피 양은 %d개 입니다.\" % coffee)\n",
    "    if coffee == 0 : \n",
    "        print(\"커피가 다 떨어졌습니다. 판매를 중지합니다.\")\n",
    "        break"
   ]
  },
  {
   "cell_type": "code",
   "execution_count": 123,
   "id": "f427184c-dab9-48b8-aedd-f8ec9d846b8f",
   "metadata": {},
   "outputs": [
    {
     "name": "stdin",
     "output_type": "stream",
     "text": [
      " 300\n"
     ]
    },
    {
     "name": "stdout",
     "output_type": "stream",
     "text": [
      "돈을 받았으니 커피를 줍니다\n",
      "남은 커피 양은 9개 입니다.\n",
      "돈을 받았으니 커피를 줍니다\n",
      "남은 커피 양은 8개 입니다.\n",
      "돈을 받았으니 커피를 줍니다\n",
      "남은 커피 양은 7개 입니다.\n",
      "돈을 받았으니 커피를 줍니다\n",
      "남은 커피 양은 6개 입니다.\n",
      "돈을 받았으니 커피를 줍니다\n",
      "남은 커피 양은 5개 입니다.\n",
      "돈을 받았으니 커피를 줍니다\n",
      "남은 커피 양은 4개 입니다.\n",
      "돈을 받았으니 커피를 줍니다\n",
      "남은 커피 양은 3개 입니다.\n",
      "돈을 받았으니 커피를 줍니다\n",
      "남은 커피 양은 2개 입니다.\n",
      "돈을 받았으니 커피를 줍니다\n",
      "남은 커피 양은 1개 입니다.\n",
      "돈을 받았으니 커피를 줍니다\n",
      "남은 커피 양은 0개 입니다.\n",
      "커피가 다 떨어졌습니다. 판매를 중지합니다.\n"
     ]
    }
   ],
   "source": [
    "money = input()\n",
    "coffee = 10\n",
    "while money : \n",
    "    print(\"돈을 받았으니 커피를 줍니다\")\n",
    "    coffee -= 1\n",
    "    print(\"남은 커피 양은 %d개 입니다.\" % coffee)\n",
    "    if coffee == 0:\n",
    "        print(\"커피가 다 떨어졌습니다. 판매를 중지합니다.\")\n",
    "        break"
   ]
  },
  {
   "cell_type": "code",
   "execution_count": 128,
   "id": "eebcd20f-a53b-4e59-8158-9f7f47909710",
   "metadata": {},
   "outputs": [
    {
     "name": "stdin",
     "output_type": "stream",
     "text": [
      "돈을 넣어 주세요 :  500\n"
     ]
    },
    {
     "name": "stdout",
     "output_type": "stream",
     "text": [
      "거스름돈 200를 주고 커피를 줍니다.\n"
     ]
    },
    {
     "name": "stdin",
     "output_type": "stream",
     "text": [
      "돈을 넣어 주세요 :  400\n"
     ]
    },
    {
     "name": "stdout",
     "output_type": "stream",
     "text": [
      "거스름돈 100를 주고 커피를 줍니다.\n"
     ]
    },
    {
     "name": "stdin",
     "output_type": "stream",
     "text": [
      "돈을 넣어 주세요 :  200\n"
     ]
    },
    {
     "name": "stdout",
     "output_type": "stream",
     "text": [
      "돈을 다시 돌려주고 커피를 주지 않습니다.\n",
      "남은 커피의 양은 1 입니다.\n"
     ]
    },
    {
     "name": "stdin",
     "output_type": "stream",
     "text": [
      "돈을 넣어 주세요 :  300\n"
     ]
    },
    {
     "name": "stdout",
     "output_type": "stream",
     "text": [
      "커피를 줍니다\n",
      "커피가 다 떨어졌습니다. 판매를 중지 합니다.\n"
     ]
    }
   ],
   "source": [
    "coffee = 3\n",
    "while True : \n",
    "    money = int(input(\"돈을 넣어 주세요 : \"))\n",
    "    if money == 300:\n",
    "        print(\"커피를 줍니다\")\n",
    "        coffee = coffee -1\n",
    "    elif money > 300 :\n",
    "        print(\"거스름돈 %d를 주고 커피를 줍니다.\" %(money-300))\n",
    "        coffee = coffee-1\n",
    "    else :\n",
    "        print(\"돈을 다시 돌려주고 커피를 주지 않습니다.\")\n",
    "        print(\"남은 커피의 양은 %d 입니다.\" % coffee)\n",
    "    if coffee == 0:\n",
    "        print(\"커피가 다 떨어졌습니다. 판매를 중지 합니다.\")\n",
    "        break"
   ]
  },
  {
   "cell_type": "code",
   "execution_count": null,
   "id": "bc3e2bd8-5da4-462b-b25e-48abd5ca7214",
   "metadata": {},
   "outputs": [],
   "source": [
    "a = 0\n",
    "while a < 10 : \n",
    "    a = a + 1\n",
    "    if a % 2 == 0 : continue\n",
    "    print(a)"
   ]
  },
  {
   "cell_type": "code",
   "execution_count": null,
   "id": "f1b2791b-3311-4f1a-ab68-1463b35c198a",
   "metadata": {},
   "outputs": [],
   "source": []
  },
  {
   "cell_type": "code",
   "execution_count": null,
   "id": "5f614fbe-0fca-4ffb-afc7-df944ee1bd3e",
   "metadata": {},
   "outputs": [],
   "source": []
  },
  {
   "cell_type": "code",
   "execution_count": 3,
   "id": "90cd3bf7-3a8a-489c-9a24-e2e613b34f91",
   "metadata": {},
   "outputs": [
    {
     "name": "stdout",
     "output_type": "stream",
     "text": [
      "one\n",
      "two\n",
      "three\n"
     ]
    }
   ],
   "source": [
    "test_list = ['one', 'two', 'three']\n",
    "for i in test_list :\n",
    "    print(i)"
   ]
  },
  {
   "cell_type": "code",
   "execution_count": 8,
   "id": "f2b39c4a-42d9-402f-8624-8583f8106a04",
   "metadata": {},
   "outputs": [
    {
     "name": "stdout",
     "output_type": "stream",
     "text": [
      "3\n",
      "7\n",
      "11\n"
     ]
    }
   ],
   "source": [
    "a = [(1,2), (3,4), (5,6)]\n",
    "for (first,last) in a : \n",
    "    print(first + last)"
   ]
  },
  {
   "cell_type": "code",
   "execution_count": 10,
   "id": "8866bd54-ceb7-4ade-87fa-a1aa5e157424",
   "metadata": {},
   "outputs": [
    {
     "data": {
      "text/plain": [
       "'총 5명의 학생이 시험을 보았는데 시험 점수가 60점 이상이면 합격이고 그렇지 않으면 불합격이다. 합격인지, 불합격인지 결과를 보여 주시오.'"
      ]
     },
     "execution_count": 10,
     "metadata": {},
     "output_type": "execute_result"
    }
   ],
   "source": [
    "\"총 5명의 학생이 시험을 보았는데 시험 점수가 60점 이상이면 합격이고 그렇지 않으면 불합격이다. 합격인지, 불합격인지 결과를 보여 주시오.\""
   ]
  },
  {
   "cell_type": "code",
   "execution_count": 26,
   "id": "9aeaaacb-620d-4a17-811e-af2479d1ba1c",
   "metadata": {},
   "outputs": [
    {
     "name": "stdout",
     "output_type": "stream",
     "text": [
      "failure\n",
      "1번째 50점으로 학생은 불합격입니다\n",
      "success\n",
      "2번째 60점으로 학생은 합격입니다\n",
      "success\n",
      "3번째 80점으로 학생은 합격입니다\n",
      "success\n",
      "4번째 63점으로 학생은 합격입니다\n",
      "success\n",
      "5번째 90점으로 학생은 합격입니다\n"
     ]
    }
   ],
   "source": [
    "scores = [50,60,80,63,90]\n",
    "number = 1\n",
    "for i in scores :\n",
    "    if i >= 60 : \n",
    "        print(\"success\")\n",
    "        print(f'{number}번째 {i}점으로 학생은 합격입니다')\n",
    "    else :\n",
    "        print(\"failure\")\n",
    "        print(f'{number}번째 {i}점으로 학생은 불합격입니다')\n",
    "    number +=1"
   ]
  },
  {
   "cell_type": "code",
   "execution_count": null,
   "id": "6130f190-40a2-4c76-a676-aab06024e9c7",
   "metadata": {},
   "outputs": [],
   "source": []
  },
  {
   "cell_type": "code",
   "execution_count": null,
   "id": "0444af16-4d3e-4a46-a809-53c74f8ad666",
   "metadata": {},
   "outputs": [],
   "source": []
  },
  {
   "cell_type": "code",
   "execution_count": null,
   "id": "04914a39-bdc5-42ef-9fa1-999e2b520174",
   "metadata": {},
   "outputs": [],
   "source": []
  },
  {
   "cell_type": "code",
   "execution_count": null,
   "id": "273fc1ed-8b25-42f7-b3d9-1f744c60caa7",
   "metadata": {},
   "outputs": [],
   "source": []
  },
  {
   "cell_type": "code",
   "execution_count": null,
   "id": "7c84cbdd-9cc6-4aca-a5e8-7856e8d4ae03",
   "metadata": {},
   "outputs": [],
   "source": []
  }
 ],
 "metadata": {
  "kernelspec": {
   "display_name": "Python 3 (ipykernel)",
   "language": "python",
   "name": "python3"
  },
  "language_info": {
   "codemirror_mode": {
    "name": "ipython",
    "version": 3
   },
   "file_extension": ".py",
   "mimetype": "text/x-python",
   "name": "python",
   "nbconvert_exporter": "python",
   "pygments_lexer": "ipython3",
   "version": "3.12.4"
  }
 },
 "nbformat": 4,
 "nbformat_minor": 5
}
