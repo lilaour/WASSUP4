{
 "cells": [
  {
   "cell_type": "markdown",
   "id": "9d589fdb-4d83-4eed-b925-f14331c65e29",
   "metadata": {},
   "source": [
    "# 자료형"
   ]
  },
  {
   "cell_type": "code",
   "execution_count": null,
   "id": "3595dc2b-c933-4eab-8353-51659f369703",
   "metadata": {},
   "outputs": [],
   "source": []
  },
  {
   "cell_type": "code",
   "execution_count": null,
   "id": "0c061c09-3291-41d2-914b-0097a3fd5587",
   "metadata": {},
   "outputs": [],
   "source": []
  },
  {
   "cell_type": "markdown",
   "id": "115d5e28-07c1-4427-a2f9-2fa625aa0760",
   "metadata": {},
   "source": [
    "## 숫자형"
   ]
  },
  {
   "cell_type": "code",
   "execution_count": 12,
   "id": "12ae2446-ca64-4924-bcf5-1923e478731c",
   "metadata": {},
   "outputs": [
    {
     "data": {
      "text/plain": [
       "123"
      ]
     },
     "execution_count": 12,
     "metadata": {},
     "output_type": "execute_result"
    }
   ],
   "source": [
    "a = 123\n",
    "a"
   ]
  },
  {
   "cell_type": "code",
   "execution_count": 14,
   "id": "10e3a4b6-db09-48cd-b644-843c5e73ac7a",
   "metadata": {},
   "outputs": [
    {
     "data": {
      "text/plain": [
       "1.2"
      ]
     },
     "execution_count": 14,
     "metadata": {},
     "output_type": "execute_result"
    }
   ],
   "source": [
    "a = 1.2\n",
    "a"
   ]
  },
  {
   "cell_type": "code",
   "execution_count": 16,
   "id": "94464c92-83cf-4371-87d1-22c4da1d4ca7",
   "metadata": {},
   "outputs": [
    {
     "data": {
      "text/plain": [
       "7"
      ]
     },
     "execution_count": 16,
     "metadata": {},
     "output_type": "execute_result"
    }
   ],
   "source": [
    "a = 3\n",
    "b = 4\n",
    "a + b"
   ]
  },
  {
   "cell_type": "code",
   "execution_count": 18,
   "id": "b7eb60fa-8474-4d51-b492-225b23bc1209",
   "metadata": {},
   "outputs": [
    {
     "data": {
      "text/plain": [
       "1"
      ]
     },
     "execution_count": 18,
     "metadata": {},
     "output_type": "execute_result"
    }
   ],
   "source": [
    "a - 2"
   ]
  },
  {
   "cell_type": "code",
   "execution_count": 22,
   "id": "07276498-a239-4c4c-9e78-8cfa3e8e0f43",
   "metadata": {},
   "outputs": [
    {
     "data": {
      "text/plain": [
       "12"
      ]
     },
     "execution_count": 22,
     "metadata": {},
     "output_type": "execute_result"
    }
   ],
   "source": [
    "a * b"
   ]
  },
  {
   "cell_type": "code",
   "execution_count": 24,
   "id": "b4cf687d-d8fe-46ff-be5b-0e3c34764084",
   "metadata": {},
   "outputs": [
    {
     "data": {
      "text/plain": [
       "0.75"
      ]
     },
     "execution_count": 24,
     "metadata": {},
     "output_type": "execute_result"
    }
   ],
   "source": [
    "a / b"
   ]
  },
  {
   "cell_type": "code",
   "execution_count": 26,
   "id": "90762e0f-7a4f-4f8d-99da-96d466319d62",
   "metadata": {},
   "outputs": [
    {
     "data": {
      "text/plain": [
       "81"
      ]
     },
     "execution_count": 26,
     "metadata": {},
     "output_type": "execute_result"
    }
   ],
   "source": [
    "a ** b"
   ]
  },
  {
   "cell_type": "code",
   "execution_count": 28,
   "id": "95cf1693-b52c-4967-b2fc-4aa7e5f6e936",
   "metadata": {},
   "outputs": [
    {
     "data": {
      "text/plain": [
       "1"
      ]
     },
     "execution_count": 28,
     "metadata": {},
     "output_type": "execute_result"
    }
   ],
   "source": [
    "7 % 3"
   ]
  },
  {
   "cell_type": "code",
   "execution_count": 30,
   "id": "6d2e5dd5-4f6f-4528-91a6-d65c4b3c2eee",
   "metadata": {},
   "outputs": [
    {
     "data": {
      "text/plain": [
       "1.75"
      ]
     },
     "execution_count": 30,
     "metadata": {},
     "output_type": "execute_result"
    }
   ],
   "source": [
    "7 / 4"
   ]
  },
  {
   "cell_type": "code",
   "execution_count": 32,
   "id": "70673480-5864-4118-9c3d-9a5431f269b8",
   "metadata": {},
   "outputs": [
    {
     "data": {
      "text/plain": [
       "1"
      ]
     },
     "execution_count": 32,
     "metadata": {},
     "output_type": "execute_result"
    }
   ],
   "source": [
    "7 // 4"
   ]
  },
  {
   "cell_type": "code",
   "execution_count": 44,
   "id": "997655c5-dd00-4b1c-b89a-c7daf5838d65",
   "metadata": {},
   "outputs": [
    {
     "data": {
      "text/plain": [
       "1"
      ]
     },
     "execution_count": 44,
     "metadata": {},
     "output_type": "execute_result"
    }
   ],
   "source": [
    "a = 1\n",
    "a"
   ]
  },
  {
   "cell_type": "code",
   "execution_count": 46,
   "id": "509836d7-54d6-40b1-8e55-5141ed86798e",
   "metadata": {},
   "outputs": [
    {
     "data": {
      "text/plain": [
       "2"
      ]
     },
     "execution_count": 46,
     "metadata": {},
     "output_type": "execute_result"
    }
   ],
   "source": [
    "a = a + 1\n",
    "a"
   ]
  },
  {
   "cell_type": "code",
   "execution_count": 52,
   "id": "96014e7c-e544-4d48-a90d-b348167c8528",
   "metadata": {},
   "outputs": [
    {
     "data": {
      "text/plain": [
       "2"
      ]
     },
     "execution_count": 52,
     "metadata": {},
     "output_type": "execute_result"
    }
   ],
   "source": [
    "a = 1\n",
    "a += 1 \n",
    "a"
   ]
  },
  {
   "cell_type": "markdown",
   "id": "c6235990-1306-4a9e-b7e9-410d5cb65630",
   "metadata": {},
   "source": [
    "## 문자열 자료형"
   ]
  },
  {
   "cell_type": "code",
   "execution_count": 55,
   "id": "91a93893-512e-4ed0-9c6c-9f5b45ea6d02",
   "metadata": {},
   "outputs": [
    {
     "data": {
      "text/plain": [
       "'Hello World'"
      ]
     },
     "execution_count": 55,
     "metadata": {},
     "output_type": "execute_result"
    }
   ],
   "source": [
    "\"Hello World\""
   ]
  },
  {
   "cell_type": "code",
   "execution_count": 57,
   "id": "52fb3647-691e-4f51-b7db-34ef0f0c3a64",
   "metadata": {},
   "outputs": [
    {
     "data": {
      "text/plain": [
       "'Python is fun'"
      ]
     },
     "execution_count": 57,
     "metadata": {},
     "output_type": "execute_result"
    }
   ],
   "source": [
    "'Python is fun'"
   ]
  },
  {
   "cell_type": "code",
   "execution_count": 59,
   "id": "979407ea-58f1-4b7a-9c3a-2c91978fd87a",
   "metadata": {},
   "outputs": [
    {
     "data": {
      "text/plain": [
       "'Life is too short, You need python'"
      ]
     },
     "execution_count": 59,
     "metadata": {},
     "output_type": "execute_result"
    }
   ],
   "source": [
    "\"\"\"Life is too short, You need python\"\"\""
   ]
  },
  {
   "cell_type": "code",
   "execution_count": 61,
   "id": "2d88e757-2cfb-452c-beaf-d2f29bb90e40",
   "metadata": {},
   "outputs": [
    {
     "data": {
      "text/plain": [
       "'Life is too short, You need python'"
      ]
     },
     "execution_count": 61,
     "metadata": {},
     "output_type": "execute_result"
    }
   ],
   "source": [
    "'''Life is too short, You need python'''"
   ]
  },
  {
   "cell_type": "code",
   "execution_count": 65,
   "id": "569462d6-536f-44f1-b7b0-a5cf7f5a32b5",
   "metadata": {},
   "outputs": [
    {
     "data": {
      "text/plain": [
       "\"Python's favorite food is perl\""
      ]
     },
     "execution_count": 65,
     "metadata": {},
     "output_type": "execute_result"
    }
   ],
   "source": [
    "food = \"Python's favorite food is perl\"\n",
    "food"
   ]
  },
  {
   "cell_type": "code",
   "execution_count": 69,
   "id": "c2304b03-437f-4e99-ad3e-7ac548f0493a",
   "metadata": {},
   "outputs": [
    {
     "ename": "SyntaxError",
     "evalue": "unterminated string literal (detected at line 1) (1974562179.py, line 1)",
     "output_type": "error",
     "traceback": [
      "\u001b[1;36m  Cell \u001b[1;32mIn[69], line 1\u001b[1;36m\u001b[0m\n\u001b[1;33m    'Python's favorite food is perl'\u001b[0m\n\u001b[1;37m                                   ^\u001b[0m\n\u001b[1;31mSyntaxError\u001b[0m\u001b[1;31m:\u001b[0m unterminated string literal (detected at line 1)\n"
     ]
    }
   ],
   "source": [
    "'Python's favorite food is perl'"
   ]
  },
  {
   "cell_type": "code",
   "execution_count": 73,
   "id": "e7897e5a-f3e6-4516-8a06-2918e05b983e",
   "metadata": {},
   "outputs": [
    {
     "data": {
      "text/plain": [
       "'Python \"ddd\" favorite food is perl'"
      ]
     },
     "execution_count": 73,
     "metadata": {},
     "output_type": "execute_result"
    }
   ],
   "source": [
    "food = 'Python \"ddd\" favorite food is perl'\n",
    "food"
   ]
  },
  {
   "cell_type": "code",
   "execution_count": 77,
   "id": "b9ce47ee-0134-4c17-8f07-e27b3d8ff096",
   "metadata": {},
   "outputs": [
    {
     "data": {
      "text/plain": [
       "\"Python's favorite food is perl\""
      ]
     },
     "execution_count": 77,
     "metadata": {},
     "output_type": "execute_result"
    }
   ],
   "source": [
    "food = 'Python\\'s favorite food is perl'\n",
    "food"
   ]
  },
  {
   "cell_type": "code",
   "execution_count": 79,
   "id": "e14e035b-5cae-4749-94d0-2a6b83bfed1e",
   "metadata": {},
   "outputs": [
    {
     "data": {
      "text/plain": [
       "'\"Python is very easy.\" he says.'"
      ]
     },
     "execution_count": 79,
     "metadata": {},
     "output_type": "execute_result"
    }
   ],
   "source": [
    "\"\\\"Python is very easy.\\\" he says.\""
   ]
  },
  {
   "cell_type": "code",
   "execution_count": 103,
   "id": "85b0abc8-add8-4a92-b5cf-b442b02c8447",
   "metadata": {},
   "outputs": [
    {
     "name": "stdout",
     "output_type": "stream",
     "text": [
      "Life is too short\n",
      "You need python\n"
     ]
    }
   ],
   "source": [
    "multiline = \"Life is too short\\nYou need python\"\n",
    "print(multiline)"
   ]
  },
  {
   "cell_type": "code",
   "execution_count": 117,
   "id": "b60766f3-45b8-46a4-a66e-311aba3f731c",
   "metadata": {},
   "outputs": [
    {
     "name": "stdout",
     "output_type": "stream",
     "text": [
      "'Life is too short.\n",
      "asdsdfdf\n",
      "You need python'\n"
     ]
    }
   ],
   "source": [
    "multiline=\"\"\"'Life is too short.\n",
    "asdsdfdf\n",
    "You need python'\"\"\"\n",
    "print(multiline)"
   ]
  },
  {
   "cell_type": "code",
   "execution_count": 121,
   "id": "37e053f3-e8d8-4610-a397-6a7035c17444",
   "metadata": {},
   "outputs": [
    {
     "data": {
      "text/plain": [
       "'Python is fun!'"
      ]
     },
     "execution_count": 121,
     "metadata": {},
     "output_type": "execute_result"
    }
   ],
   "source": [
    "head = \"Python\"\n",
    "tail = \" is fun!\"\n",
    "head + tail\n"
   ]
  },
  {
   "cell_type": "code",
   "execution_count": 127,
   "id": "467e8732-3dd0-4617-aad2-bbe85966d60c",
   "metadata": {},
   "outputs": [
    {
     "data": {
      "text/plain": [
       "'python python '"
      ]
     },
     "execution_count": 127,
     "metadata": {},
     "output_type": "execute_result"
    }
   ],
   "source": [
    "\"python \" *2"
   ]
  },
  {
   "cell_type": "code",
   "execution_count": 131,
   "id": "bf20246e-7c49-4b3e-8ff7-959885e45a3b",
   "metadata": {},
   "outputs": [
    {
     "data": {
      "text/plain": [
       "17"
      ]
     },
     "execution_count": 131,
     "metadata": {},
     "output_type": "execute_result"
    }
   ],
   "source": [
    "a = \"Life is too short\"\n",
    "len(a)"
   ]
  },
  {
   "cell_type": "code",
   "execution_count": 137,
   "id": "ca385fce-eeba-4da6-bd34-df821063494b",
   "metadata": {},
   "outputs": [
    {
     "data": {
      "text/plain": [
       "'Life is too short, You need Python'"
      ]
     },
     "execution_count": 137,
     "metadata": {},
     "output_type": "execute_result"
    }
   ],
   "source": [
    "b = \"Life is too short, You need Python\"\n",
    "b"
   ]
  },
  {
   "cell_type": "code",
   "execution_count": 141,
   "id": "77e0bb5c-65b9-4b1f-a6a4-b4c0dc71258d",
   "metadata": {},
   "outputs": [
    {
     "data": {
      "text/plain": [
       "'L'"
      ]
     },
     "execution_count": 141,
     "metadata": {},
     "output_type": "execute_result"
    }
   ],
   "source": [
    "b[0]"
   ]
  },
  {
   "cell_type": "code",
   "execution_count": 143,
   "id": "b090db98-2803-459b-bd5f-84867509dc08",
   "metadata": {},
   "outputs": [
    {
     "data": {
      "text/plain": [
       "'h'"
      ]
     },
     "execution_count": 143,
     "metadata": {},
     "output_type": "execute_result"
    }
   ],
   "source": [
    "b[-3]"
   ]
  },
  {
   "cell_type": "code",
   "execution_count": 145,
   "id": "ed9f5828-9607-4948-9ba2-3d2a93d27dc4",
   "metadata": {},
   "outputs": [
    {
     "data": {
      "text/plain": [
       "'Life'"
      ]
     },
     "execution_count": 145,
     "metadata": {},
     "output_type": "execute_result"
    }
   ],
   "source": [
    "a = \"Life is too short, You need Python\"\n",
    "a[0:4]"
   ]
  },
  {
   "cell_type": "code",
   "execution_count": 147,
   "id": "eaa44ccd-d66b-4bef-81f5-891fc89f100e",
   "metadata": {},
   "outputs": [
    {
     "data": {
      "text/plain": [
       "'Life is too short, You need Python'"
      ]
     },
     "execution_count": 147,
     "metadata": {},
     "output_type": "execute_result"
    }
   ],
   "source": [
    "a[0:]"
   ]
  },
  {
   "cell_type": "code",
   "execution_count": 149,
   "id": "3741aaa7-081e-4297-9b73-f38e658e84d9",
   "metadata": {},
   "outputs": [
    {
     "data": {
      "text/plain": [
       "'You need Python'"
      ]
     },
     "execution_count": 149,
     "metadata": {},
     "output_type": "execute_result"
    }
   ],
   "source": [
    "a[19:]"
   ]
  },
  {
   "cell_type": "code",
   "execution_count": 155,
   "id": "0665662b-3a15-4e4c-a614-46438aac982a",
   "metadata": {},
   "outputs": [
    {
     "data": {
      "text/plain": [
       "'Life is too short, You'"
      ]
     },
     "execution_count": 155,
     "metadata": {},
     "output_type": "execute_result"
    }
   ],
   "source": [
    "a[:22]"
   ]
  },
  {
   "cell_type": "code",
   "execution_count": 165,
   "id": "2288ac42-88fe-4858-9503-16e6e4778f01",
   "metadata": {},
   "outputs": [
    {
     "data": {
      "text/plain": [
       "'You need'"
      ]
     },
     "execution_count": 165,
     "metadata": {},
     "output_type": "execute_result"
    }
   ],
   "source": [
    "a[19:-7]"
   ]
  },
  {
   "cell_type": "code",
   "execution_count": 159,
   "id": "820a43f9-71d1-4b06-b6a3-1c59df4c5073",
   "metadata": {},
   "outputs": [
    {
     "data": {
      "text/plain": [
       "' '"
      ]
     },
     "execution_count": 159,
     "metadata": {},
     "output_type": "execute_result"
    }
   ],
   "source": [
    "a[-7]"
   ]
  },
  {
   "cell_type": "code",
   "execution_count": 179,
   "id": "9e0b4322-aff8-4545-b950-fe036cb4e3c3",
   "metadata": {},
   "outputs": [
    {
     "data": {
      "text/plain": [
       "'20230331'"
      ]
     },
     "execution_count": 179,
     "metadata": {},
     "output_type": "execute_result"
    }
   ],
   "source": [
    "a = \"20230331Rainy\"\n",
    "date = a[:8]\n",
    "date"
   ]
  },
  {
   "cell_type": "code",
   "execution_count": 183,
   "id": "69e9dbb3-4270-48d9-979e-48e0f01ee975",
   "metadata": {},
   "outputs": [
    {
     "data": {
      "text/plain": [
       "'Rainy'"
      ]
     },
     "execution_count": 183,
     "metadata": {},
     "output_type": "execute_result"
    }
   ],
   "source": [
    "weather = a[8:]\n",
    "weather"
   ]
  },
  {
   "cell_type": "code",
   "execution_count": 187,
   "id": "23687987-41ff-4853-a1d0-f4a1bbd31521",
   "metadata": {},
   "outputs": [
    {
     "data": {
      "text/plain": [
       "''"
      ]
     },
     "execution_count": 187,
     "metadata": {},
     "output_type": "execute_result"
    }
   ],
   "source": [
    "weather[-3:-5]"
   ]
  },
  {
   "cell_type": "code",
   "execution_count": 191,
   "id": "e92281ae-aa6a-41f5-9b4f-e4c2c4b2a458",
   "metadata": {},
   "outputs": [
    {
     "ename": "TypeError",
     "evalue": "'str' object does not support item assignment",
     "output_type": "error",
     "traceback": [
      "\u001b[1;31m---------------------------------------------------------------------------\u001b[0m",
      "\u001b[1;31mTypeError\u001b[0m                                 Traceback (most recent call last)",
      "Cell \u001b[1;32mIn[191], line 3\u001b[0m\n\u001b[0;32m      1\u001b[0m a \u001b[38;5;241m=\u001b[39m \u001b[38;5;124m\"\u001b[39m\u001b[38;5;124mPithon\u001b[39m\u001b[38;5;124m\"\u001b[39m\n\u001b[0;32m      2\u001b[0m a[\u001b[38;5;241m1\u001b[39m]\n\u001b[1;32m----> 3\u001b[0m a[\u001b[38;5;241m1\u001b[39m] \u001b[38;5;241m=\u001b[39m \u001b[38;5;124m'\u001b[39m\u001b[38;5;124my\u001b[39m\u001b[38;5;124m'\u001b[39m\n",
      "\u001b[1;31mTypeError\u001b[0m: 'str' object does not support item assignment"
     ]
    }
   ],
   "source": [
    "a = \"Pithon\"\n",
    "a[1]\n",
    "a[1] = 'y'"
   ]
  },
  {
   "cell_type": "code",
   "execution_count": 197,
   "id": "20bf75d8-4496-4520-8993-f4cd460a6c5c",
   "metadata": {},
   "outputs": [
    {
     "data": {
      "text/plain": [
       "'thon'"
      ]
     },
     "execution_count": 197,
     "metadata": {},
     "output_type": "execute_result"
    }
   ],
   "source": [
    "a \n",
    "a[0]\n",
    "a[2:]"
   ]
  },
  {
   "cell_type": "code",
   "execution_count": 201,
   "id": "32333649-684b-4d59-bae1-539408bd6f92",
   "metadata": {},
   "outputs": [
    {
     "data": {
      "text/plain": [
       "'Python'"
      ]
     },
     "execution_count": 201,
     "metadata": {},
     "output_type": "execute_result"
    }
   ],
   "source": [
    "a[0] + \"y\" + a[2:]"
   ]
  },
  {
   "cell_type": "code",
   "execution_count": 203,
   "id": "b19c2896-b22f-4d0f-bf47-3308349f4056",
   "metadata": {},
   "outputs": [
    {
     "data": {
      "text/plain": [
       "'I eat 3 apples.'"
      ]
     },
     "execution_count": 203,
     "metadata": {},
     "output_type": "execute_result"
    }
   ],
   "source": [
    "\"I eat %d apples.\" % 3"
   ]
  },
  {
   "cell_type": "code",
   "execution_count": 207,
   "id": "e10a86dc-0dbc-4bc2-882e-ffc3293317a0",
   "metadata": {},
   "outputs": [
    {
     "data": {
      "text/plain": [
       "'I eat five apples.'"
      ]
     },
     "execution_count": 207,
     "metadata": {},
     "output_type": "execute_result"
    }
   ],
   "source": [
    "\"I eat %s apples.\" % \"five\""
   ]
  },
  {
   "cell_type": "code",
   "execution_count": 221,
   "id": "0d47060b-62d0-4232-a1e1-797c0500ef20",
   "metadata": {},
   "outputs": [
    {
     "data": {
      "text/plain": [
       "'I am a 5'"
      ]
     },
     "execution_count": 221,
     "metadata": {},
     "output_type": "execute_result"
    }
   ],
   "source": [
    "\"I am a %d\" % 5"
   ]
  },
  {
   "cell_type": "code",
   "execution_count": 223,
   "id": "bab2999f-cd76-4de0-b9ce-df31c81aee85",
   "metadata": {},
   "outputs": [
    {
     "data": {
      "text/plain": [
       "'I eat 3 apples.'"
      ]
     },
     "execution_count": 223,
     "metadata": {},
     "output_type": "execute_result"
    }
   ],
   "source": [
    "number = 3\n",
    "\"I eat %d apples.\" % number\n"
   ]
  },
  {
   "cell_type": "code",
   "execution_count": 225,
   "id": "0371f111-cc50-4254-9256-412b6ae74e30",
   "metadata": {},
   "outputs": [
    {
     "data": {
      "text/plain": [
       "'I ate 10 apples. so I was sick for three days.'"
      ]
     },
     "execution_count": 225,
     "metadata": {},
     "output_type": "execute_result"
    }
   ],
   "source": [
    "number = 10\n",
    "day = \"three\"\n",
    "\"I ate %d apples. so I was sick for %s days.\" % (number, day)"
   ]
  },
  {
   "cell_type": "code",
   "execution_count": 229,
   "id": "977dca21-1465-4271-bf04-b71420926081",
   "metadata": {},
   "outputs": [
    {
     "data": {
      "text/plain": [
       "'I ate 5 apples. so I was sick for three days.'"
      ]
     },
     "execution_count": 229,
     "metadata": {},
     "output_type": "execute_result"
    }
   ],
   "source": [
    "\"I ate %d apples. so I was sick for %s days.\" % (5, \"three\")"
   ]
  },
  {
   "cell_type": "code",
   "execution_count": 231,
   "id": "1cfa7402-1c1b-4595-b3f5-392a7b1793f4",
   "metadata": {},
   "outputs": [
    {
     "ename": "ValueError",
     "evalue": "incomplete format",
     "output_type": "error",
     "traceback": [
      "\u001b[1;31m---------------------------------------------------------------------------\u001b[0m",
      "\u001b[1;31mValueError\u001b[0m                                Traceback (most recent call last)",
      "Cell \u001b[1;32mIn[231], line 1\u001b[0m\n\u001b[1;32m----> 1\u001b[0m \u001b[38;5;124m\"\u001b[39m\u001b[38;5;124mError is \u001b[39m\u001b[38;5;132;01m%d\u001b[39;00m\u001b[38;5;124m%\u001b[39m\u001b[38;5;124m.\u001b[39m\u001b[38;5;124m\"\u001b[39m \u001b[38;5;241m%\u001b[39m \u001b[38;5;241m98\u001b[39m\n",
      "\u001b[1;31mValueError\u001b[0m: incomplete format"
     ]
    }
   ],
   "source": [
    "\"Error is %d%.\" % 98"
   ]
  },
  {
   "cell_type": "code",
   "execution_count": 233,
   "id": "95d4dadb-e682-4144-bc98-cc9052d8b1c6",
   "metadata": {},
   "outputs": [
    {
     "data": {
      "text/plain": [
       "'Error is 98%.'"
      ]
     },
     "execution_count": 233,
     "metadata": {},
     "output_type": "execute_result"
    }
   ],
   "source": [
    "\"Error is %d%%.\" % 98"
   ]
  },
  {
   "cell_type": "code",
   "execution_count": 237,
   "id": "ba73db1b-f4f9-40ef-8fb7-aed02fc22db4",
   "metadata": {},
   "outputs": [
    {
     "data": {
      "text/plain": [
       "'        hi'"
      ]
     },
     "execution_count": 237,
     "metadata": {},
     "output_type": "execute_result"
    }
   ],
   "source": [
    "\"%10s\" % \"hi\""
   ]
  },
  {
   "cell_type": "code",
   "execution_count": 239,
   "id": "edae139d-e908-425f-b087-1b793217ecfe",
   "metadata": {},
   "outputs": [
    {
     "data": {
      "text/plain": [
       "'hi        jane.'"
      ]
     },
     "execution_count": 239,
     "metadata": {},
     "output_type": "execute_result"
    }
   ],
   "source": [
    "\"%-10sjane.\" % 'hi'"
   ]
  },
  {
   "cell_type": "code",
   "execution_count": 1,
   "id": "9c1772e2-6895-4fcf-b1d4-52f7ea45f839",
   "metadata": {},
   "outputs": [
    {
     "data": {
      "text/plain": [
       "'3.4123'"
      ]
     },
     "execution_count": 1,
     "metadata": {},
     "output_type": "execute_result"
    }
   ],
   "source": [
    "\"%0.4f\" % 3.41233434"
   ]
  },
  {
   "cell_type": "code",
   "execution_count": 58,
   "id": "2712b4c1-7f25-4b56-9e96-55a1217259f3",
   "metadata": {},
   "outputs": [
    {
     "data": {
      "text/plain": [
       "'    3.4213'"
      ]
     },
     "execution_count": 58,
     "metadata": {},
     "output_type": "execute_result"
    }
   ],
   "source": [
    "\"%10.4f\" % 3.42134234"
   ]
  },
  {
   "cell_type": "code",
   "execution_count": 7,
   "id": "2c4724f4-655e-479b-ae97-98262f38c05b",
   "metadata": {},
   "outputs": [
    {
     "data": {
      "text/plain": [
       "'I eat 3 apples'"
      ]
     },
     "execution_count": 7,
     "metadata": {},
     "output_type": "execute_result"
    }
   ],
   "source": [
    "\"I eat {0} apples\".format(3)"
   ]
  },
  {
   "cell_type": "code",
   "execution_count": 9,
   "id": "fafe43e2-f6ff-4b67-9e88-a721fe776a21",
   "metadata": {},
   "outputs": [
    {
     "data": {
      "text/plain": [
       "'I eat five apples'"
      ]
     },
     "execution_count": 9,
     "metadata": {},
     "output_type": "execute_result"
    }
   ],
   "source": [
    "\"I eat {0} apples\".format(\"five\")"
   ]
  },
  {
   "cell_type": "code",
   "execution_count": 15,
   "id": "647a704e-164d-461b-8a20-5fbbe4e5a062",
   "metadata": {},
   "outputs": [
    {
     "data": {
      "text/plain": [
       "'I eat 3 apples'"
      ]
     },
     "execution_count": 15,
     "metadata": {},
     "output_type": "execute_result"
    }
   ],
   "source": [
    "number = 3\n",
    "\"I eat {0} apples\".format(number)"
   ]
  },
  {
   "cell_type": "code",
   "execution_count": 17,
   "id": "be36d8a5-1802-4f4e-a417-01c606a96461",
   "metadata": {},
   "outputs": [
    {
     "data": {
      "text/plain": [
       "'I ate 3 apples. so I was sick for three days.'"
      ]
     },
     "execution_count": 17,
     "metadata": {},
     "output_type": "execute_result"
    }
   ],
   "source": [
    "\"I ate {0} apples. so I was sick for {1} days.\".format(3,\"three\")"
   ]
  },
  {
   "cell_type": "code",
   "execution_count": 23,
   "id": "cd04e177-887d-485d-8977-38b999a27b0b",
   "metadata": {},
   "outputs": [
    {
     "data": {
      "text/plain": [
       "'I ate 10 apples. so I was sick for three days.'"
      ]
     },
     "execution_count": 23,
     "metadata": {},
     "output_type": "execute_result"
    }
   ],
   "source": [
    "\"I ate {number} apples. so I was sick for {day} days.\".format(number=10, day=\"three\")"
   ]
  },
  {
   "cell_type": "code",
   "execution_count": 64,
   "id": "44197485-5320-45af-b7c3-6e3e5a1bb1ff",
   "metadata": {},
   "outputs": [
    {
     "data": {
      "text/plain": [
       "'hi                  '"
      ]
     },
     "execution_count": 64,
     "metadata": {},
     "output_type": "execute_result"
    }
   ],
   "source": [
    "\"{0:<20}\".format(\"hi\")"
   ]
  },
  {
   "cell_type": "code",
   "execution_count": 33,
   "id": "e0bc13cd-2b46-4967-a665-873fa64785d9",
   "metadata": {},
   "outputs": [
    {
     "data": {
      "text/plain": [
       "'        hi'"
      ]
     },
     "execution_count": 33,
     "metadata": {},
     "output_type": "execute_result"
    }
   ],
   "source": [
    "\"{0:>10}\".format(\"hi\")"
   ]
  },
  {
   "cell_type": "code",
   "execution_count": 40,
   "id": "775e15e7-f37e-4bd0-83dc-b66a16da6125",
   "metadata": {},
   "outputs": [
    {
     "data": {
      "text/plain": [
       "'    hi    '"
      ]
     },
     "execution_count": 40,
     "metadata": {},
     "output_type": "execute_result"
    }
   ],
   "source": [
    "\"{0:^10}\".format(\"hi\")"
   ]
  },
  {
   "cell_type": "code",
   "execution_count": 42,
   "id": "f01fd2cb-2c3c-4722-b6b3-cc37e744bc6c",
   "metadata": {},
   "outputs": [
    {
     "data": {
      "text/plain": [
       "'====hi===='"
      ]
     },
     "execution_count": 42,
     "metadata": {},
     "output_type": "execute_result"
    }
   ],
   "source": [
    "\"{0:=^10}\".format(\"hi\")"
   ]
  },
  {
   "cell_type": "code",
   "execution_count": 44,
   "id": "bb046222-dec4-475d-b1b4-5bd14fca0fed",
   "metadata": {},
   "outputs": [
    {
     "data": {
      "text/plain": [
       "'hi!!!!!!!!'"
      ]
     },
     "execution_count": 44,
     "metadata": {},
     "output_type": "execute_result"
    }
   ],
   "source": [
    "\"{0:!<10}\".format(\"hi\")"
   ]
  },
  {
   "cell_type": "code",
   "execution_count": 46,
   "id": "7a9dec19-17e5-4453-9658-cb46b20dadf9",
   "metadata": {},
   "outputs": [
    {
     "data": {
      "text/plain": [
       "'3.1231'"
      ]
     },
     "execution_count": 46,
     "metadata": {},
     "output_type": "execute_result"
    }
   ],
   "source": [
    "y = 3.1231423424\n",
    "\"{0:0.4f}\".format(y)"
   ]
  },
  {
   "cell_type": "code",
   "execution_count": 48,
   "id": "c0091751-ae93-4d8c-a529-6500ef9aed80",
   "metadata": {},
   "outputs": [
    {
     "data": {
      "text/plain": [
       "'    3.1231'"
      ]
     },
     "execution_count": 48,
     "metadata": {},
     "output_type": "execute_result"
    }
   ],
   "source": [
    "\"{0:10.4f}\".format(y)"
   ]
  },
  {
   "cell_type": "code",
   "execution_count": 54,
   "id": "e67edd1b-5e14-4442-a8c3-17a04c579440",
   "metadata": {},
   "outputs": [
    {
     "data": {
      "text/plain": [
       "'    3.1231'"
      ]
     },
     "execution_count": 54,
     "metadata": {},
     "output_type": "execute_result"
    }
   ],
   "source": [
    "\"{0:10.4f}\".format(y)"
   ]
  },
  {
   "cell_type": "code",
   "execution_count": 62,
   "id": "5fbf2961-d369-4baf-a076-e98f732185ac",
   "metadata": {},
   "outputs": [
    {
     "data": {
      "text/plain": [
       "'3.1231'"
      ]
     },
     "execution_count": 62,
     "metadata": {},
     "output_type": "execute_result"
    }
   ],
   "source": [
    "\"{0:0.4f}\".format(y)"
   ]
  },
  {
   "cell_type": "code",
   "execution_count": 66,
   "id": "079b414f-5764-4761-866a-6750e744b563",
   "metadata": {},
   "outputs": [
    {
     "data": {
      "text/plain": [
       "'나의 이름은 홍길동 입니다. 나이는 30 입니다.'"
      ]
     },
     "execution_count": 66,
     "metadata": {},
     "output_type": "execute_result"
    }
   ],
   "source": [
    "name = '홍길동'\n",
    "age = 30\n",
    "f'나의 이름은 {name} 입니다. 나이는 {age} 입니다.'"
   ]
  },
  {
   "cell_type": "code",
   "execution_count": 68,
   "id": "a6cedd2e-6be4-418b-999c-f77a88d4b17f",
   "metadata": {},
   "outputs": [
    {
     "data": {
      "text/plain": [
       "'나는 내년이면 31 살이 된다.'"
      ]
     },
     "execution_count": 68,
     "metadata": {},
     "output_type": "execute_result"
    }
   ],
   "source": [
    "age = 30\n",
    "f'나는 내년이면 {age + 1} 살이 된다.'"
   ]
  },
  {
   "cell_type": "code",
   "execution_count": 70,
   "id": "2f8c64e4-1711-412d-a3c2-afcfa2c637a7",
   "metadata": {},
   "outputs": [
    {
     "data": {
      "text/plain": [
       "' 나의 이름은 홍길동 입니다. 나이는 30 입니다.'"
      ]
     },
     "execution_count": 70,
     "metadata": {},
     "output_type": "execute_result"
    }
   ],
   "source": [
    "d = {'name' : '홍길동', 'age' : 30}\n",
    "f' 나의 이름은 {d[\"name\"]} 입니다. 나이는 {d[\"age\"]} 입니다.'"
   ]
  },
  {
   "cell_type": "code",
   "execution_count": 72,
   "id": "772ea60f-1523-46be-b12d-914fe985622b",
   "metadata": {},
   "outputs": [
    {
     "data": {
      "text/plain": [
       "'hi        '"
      ]
     },
     "execution_count": 72,
     "metadata": {},
     "output_type": "execute_result"
    }
   ],
   "source": [
    "f'{\"hi\":<10}'"
   ]
  },
  {
   "cell_type": "code",
   "execution_count": 74,
   "id": "8d42d97e-953b-4c6c-a1ab-c225cedb15ed",
   "metadata": {},
   "outputs": [
    {
     "data": {
      "text/plain": [
       "'    hi    '"
      ]
     },
     "execution_count": 74,
     "metadata": {},
     "output_type": "execute_result"
    }
   ],
   "source": [
    "f'{\"hi\":^10}'"
   ]
  },
  {
   "cell_type": "code",
   "execution_count": 78,
   "id": "97a8859f-31b7-48fc-8958-db74e3950dfc",
   "metadata": {},
   "outputs": [
    {
     "data": {
      "text/plain": [
       "'====hi===='"
      ]
     },
     "execution_count": 78,
     "metadata": {},
     "output_type": "execute_result"
    }
   ],
   "source": [
    "f'{\"hi\":=^10}'"
   ]
  },
  {
   "cell_type": "code",
   "execution_count": 80,
   "id": "b8dfd09d-86f5-4d03-a485-721e037f0922",
   "metadata": {},
   "outputs": [
    {
     "data": {
      "text/plain": [
       "'========hi'"
      ]
     },
     "execution_count": 80,
     "metadata": {},
     "output_type": "execute_result"
    }
   ],
   "source": [
    "f'{\"hi\":=>10}'"
   ]
  },
  {
   "cell_type": "code",
   "execution_count": 86,
   "id": "163eea44-8cde-43bd-b261-1eb6959609b9",
   "metadata": {},
   "outputs": [],
   "source": [
    "y = 3.1231423424"
   ]
  },
  {
   "cell_type": "code",
   "execution_count": 92,
   "id": "710fb5e2-301f-4cf0-bbc3-306a854d83c0",
   "metadata": {},
   "outputs": [
    {
     "data": {
      "text/plain": [
       "'3.1231'"
      ]
     },
     "execution_count": 92,
     "metadata": {},
     "output_type": "execute_result"
    }
   ],
   "source": [
    "y = 3.1231423424\n",
    "\"{0:0.4f}\".format(y)"
   ]
  },
  {
   "cell_type": "code",
   "execution_count": 96,
   "id": "a163bab6-f85f-42ba-8260-9193be08dc85",
   "metadata": {},
   "outputs": [
    {
     "data": {
      "text/plain": [
       "'3.1231'"
      ]
     },
     "execution_count": 96,
     "metadata": {},
     "output_type": "execute_result"
    }
   ],
   "source": [
    "f'{y:0.4f}'"
   ]
  },
  {
   "cell_type": "code",
   "execution_count": 98,
   "id": "28ab9c81-5a5e-4465-8984-5952cd5a0559",
   "metadata": {},
   "outputs": [
    {
     "data": {
      "text/plain": [
       "'{and}'"
      ]
     },
     "execution_count": 98,
     "metadata": {},
     "output_type": "execute_result"
    }
   ],
   "source": [
    "f'{{and}}'"
   ]
  },
  {
   "cell_type": "code",
   "execution_count": 100,
   "id": "fd49de86-f356-4e1a-855d-872c6678f3d7",
   "metadata": {},
   "outputs": [
    {
     "data": {
      "text/plain": [
       "2"
      ]
     },
     "execution_count": 100,
     "metadata": {},
     "output_type": "execute_result"
    }
   ],
   "source": [
    "a = \"hobby\"\n",
    "a.count('b')"
   ]
  },
  {
   "cell_type": "code",
   "execution_count": 114,
   "id": "250d7e66-1513-4730-b6ea-0f86e3188120",
   "metadata": {},
   "outputs": [],
   "source": [
    "a = \"Python is the best choice\""
   ]
  },
  {
   "cell_type": "code",
   "execution_count": 116,
   "id": "b0227928-bf9b-4c6d-a940-7f4e8f0fdb36",
   "metadata": {},
   "outputs": [
    {
     "data": {
      "text/plain": [
       "14"
      ]
     },
     "execution_count": 116,
     "metadata": {},
     "output_type": "execute_result"
    }
   ],
   "source": [
    "a.find('b')"
   ]
  },
  {
   "cell_type": "code",
   "execution_count": 118,
   "id": "317f0c27-57c3-4944-b2c1-e9959c8f0af4",
   "metadata": {},
   "outputs": [
    {
     "data": {
      "text/plain": [
       "-1"
      ]
     },
     "execution_count": 118,
     "metadata": {},
     "output_type": "execute_result"
    }
   ],
   "source": [
    "a.find('w')"
   ]
  },
  {
   "cell_type": "code",
   "execution_count": 120,
   "id": "b632411c-72b7-42e4-8f92-2d11c09f36a5",
   "metadata": {},
   "outputs": [
    {
     "data": {
      "text/plain": [
       "8"
      ]
     },
     "execution_count": 120,
     "metadata": {},
     "output_type": "execute_result"
    }
   ],
   "source": [
    "a = \"Life is too short\"\n",
    "a.index('t')"
   ]
  },
  {
   "cell_type": "code",
   "execution_count": 122,
   "id": "2d1f3f45-3cff-45f2-8a44-bd506b3f90ff",
   "metadata": {},
   "outputs": [
    {
     "data": {
      "text/plain": [
       "'a,b,c,d'"
      ]
     },
     "execution_count": 122,
     "metadata": {},
     "output_type": "execute_result"
    }
   ],
   "source": [
    "\",\".join('abcd')"
   ]
  },
  {
   "cell_type": "code",
   "execution_count": 124,
   "id": "b41e8e17-c29d-4948-91bb-001bf3403fb9",
   "metadata": {},
   "outputs": [
    {
     "data": {
      "text/plain": [
       "'HI'"
      ]
     },
     "execution_count": 124,
     "metadata": {},
     "output_type": "execute_result"
    }
   ],
   "source": [
    "a = \"hi\"\n",
    "a.upper()"
   ]
  },
  {
   "cell_type": "code",
   "execution_count": 126,
   "id": "8dee6bdc-88ea-4e34-8b83-48795fb3987c",
   "metadata": {},
   "outputs": [
    {
     "data": {
      "text/plain": [
       "'hi'"
      ]
     },
     "execution_count": 126,
     "metadata": {},
     "output_type": "execute_result"
    }
   ],
   "source": [
    "a = \"HI\"\n",
    "a.lower()"
   ]
  },
  {
   "cell_type": "code",
   "execution_count": 128,
   "id": "d0402e3e-2ba0-46b4-afc4-88f858972178",
   "metadata": {},
   "outputs": [
    {
     "data": {
      "text/plain": [
       "'hi'"
      ]
     },
     "execution_count": 128,
     "metadata": {},
     "output_type": "execute_result"
    }
   ],
   "source": [
    "a = \"    hi\"\n",
    "a.lstrip()"
   ]
  },
  {
   "cell_type": "code",
   "execution_count": 130,
   "id": "00caf8fe-7130-455d-9827-6b7deeda9b01",
   "metadata": {},
   "outputs": [
    {
     "data": {
      "text/plain": [
       "'hi'"
      ]
     },
     "execution_count": 130,
     "metadata": {},
     "output_type": "execute_result"
    }
   ],
   "source": [
    "a = \"hi         \"\n",
    "a.rstrip()"
   ]
  },
  {
   "cell_type": "code",
   "execution_count": 132,
   "id": "c20e6efd-cf73-4e67-8751-705e3dea14f8",
   "metadata": {},
   "outputs": [
    {
     "data": {
      "text/plain": [
       "'hi'"
      ]
     },
     "execution_count": 132,
     "metadata": {},
     "output_type": "execute_result"
    }
   ],
   "source": [
    "a = \"           hi                \"\n",
    "a.strip()"
   ]
  },
  {
   "cell_type": "code",
   "execution_count": 144,
   "id": "561fef30-ab16-4dec-baf8-da2155548cde",
   "metadata": {},
   "outputs": [
    {
     "data": {
      "text/plain": [
       "'Your leg is too short'"
      ]
     },
     "execution_count": 144,
     "metadata": {},
     "output_type": "execute_result"
    }
   ],
   "source": [
    "a = \"Life is too short\"\n",
    "a.replace(\"Life\", \"Your leg\")"
   ]
  },
  {
   "cell_type": "code",
   "execution_count": 136,
   "id": "e5b38765-89b7-4c18-bffe-cb3df8755ea2",
   "metadata": {},
   "outputs": [
    {
     "data": {
      "text/plain": [
       "['Life', 'is', 'too', 'short']"
      ]
     },
     "execution_count": 136,
     "metadata": {},
     "output_type": "execute_result"
    }
   ],
   "source": [
    "a = \"Life is too short\"\n",
    "a.split()"
   ]
  },
  {
   "cell_type": "code",
   "execution_count": 138,
   "id": "3658fa5d-272f-43bc-948c-832a0b14acd3",
   "metadata": {},
   "outputs": [
    {
     "data": {
      "text/plain": [
       "['a', 'b', 'c', 'd']"
      ]
     },
     "execution_count": 138,
     "metadata": {},
     "output_type": "execute_result"
    }
   ],
   "source": [
    "b = \"a:b:c:d\"\n",
    "b.split(':')"
   ]
  },
  {
   "cell_type": "code",
   "execution_count": null,
   "id": "23494abb-2ea9-486e-a739-6a03e63f7e09",
   "metadata": {},
   "outputs": [],
   "source": []
  },
  {
   "cell_type": "code",
   "execution_count": null,
   "id": "cf27f94f-6118-40d0-ae0a-a59dd2508714",
   "metadata": {},
   "outputs": [],
   "source": []
  },
  {
   "cell_type": "code",
   "execution_count": null,
   "id": "65c3e8fa-d344-460a-97c0-2b5a254f1dff",
   "metadata": {},
   "outputs": [],
   "source": []
  }
 ],
 "metadata": {
  "kernelspec": {
   "display_name": "Python 3 (ipykernel)",
   "language": "python",
   "name": "python3"
  },
  "language_info": {
   "codemirror_mode": {
    "name": "ipython",
    "version": 3
   },
   "file_extension": ".py",
   "mimetype": "text/x-python",
   "name": "python",
   "nbconvert_exporter": "python",
   "pygments_lexer": "ipython3",
   "version": "3.12.4"
  }
 },
 "nbformat": 4,
 "nbformat_minor": 5
}
