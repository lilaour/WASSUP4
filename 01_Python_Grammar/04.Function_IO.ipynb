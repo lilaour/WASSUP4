{
 "cells": [
  {
   "cell_type": "markdown",
   "id": "30ac4234-ceca-4a49-b41a-e92b63a5f633",
   "metadata": {},
   "source": [
    "# 함수와 입출력"
   ]
  },
  {
   "cell_type": "markdown",
   "id": "7569a01c-0547-4e7e-b9d9-4dfb09fe2f1d",
   "metadata": {},
   "source": [
    "## 함수의 구조"
   ]
  },
  {
   "cell_type": "code",
   "execution_count": 5,
   "id": "7eb3e0b8-1730-4053-a353-732199201e0a",
   "metadata": {},
   "outputs": [],
   "source": [
    "def add(a,b) :\n",
    "    return a + b"
   ]
  },
  {
   "cell_type": "code",
   "execution_count": 7,
   "id": "5e8383a0-f041-4b35-8b6f-c25d008201cb",
   "metadata": {},
   "outputs": [
    {
     "name": "stdout",
     "output_type": "stream",
     "text": [
      "7\n"
     ]
    }
   ],
   "source": [
    "a = 3\n",
    "b = 4\n",
    "c = add(a,b)\n",
    "print(c)"
   ]
  },
  {
   "cell_type": "markdown",
   "id": "6be5a4f2-1ed8-46e3-b712-acb925ae0ff0",
   "metadata": {},
   "source": [
    "## 매개변수와 인수"
   ]
  },
  {
   "cell_type": "code",
   "execution_count": 11,
   "id": "e570e577-015c-444e-84e4-a7d7e1b0964e",
   "metadata": {},
   "outputs": [
    {
     "name": "stdout",
     "output_type": "stream",
     "text": [
      "7\n"
     ]
    }
   ],
   "source": [
    "def add(a,b) :#a,b는 매개변수\n",
    "    return a + b\n",
    "print(add(3,4))  #3,4는 인수"
   ]
  },
  {
   "cell_type": "markdown",
   "id": "65753d14-39b9-4aa4-960f-0b745d573f7c",
   "metadata": {},
   "source": [
    "## 입력값과 리턴값에 따른 함수의 형태"
   ]
  },
  {
   "cell_type": "code",
   "execution_count": 17,
   "id": "d2442444-9780-4556-9568-1733ddf4ab56",
   "metadata": {},
   "outputs": [],
   "source": [
    "def add(a,b) :#a,b는 매개변수\n",
    "    result =  a + b\n",
    "    return result"
   ]
  },
  {
   "cell_type": "code",
   "execution_count": 19,
   "id": "52eedba6-2246-4032-b335-39736d3ac9e9",
   "metadata": {},
   "outputs": [
    {
     "data": {
      "text/plain": [
       "7"
      ]
     },
     "execution_count": 19,
     "metadata": {},
     "output_type": "execute_result"
    }
   ],
   "source": [
    "add(3,4)"
   ]
  },
  {
   "cell_type": "code",
   "execution_count": 21,
   "id": "68f446d3-8f0e-4b59-beb4-10da3c55d284",
   "metadata": {},
   "outputs": [],
   "source": [
    "# 입력값이 없는 변수\n",
    "def say() : \n",
    "    return 'Hi'"
   ]
  },
  {
   "cell_type": "code",
   "execution_count": 25,
   "id": "a6cdcd28-05d5-400b-93f6-b8650976279d",
   "metadata": {},
   "outputs": [
    {
     "data": {
      "text/plain": [
       "'Hi'"
      ]
     },
     "execution_count": 25,
     "metadata": {},
     "output_type": "execute_result"
    }
   ],
   "source": [
    "say()"
   ]
  },
  {
   "cell_type": "code",
   "execution_count": 41,
   "id": "760b7c9c-008f-4ba2-91c8-10cbfb015bb6",
   "metadata": {},
   "outputs": [],
   "source": [
    "def add2(a, b): \n",
    "     print(\"%d, %d의 합은 %d입니다.\" % (a, b, a+b))"
   ]
  },
  {
   "cell_type": "code",
   "execution_count": 43,
   "id": "de82061b-7d03-4650-a7c6-589758a085b1",
   "metadata": {},
   "outputs": [
    {
     "name": "stdout",
     "output_type": "stream",
     "text": [
      "3, 4의 합은 7입니다.\n"
     ]
    }
   ],
   "source": [
    "add2(3,4)"
   ]
  },
  {
   "cell_type": "code",
   "execution_count": 45,
   "id": "56283368-2ebf-4ac5-82ed-ee6188c98030",
   "metadata": {},
   "outputs": [
    {
     "name": "stdout",
     "output_type": "stream",
     "text": [
      "3, 4의 합은 7입니다.\n"
     ]
    }
   ],
   "source": [
    "c = add2(3,4)"
   ]
  },
  {
   "cell_type": "code",
   "execution_count": 47,
   "id": "eacc3385-e3e7-481f-980f-caa1f0ee1a34",
   "metadata": {},
   "outputs": [
    {
     "name": "stdout",
     "output_type": "stream",
     "text": [
      "None\n"
     ]
    }
   ],
   "source": [
    "print(c)"
   ]
  },
  {
   "cell_type": "code",
   "execution_count": 53,
   "id": "9c75e540-986d-43cf-8e79-5c99d8d3d186",
   "metadata": {},
   "outputs": [],
   "source": [
    "# 입력값도, 리턴값도 없는 함수\n",
    "def say2() : \n",
    "    print(\"HI\")"
   ]
  },
  {
   "cell_type": "code",
   "execution_count": 55,
   "id": "15937185-1075-4d7d-986c-07fc534bb418",
   "metadata": {},
   "outputs": [
    {
     "name": "stdout",
     "output_type": "stream",
     "text": [
      "HI\n"
     ]
    }
   ],
   "source": [
    "say2()"
   ]
  },
  {
   "cell_type": "code",
   "execution_count": 57,
   "id": "2599e7ba-b187-46d7-8e32-ff0a8dafd6d5",
   "metadata": {},
   "outputs": [
    {
     "name": "stdout",
     "output_type": "stream",
     "text": [
      "HI\n"
     ]
    }
   ],
   "source": [
    "d = say2()"
   ]
  },
  {
   "cell_type": "code",
   "execution_count": 59,
   "id": "e55b129c-4894-40ea-9829-ca466e037211",
   "metadata": {},
   "outputs": [
    {
     "name": "stdout",
     "output_type": "stream",
     "text": [
      "None\n"
     ]
    }
   ],
   "source": [
    "print(d)"
   ]
  },
  {
   "cell_type": "markdown",
   "id": "fef1c00b-0e2e-4f4e-8e4c-c4cb5282655a",
   "metadata": {},
   "source": [
    "## 매개변수를 지정하여 호출하기"
   ]
  },
  {
   "cell_type": "code",
   "execution_count": 62,
   "id": "f25965ef-17d0-4a66-afd1-a2e451a9bd33",
   "metadata": {},
   "outputs": [],
   "source": [
    "def sub(a,b) : \n",
    "    return a-b"
   ]
  },
  {
   "cell_type": "code",
   "execution_count": 66,
   "id": "456f7696-5aad-461f-a10f-c2e408ab9106",
   "metadata": {},
   "outputs": [
    {
     "name": "stdout",
     "output_type": "stream",
     "text": [
      "2\n"
     ]
    }
   ],
   "source": [
    "result = sub(a=5, b=3)\n",
    "print(result)"
   ]
  },
  {
   "cell_type": "markdown",
   "id": "42a0c6c0-eed0-4ae9-9257-c8a14ac49003",
   "metadata": {},
   "source": [
    "## 입력값이 몇 개가 될지 모를 때는 어떻게 해야 할까?"
   ]
  },
  {
   "cell_type": "code",
   "execution_count": 87,
   "id": "b51bee46-36ca-4be7-a199-f7562aa3fc41",
   "metadata": {},
   "outputs": [],
   "source": [
    "# 사용자의 입력이 몇개든, 전부다 누적해서 더해주는 함수\n",
    "def add_many(*args): \n",
    "     result = 0 \n",
    "     for i in args: \n",
    "         result = result + i   # *args에 입력받은 모든 값을 더한다.\n",
    "     return result "
   ]
  },
  {
   "cell_type": "code",
   "execution_count": 89,
   "id": "c0a89acb-1303-4db9-b952-47120cb572ab",
   "metadata": {},
   "outputs": [
    {
     "data": {
      "text/plain": [
       "30"
      ]
     },
     "execution_count": 89,
     "metadata": {},
     "output_type": "execute_result"
    }
   ],
   "source": [
    "add_many(2, 3, 4, 6, 7, 8)"
   ]
  },
  {
   "cell_type": "markdown",
   "id": "854f0f84-5675-49fb-8225-ce6b4a0ff842",
   "metadata": {},
   "source": [
    "## quiz\n",
    "사용자에게 다수의 입력을 받아서 옵션에 따라서 누적곱 또는 누적합을 출력하는 함수를 만들어라"
   ]
  },
  {
   "cell_type": "code",
   "execution_count": 114,
   "id": "7c8c1522-0ffb-45d7-a621-0c4bf02aadcb",
   "metadata": {},
   "outputs": [],
   "source": [
    "def add_mul(option, *args) :\n",
    "    if option == 'mul' :\n",
    "        data = 1\n",
    "        for i in args :\n",
    "            data = data * i\n",
    "        return data\n",
    "    \n",
    "    if option == 'sum' :\n",
    "        data = 0\n",
    "        for i in args :\n",
    "            data = data + i\n",
    "        return data"
   ]
  },
  {
   "cell_type": "code",
   "execution_count": 116,
   "id": "ca7e30cd-a83e-4a17-810f-e64c2f5454c1",
   "metadata": {},
   "outputs": [
    {
     "data": {
      "text/plain": [
       "120"
      ]
     },
     "execution_count": 116,
     "metadata": {},
     "output_type": "execute_result"
    }
   ],
   "source": [
    "add_mul('mul', 1, 2, 3, 4, 5)"
   ]
  },
  {
   "cell_type": "code",
   "execution_count": 118,
   "id": "60960b9d-87d7-494e-8a2d-4fabb513d668",
   "metadata": {},
   "outputs": [
    {
     "data": {
      "text/plain": [
       "15"
      ]
     },
     "execution_count": 118,
     "metadata": {},
     "output_type": "execute_result"
    }
   ],
   "source": [
    "add_mul('sum', 1, 2, 3, 4, 5)"
   ]
  },
  {
   "cell_type": "markdown",
   "id": "1e20b2f4-c0a6-42af-b896-faca552f8a56",
   "metadata": {},
   "source": [
    "## 키워드 매개변수, kwargs"
   ]
  },
  {
   "cell_type": "code",
   "execution_count": 121,
   "id": "71d9dccb-2d02-4692-905a-86802837bef4",
   "metadata": {},
   "outputs": [],
   "source": [
    " def print_kwargs(**kwargs):\n",
    "     print(kwargs)"
   ]
  },
  {
   "cell_type": "code",
   "execution_count": 123,
   "id": "65242153-4b51-4528-a298-fc2ce4c6edd8",
   "metadata": {},
   "outputs": [
    {
     "name": "stdout",
     "output_type": "stream",
     "text": [
      "{'a': 1}\n"
     ]
    }
   ],
   "source": [
    "print_kwargs(a=1)"
   ]
  },
  {
   "cell_type": "code",
   "execution_count": 125,
   "id": "f9790e3e-0275-4951-a06c-2c7bd0d738ea",
   "metadata": {},
   "outputs": [
    {
     "name": "stdout",
     "output_type": "stream",
     "text": [
      "{'name': 'maeng', 'age': 20}\n"
     ]
    }
   ],
   "source": [
    "print_kwargs(name = 'maeng', age = 20)"
   ]
  },
  {
   "cell_type": "markdown",
   "id": "d663b21f-289a-469b-b842-778223f745b1",
   "metadata": {},
   "source": [
    "## 함수의 리턴값은 언제나 하나이다."
   ]
  },
  {
   "cell_type": "code",
   "execution_count": 128,
   "id": "1e9bb858-7091-4e36-b529-3bee0fb485fd",
   "metadata": {},
   "outputs": [],
   "source": [
    "def add_and_mul(a,b) :\n",
    "    return a+b, a*b"
   ]
  },
  {
   "cell_type": "code",
   "execution_count": 130,
   "id": "75d579b4-3667-47a9-83b1-5d8abe938ba1",
   "metadata": {},
   "outputs": [
    {
     "data": {
      "text/plain": [
       "(7, 12)"
      ]
     },
     "execution_count": 130,
     "metadata": {},
     "output_type": "execute_result"
    }
   ],
   "source": [
    "add_and_mul(3,4)"
   ]
  },
  {
   "cell_type": "code",
   "execution_count": 132,
   "id": "374456ea-95d2-4aaf-879b-c75779af9b58",
   "metadata": {},
   "outputs": [
    {
     "data": {
      "text/plain": [
       "7"
      ]
     },
     "execution_count": 132,
     "metadata": {},
     "output_type": "execute_result"
    }
   ],
   "source": [
    "result1, result2 = add_and_mul(3, 4)\n",
    "result1"
   ]
  },
  {
   "cell_type": "code",
   "execution_count": 134,
   "id": "53b04b03-37f4-418f-a91f-ca2d0b06eb83",
   "metadata": {},
   "outputs": [
    {
     "data": {
      "text/plain": [
       "12"
      ]
     },
     "execution_count": 134,
     "metadata": {},
     "output_type": "execute_result"
    }
   ],
   "source": [
    "result2"
   ]
  },
  {
   "cell_type": "code",
   "execution_count": 136,
   "id": "3ee2d165-5b95-4be6-ab43-f8a873837e0c",
   "metadata": {},
   "outputs": [],
   "source": [
    "def add_and_mul(a,b) :\n",
    "    return a+b\n",
    "    return a*b"
   ]
  },
  {
   "cell_type": "code",
   "execution_count": 138,
   "id": "97bde27e-9afc-42f1-97a8-726484f0df4d",
   "metadata": {},
   "outputs": [
    {
     "data": {
      "text/plain": [
       "5"
      ]
     },
     "execution_count": 138,
     "metadata": {},
     "output_type": "execute_result"
    }
   ],
   "source": [
    "result = add_and_mul(2,3)\n",
    "result"
   ]
  },
  {
   "cell_type": "markdown",
   "id": "092d3b8b-a380-4098-a880-4c8782a0ed42",
   "metadata": {},
   "source": [
    "## return으로 함수 이탈하기"
   ]
  },
  {
   "cell_type": "code",
   "execution_count": 143,
   "id": "4e588506-39ff-4aca-b7b8-cfc1839556c9",
   "metadata": {},
   "outputs": [],
   "source": [
    "def say_nick(nick) : \n",
    "    if nick == '바보' :\n",
    "        return '옥상으로 따라와'\n",
    "    print(f'나의 별명은 {nick} 입니다.')"
   ]
  },
  {
   "cell_type": "code",
   "execution_count": 145,
   "id": "7df000aa-b0eb-466f-a74a-c7d0aae4e7bf",
   "metadata": {},
   "outputs": [
    {
     "name": "stdout",
     "output_type": "stream",
     "text": [
      "나의 별명은 야호 입니다.\n"
     ]
    }
   ],
   "source": [
    "say_nick('야호')"
   ]
  },
  {
   "cell_type": "code",
   "execution_count": 147,
   "id": "f2955dd6-d517-4edf-87d9-2b49493cde00",
   "metadata": {},
   "outputs": [
    {
     "data": {
      "text/plain": [
       "'옥상으로 따라와'"
      ]
     },
     "execution_count": 147,
     "metadata": {},
     "output_type": "execute_result"
    }
   ],
   "source": [
    "say_nick('바보')"
   ]
  },
  {
   "cell_type": "markdown",
   "id": "2cad64cf-eb98-42fa-ae36-d5f374db1939",
   "metadata": {},
   "source": [
    "## 매개변수에 초기값 미리 설정하기"
   ]
  },
  {
   "cell_type": "code",
   "execution_count": 152,
   "id": "d167601f-0727-4f67-9cc5-6c5ec7afa96d",
   "metadata": {},
   "outputs": [],
   "source": [
    "def say_myself(name, age, man=True) : \n",
    "    print(f'나의 이름은 {name} 입니다.')\n",
    "    print(f'나의 이름은 {age} 입니다.')\n",
    "    if man : \n",
    "        print(\"삐빅, 남자입니다\")\n",
    "    else : \n",
    "        print(\"삐빅, 여자입니다\")"
   ]
  },
  {
   "cell_type": "code",
   "execution_count": 158,
   "id": "7e759490-0e9f-4888-ac67-bdc95eb3713b",
   "metadata": {},
   "outputs": [
    {
     "name": "stdout",
     "output_type": "stream",
     "text": [
      "나의 이름은 맹광국 입니다.\n",
      "나의 이름은 20 입니다.\n",
      "삐빅, 여자입니다\n"
     ]
    }
   ],
   "source": [
    "say_myself('맹광국',20, False)"
   ]
  },
  {
   "cell_type": "markdown",
   "id": "f0a6e238-5cb1-4641-a8cb-198c60c2914a",
   "metadata": {},
   "source": [
    "## 함수 안에서 선언한 변수의 효력 범위"
   ]
  },
  {
   "cell_type": "code",
   "execution_count": 165,
   "id": "4aa89874-e646-4376-a39b-145db1a13f11",
   "metadata": {},
   "outputs": [],
   "source": [
    "a = 1 #글로벌영역\n",
    "def vartest(a) :  #로컬영역\n",
    "    a = a + 1"
   ]
  },
  {
   "cell_type": "code",
   "execution_count": 163,
   "id": "07b52e1d-74e7-4c34-afd7-69defb50f69c",
   "metadata": {},
   "outputs": [
    {
     "data": {
      "text/plain": [
       "1"
      ]
     },
     "execution_count": 163,
     "metadata": {},
     "output_type": "execute_result"
    }
   ],
   "source": [
    "a"
   ]
  },
  {
   "cell_type": "code",
   "execution_count": 167,
   "id": "fa53238e-62a9-45fc-8ea8-bd79c669cffe",
   "metadata": {},
   "outputs": [],
   "source": [
    "vartest(a)"
   ]
  },
  {
   "cell_type": "code",
   "execution_count": 169,
   "id": "901136de-0ef4-4944-b77c-27957f0c3c04",
   "metadata": {},
   "outputs": [
    {
     "name": "stdout",
     "output_type": "stream",
     "text": [
      "1\n"
     ]
    }
   ],
   "source": [
    "print(a)"
   ]
  },
  {
   "cell_type": "markdown",
   "id": "8d4b7a98-73d0-4f0c-bdf9-e5e0a45b4e68",
   "metadata": {},
   "source": [
    "## 함수 안에서 함수 밖의 변수를 변경하는 방법"
   ]
  },
  {
   "cell_type": "code",
   "execution_count": 172,
   "id": "3d91692c-510d-45f9-b901-7718f4dd0e42",
   "metadata": {},
   "outputs": [
    {
     "name": "stdout",
     "output_type": "stream",
     "text": [
      "2\n"
     ]
    }
   ],
   "source": [
    "# 1. return 사용하기\n",
    "a = 1 \n",
    "def vartest(a): \n",
    "    a = a +1 \n",
    "    return a\n",
    "\n",
    "a = vartest(a) \n",
    "print(a)"
   ]
  },
  {
   "cell_type": "code",
   "execution_count": 176,
   "id": "9228f899-920e-4ab1-a464-a0ffdd4ec517",
   "metadata": {},
   "outputs": [
    {
     "name": "stdout",
     "output_type": "stream",
     "text": [
      "2\n"
     ]
    }
   ],
   "source": [
    "# 2. global 명령어 사용하기\n",
    "a = 1\n",
    "def vartest () : \n",
    "    global a\n",
    "    a = a+1\n",
    "\n",
    "vartest()\n",
    "print(a)"
   ]
  },
  {
   "cell_type": "markdown",
   "id": "e877972d-0ecc-4963-beff-3752852a5e81",
   "metadata": {},
   "source": [
    "## lambda 예약어\n",
    " * 1회성 함수"
   ]
  },
  {
   "cell_type": "code",
   "execution_count": 181,
   "id": "b527bcaf-a520-4ffd-bca0-6b148921e0ae",
   "metadata": {},
   "outputs": [
    {
     "name": "stdout",
     "output_type": "stream",
     "text": [
      "7\n"
     ]
    }
   ],
   "source": [
    "def add(a,b) : \n",
    "    return a+b\n",
    "result = add(3,4)\n",
    "print(result)"
   ]
  },
  {
   "cell_type": "code",
   "execution_count": 187,
   "id": "0b09131e-c3d7-48f5-81fc-b2084080e401",
   "metadata": {},
   "outputs": [
    {
     "data": {
      "text/plain": [
       "7"
      ]
     },
     "execution_count": 187,
     "metadata": {},
     "output_type": "execute_result"
    }
   ],
   "source": [
    "add = lambda a,b : a+b\n",
    "add(3,4)"
   ]
  },
  {
   "cell_type": "markdown",
   "id": "a3400695-6c23-43e1-8ea3-013a831a84cc",
   "metadata": {},
   "source": [
    "## 파일 읽고 쓰기"
   ]
  },
  {
   "cell_type": "code",
   "execution_count": 31,
   "id": "86c26e2e-3a4d-4fd5-82d2-33672bed30c9",
   "metadata": {},
   "outputs": [],
   "source": [
    "f = open('output/test.txt', 'w', encoding='cp949')\n",
    "f.close()"
   ]
  },
  {
   "cell_type": "code",
   "execution_count": 35,
   "id": "c4cfc9d5-eff9-41c5-9832-ba7958993ffb",
   "metadata": {},
   "outputs": [],
   "source": [
    "f = open('output/새파일.txt', 'w', encoding='utf-8')"
   ]
  },
  {
   "cell_type": "code",
   "execution_count": 37,
   "id": "4423b8e4-2c45-4a64-a333-37ca70fbfe71",
   "metadata": {},
   "outputs": [],
   "source": [
    "f = open('output/새파일.txt', 'w')\n",
    "for i in range(1, 11) : \n",
    "    f.write(f'{i}번째 줄입니다.\\n')\n",
    "f.close()"
   ]
  },
  {
   "cell_type": "code",
   "execution_count": 33,
   "id": "5f7bf60e-494d-4c92-b2a2-0bcf39e6f6e6",
   "metadata": {},
   "outputs": [],
   "source": [
    "f = open('output/test.txt', 'w')\n",
    "for i in range(1, 11) : \n",
    "    f.write(f'{i}번째 줄입니다.\\n')\n",
    "f.close()"
   ]
  },
  {
   "cell_type": "code",
   "execution_count": 15,
   "id": "8b16a9f9-4aeb-4a31-8b16-bb4f698a64e0",
   "metadata": {},
   "outputs": [
    {
     "name": "stdout",
     "output_type": "stream",
     "text": [
      "1번째 줄입니다.\n",
      "\n"
     ]
    }
   ],
   "source": [
    "# readline 함수 이용하기\n",
    "f = open('output/test.txt', 'r')\n",
    "line = f.readline()\n",
    "print(line)\n",
    "f.close()"
   ]
  },
  {
   "cell_type": "code",
   "execution_count": 17,
   "id": "ec6ce0b8-bbe5-457a-948a-bb640b492480",
   "metadata": {},
   "outputs": [
    {
     "name": "stdout",
     "output_type": "stream",
     "text": [
      "1번째 줄입니다.\n",
      "\n",
      "2번째 줄입니다.\n",
      "\n",
      "3번째 줄입니다.\n",
      "\n",
      "4번째 줄입니다.\n",
      "\n",
      "5번째 줄입니다.\n",
      "\n"
     ]
    }
   ],
   "source": [
    "f = open('output/test.txt', 'r')\n",
    "for i in range(5) : \n",
    "    line = f.readline()\n",
    "    print(line)\n",
    "f.close()"
   ]
  },
  {
   "cell_type": "code",
   "execution_count": 19,
   "id": "3745f02e-526a-4f8e-98a1-2f826bf57e78",
   "metadata": {},
   "outputs": [
    {
     "name": "stdout",
     "output_type": "stream",
     "text": [
      "['1번째 줄입니다.\\n', '2번째 줄입니다.\\n', '3번째 줄입니다.\\n', '4번째 줄입니다.\\n', '5번째 줄입니다.\\n', '6번째 줄입니다.\\n', '7번째 줄입니다.\\n', '8번째 줄입니다.\\n', '9번째 줄입니다.\\n', '10번째 줄입니다.\\n']\n"
     ]
    }
   ],
   "source": [
    "# readlines 함수\n",
    "f = open('output/test.txt', 'r')\n",
    "lines = f.readlines()\n",
    "print(lines)"
   ]
  },
  {
   "cell_type": "code",
   "execution_count": 21,
   "id": "a8191651-d829-483f-ba6b-8b762951df56",
   "metadata": {},
   "outputs": [
    {
     "name": "stdout",
     "output_type": "stream",
     "text": [
      "1번째 줄입니다.\n",
      "\n",
      "2번째 줄입니다.\n",
      "\n",
      "3번째 줄입니다.\n",
      "\n",
      "4번째 줄입니다.\n",
      "\n",
      "5번째 줄입니다.\n",
      "\n",
      "6번째 줄입니다.\n",
      "\n",
      "7번째 줄입니다.\n",
      "\n",
      "8번째 줄입니다.\n",
      "\n",
      "9번째 줄입니다.\n",
      "\n",
      "10번째 줄입니다.\n",
      "\n"
     ]
    }
   ],
   "source": [
    "f = open('output/test.txt', 'r')\n",
    "lines = f.readlines()\n",
    "for line in lines : \n",
    "    print(line)\n",
    "f.close()"
   ]
  },
  {
   "cell_type": "markdown",
   "id": "3d8da459-b278-485c-98fe-5124ca3ebfe3",
   "metadata": {},
   "source": [
    "## quiz. 메모장을 읽어올때 줄바꿈 1개를 없애보세요."
   ]
  },
  {
   "cell_type": "code",
   "execution_count": 23,
   "id": "26f13d36-ba4a-42b3-a21f-15a6a80f9561",
   "metadata": {},
   "outputs": [
    {
     "name": "stdout",
     "output_type": "stream",
     "text": [
      "1번째 줄입니다.\n",
      "\n",
      "2번째 줄입니다.\n",
      "\n",
      "3번째 줄입니다.\n",
      "\n",
      "4번째 줄입니다.\n",
      "\n",
      "5번째 줄입니다.\n",
      "\n",
      "6번째 줄입니다.\n",
      "\n",
      "7번째 줄입니다.\n",
      "\n",
      "8번째 줄입니다.\n",
      "\n",
      "9번째 줄입니다.\n",
      "\n",
      "10번째 줄입니다.\n",
      "\n"
     ]
    }
   ],
   "source": [
    "f = open('output/test.txt', 'r')\n",
    "lines = f.readlines()\n",
    "for line in lines : \n",
    "    print(line)\n",
    "f.close()"
   ]
  },
  {
   "cell_type": "code",
   "execution_count": 25,
   "id": "d6effe23-bfae-4963-bff6-e65d1092694d",
   "metadata": {},
   "outputs": [
    {
     "name": "stdout",
     "output_type": "stream",
     "text": [
      "1번째 줄입니다.\n",
      "2번째 줄입니다.\n",
      "3번째 줄입니다.\n",
      "4번째 줄입니다.\n",
      "5번째 줄입니다.\n",
      "6번째 줄입니다.\n",
      "7번째 줄입니다.\n",
      "8번째 줄입니다.\n",
      "9번째 줄입니다.\n",
      "10번째 줄입니다.\n"
     ]
    }
   ],
   "source": [
    "f = open('output/test.txt', 'r')\n",
    "lines = f.readlines()\n",
    "for line in lines : \n",
    "    print(line.strip())\n",
    "f.close()"
   ]
  },
  {
   "cell_type": "code",
   "execution_count": 222,
   "id": "d6fb22f8-ba24-40c3-b7a9-33cf7d58a952",
   "metadata": {},
   "outputs": [
    {
     "name": "stdout",
     "output_type": "stream",
     "text": [
      "<class 'str'>\n",
      "1번째 줄입니다.\n",
      "2번째 줄입니다.\n",
      "3번째 줄입니다.\n",
      "4번째 줄입니다.\n",
      "5번째 줄입니다.\n",
      "6번째 줄입니다.\n",
      "7번째 줄입니다.\n",
      "8번째 줄입니다.\n",
      "9번째 줄입니다.\n",
      "10번째 줄입니다.\n",
      "\n"
     ]
    }
   ],
   "source": [
    "f = open('output/test.txt', 'r')\n",
    "data = f.read()\n",
    "print(type(data))\n",
    "print(data)\n",
    "f.close()"
   ]
  },
  {
   "cell_type": "markdown",
   "id": "36a32c69-8e47-49f0-bbda-888d3712dd3f",
   "metadata": {},
   "source": [
    "## 파일에 새로운 내용 추가하기"
   ]
  },
  {
   "cell_type": "code",
   "execution_count": 1,
   "id": "9fac1fab-49fd-44a4-981b-5afa0f358e40",
   "metadata": {},
   "outputs": [],
   "source": [
    "f = open('output/test.txt', 'a')\n",
    "for i in range(11,21) :\n",
    "    data = (f'{i}번째 줄입니다.\\n')\n",
    "    f.write(data)\n",
    "f.close()"
   ]
  },
  {
   "cell_type": "code",
   "execution_count": 3,
   "id": "b49db065-6c91-4dfd-bd31-df3fcef48e2c",
   "metadata": {},
   "outputs": [],
   "source": [
    "f = open('output/foo.txt', 'w')\n",
    "f.write(\"Life is too short, you need python\")\n",
    "f.close()"
   ]
  },
  {
   "cell_type": "code",
   "execution_count": 5,
   "id": "b0f4b55b-0c2b-4074-b81a-107f013372aa",
   "metadata": {},
   "outputs": [],
   "source": [
    "with open('output/foo.txt', 'w') as f :\n",
    "    f.write(\"Your leg is too short\")"
   ]
  },
  {
   "cell_type": "code",
   "execution_count": null,
   "id": "99784a07-4f69-4a49-b63d-a3a0235aa2f0",
   "metadata": {},
   "outputs": [],
   "source": []
  },
  {
   "cell_type": "code",
   "execution_count": null,
   "id": "150d3341-d285-4f54-a178-57639427465d",
   "metadata": {},
   "outputs": [],
   "source": []
  },
  {
   "cell_type": "code",
   "execution_count": null,
   "id": "d73f9152-b193-443a-9036-230d2f66432c",
   "metadata": {},
   "outputs": [],
   "source": []
  }
 ],
 "metadata": {
  "kernelspec": {
   "display_name": "Python 3 (ipykernel)",
   "language": "python",
   "name": "python3"
  },
  "language_info": {
   "codemirror_mode": {
    "name": "ipython",
    "version": 3
   },
   "file_extension": ".py",
   "mimetype": "text/x-python",
   "name": "python",
   "nbconvert_exporter": "python",
   "pygments_lexer": "ipython3",
   "version": "3.12.4"
  }
 },
 "nbformat": 4,
 "nbformat_minor": 5
}
