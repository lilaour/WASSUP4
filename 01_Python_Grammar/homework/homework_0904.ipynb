{
 "cells": [
  {
   "cell_type": "markdown",
   "id": "f3fbec82-c34a-4f1d-b41a-b5a2c6050d93",
   "metadata": {},
   "source": [
    "# 01. 파이썬 시작하기 001~010"
   ]
  },
  {
   "cell_type": "code",
   "execution_count": 9,
   "id": "bd6cbbf3-1fec-4eb6-a73e-766e1081b827",
   "metadata": {},
   "outputs": [
    {
     "name": "stdout",
     "output_type": "stream",
     "text": [
      "Hello world\n"
     ]
    }
   ],
   "source": [
    "#001 print 기초\n",
    "#화면에 Hello World 문자열을 출력하세요.\n",
    "print('Hello world')"
   ]
  },
  {
   "cell_type": "code",
   "execution_count": 7,
   "id": "3a37e6fa-b4ad-44a3-bece-8fc056c20d12",
   "metadata": {},
   "outputs": [
    {
     "name": "stdout",
     "output_type": "stream",
     "text": [
      "Mary's cosmetics\n"
     ]
    }
   ],
   "source": [
    "#002 print 기초\n",
    "#화면에 Mary's cosmetics을 출력하세요. (중간에 '가 있음에 주의하세요)\n",
    "print(\"Mary's cosmetics\")"
   ]
  },
  {
   "cell_type": "code",
   "execution_count": 18,
   "id": "84318203-8411-4b65-9f14-5da8e949d3cc",
   "metadata": {},
   "outputs": [
    {
     "name": "stdout",
     "output_type": "stream",
     "text": [
      "신씨가 소리질렀다. \"도둑이야\".\n"
     ]
    }
   ],
   "source": [
    "#003 print 기초\n",
    "#화면에 아래 문장을 출력하세요. (중간에 \"가 있음에 주의하세요.)\n",
    "# 신씨가 소리질렀다. \"도둑이야\".\n",
    "print('신씨가 소리질렀다. \"도둑이야\".')"
   ]
  },
  {
   "cell_type": "code",
   "execution_count": 39,
   "id": "1c16e64b-c7b7-4f2d-8fc2-efd96a9697d9",
   "metadata": {},
   "outputs": [
    {
     "name": "stdout",
     "output_type": "stream",
     "text": [
      "C:\\Windows\n"
     ]
    }
   ],
   "source": [
    "#004 print 기초\n",
    "#화면에 C:\\Windows를 출력하세요.\n",
    "print(\"C:\\\\Windows\")"
   ]
  },
  {
   "cell_type": "code",
   "execution_count": 43,
   "id": "235b9d6f-a524-42dd-af61-0c7c9bd71ad9",
   "metadata": {},
   "outputs": [
    {
     "name": "stdout",
     "output_type": "stream",
     "text": [
      "안녕하세요.\n",
      "만나서\t\t반갑습니다.\n"
     ]
    }
   ],
   "source": [
    "#005 print 탭과 줄바꿈\n",
    "#다음 코드를 실행해보고 \\t와 \\n의 역할을 설명해보세요\n",
    "print(\"안녕하세요.\\n만나서\\t\\t반갑습니다.\")\n",
    "\n",
    "#정답 : \\n 은 줄바꿈 \\t는 탭 간격주기 "
   ]
  },
  {
   "cell_type": "code",
   "execution_count": 51,
   "id": "04daa30d-8b5a-431b-839d-9939bdd1379b",
   "metadata": {},
   "outputs": [
    {
     "name": "stdout",
     "output_type": "stream",
     "text": [
      "오늘은 일요일\n",
      "오늘은\n",
      " \t\t일요일\n"
     ]
    }
   ],
   "source": [
    "#006 print 여러 데이터 출력\n",
    "#print 함수에 두 개의 단어를 입력한 예제입니다. 아래 코드의 출력 결과를 예상해봅시다.\n",
    "print (\"오늘은\", \"일요일\")\n",
    "#정답 : 오늘은 일요일 \n",
    "print(\"오늘은\\n\",\"\\t\\t일요일\")"
   ]
  },
  {
   "cell_type": "code",
   "execution_count": 97,
   "id": "26623afd-e009-4501-a631-fc2f94b672af",
   "metadata": {},
   "outputs": [
    {
     "data": {
      "text/plain": [
       "'naver;kakao;sk;samsung;'"
      ]
     },
     "execution_count": 97,
     "metadata": {},
     "output_type": "execute_result"
    }
   ],
   "source": [
    "#007 print 기초\n",
    "#print() 함수를 사용하여 다음과 같이 출력하세요.\n",
    "#   naver;kakao;sk;samsung\n",
    "\n",
    "a = ';'\n",
    "f'naver{a}kakao{a}sk{a}samsung{a}' "
   ]
  },
  {
   "cell_type": "code",
   "execution_count": 81,
   "id": "4b2f4ce4-ea38-49d1-aadc-44f7daca1cb0",
   "metadata": {},
   "outputs": [
    {
     "name": "stdout",
     "output_type": "stream",
     "text": [
      "naver;kakao;sk;samsung\n"
     ]
    }
   ],
   "source": [
    "print(\"naver\", \"kakao\", \"sk\", \"samsung\", sep=\";\")"
   ]
  },
  {
   "cell_type": "code",
   "execution_count": 87,
   "id": "7b2506c3-53bc-497d-a0a7-21ab58b9b6c1",
   "metadata": {},
   "outputs": [
    {
     "name": "stdout",
     "output_type": "stream",
     "text": [
      "naver/kakao/sk/samsung\n"
     ]
    }
   ],
   "source": [
    "#008 print 기초\n",
    "#print() 함수를 사용하여 다음과 같이 출력하세요.\n",
    "#  naver/kakao/sk/samsung\n",
    "print(\"naver\", \"kakao\", \"sk\", \"samsung\", sep=\"/\")"
   ]
  },
  {
   "cell_type": "code",
   "execution_count": 89,
   "id": "8e560145-ac46-44e7-ab06-a9d1143a744e",
   "metadata": {},
   "outputs": [
    {
     "name": "stdout",
     "output_type": "stream",
     "text": [
      "naver\\kakao\\sk\\samsung\n"
     ]
    }
   ],
   "source": [
    "print(\"naver\", \"kakao\", \"sk\", \"samsung\", sep=\"\\\\\")"
   ]
  },
  {
   "cell_type": "code",
   "execution_count": 103,
   "id": "cd2e6fcf-746e-4548-acb0-ed0d9eaecabc",
   "metadata": {},
   "outputs": [
    {
     "name": "stdout",
     "output_type": "stream",
     "text": [
      "first second\n"
     ]
    }
   ],
   "source": [
    "#009 print 줄바꿈\n",
    "#다음 코드를 수정하여 줄바꿈이 없이 출력하세요. (힌트: end='') print 함수는 두 번 사용합니다. 세미콜론 (;)은 한줄에 여러 개의 명령을 작성하기 위해 사용합니다.\n",
    "#   print(\"first\");print(\"second\")\n",
    "\n",
    "print(\"first\", end=' '); print(\"second\")"
   ]
  },
  {
   "cell_type": "code",
   "execution_count": 105,
   "id": "d024860c-a34a-401e-8c85-6012a2196b20",
   "metadata": {},
   "outputs": [
    {
     "name": "stdout",
     "output_type": "stream",
     "text": [
      "1.6666666666666667\n"
     ]
    }
   ],
   "source": [
    "# 010 연산 결과 출력\n",
    "# 5/3의 결과를 화면에 출력하세요.\n",
    "\n",
    "print(5/3)"
   ]
  },
  {
   "cell_type": "markdown",
   "id": "9658fe23-d637-40f1-88b3-df32001f7348",
   "metadata": {},
   "source": [
    "# 02. 파이썬 변수 011~020"
   ]
  },
  {
   "cell_type": "code",
   "execution_count": 121,
   "id": "4d04c850-ad65-49f7-ad8c-90b269e2c7b5",
   "metadata": {},
   "outputs": [
    {
     "name": "stdout",
     "output_type": "stream",
     "text": [
      "500000\n"
     ]
    }
   ],
   "source": [
    "# 011 변수 사용하기\n",
    "# 삼성전자라는 변수로 50,000원을 바인딩해보세요. 삼성전자 주식 10주를 보유하고 있을 때 총 평가금액을 출력하세요.\n",
    "삼성전자 = 50000\n",
    "총평가금액 = 삼성전자 * 10\n",
    "print(총평가금액)"
   ]
  },
  {
   "cell_type": "code",
   "execution_count": 143,
   "id": "652a4043-5237-413f-87cf-f2c6ff17ab84",
   "metadata": {},
   "outputs": [
    {
     "name": "stdout",
     "output_type": "stream",
     "text": [
      "시가총액 298000000000000\n",
      "현재가 50000\n",
      "PER 15.79\n"
     ]
    }
   ],
   "source": [
    "# 012 변수 사용하기\n",
    "# 다음 표는 삼성전자의 일부 투자정보입니다. 변수를 사용해서 시가총액, 현재가, PER 등을 바인딩해보세요.\n",
    "#항목\t값\n",
    "#시가총액\t298조\n",
    "#현재가\t50,000원\n",
    "#PER\t15.79 \n",
    "\n",
    "\n",
    "시가총액 = 298000000000000\n",
    "현재가 = 50000\n",
    "PER = 15.79\n",
    "print('시가총액',시가총액)\n",
    "print('현재가',현재가)\n",
    "print('PER', PER)"
   ]
  },
  {
   "cell_type": "code",
   "execution_count": 155,
   "id": "14888796-ea0a-40b2-abc0-c5ff6ba5eb05",
   "metadata": {},
   "outputs": [
    {
     "name": "stdout",
     "output_type": "stream",
     "text": [
      "hello! python\n"
     ]
    }
   ],
   "source": [
    "#013 문자열 출력\n",
    "#변수 s와 t에는 각각 문자열이 바인딩 되어있습니다.\n",
    "\n",
    "s=\"hello\"\n",
    "t=\"python\"\n",
    "\n",
    "print(s+\"!\",t)"
   ]
  },
  {
   "cell_type": "code",
   "execution_count": 159,
   "id": "79b7a499-5dba-4837-926c-9bf6b0dfed9f",
   "metadata": {},
   "outputs": [
    {
     "data": {
      "text/plain": [
       "8"
      ]
     },
     "execution_count": 159,
     "metadata": {},
     "output_type": "execute_result"
    }
   ],
   "source": [
    "#014 파이썬을 이용한 값 계산\n",
    "#아래 코드의 실행 결과를 예상해보세요.\n",
    "\n",
    "#  2 + 2 * 3 \n",
    "2 + 2 * 3 "
   ]
  },
  {
   "cell_type": "code",
   "execution_count": 169,
   "id": "819f8178-02e9-41bb-bf7d-cff57962ec32",
   "metadata": {},
   "outputs": [
    {
     "name": "stdout",
     "output_type": "stream",
     "text": [
      "<class 'str'>\n"
     ]
    }
   ],
   "source": [
    "#015 type 함수\n",
    "#type() 함수는 데이터 타입을 판별합니다. 변수 a에는 128 숫자가 바인딩돼 있어 type 함수가 int (정수)형임을 알려줍니다.\n",
    "#아래 변수에 바인딩된 값의 타입을 판별해보세요.\n",
    "a = \"132\"\n",
    "print(type(a))"
   ]
  },
  {
   "cell_type": "code",
   "execution_count": 185,
   "id": "4855678f-3635-4c43-b6ad-ded4a3f29886",
   "metadata": {},
   "outputs": [
    {
     "name": "stdout",
     "output_type": "stream",
     "text": [
      "720\n"
     ]
    }
   ],
   "source": [
    "#016 문자열을 정수로 변환\n",
    "#문자열 '720'를 정수형으로 변환해보세요.\n",
    "num_str =\"720\"\n",
    "num_int = int(num_str)\n",
    "print(num_int)"
   ]
  },
  {
   "cell_type": "code",
   "execution_count": 189,
   "id": "a07d737a-c449-41c0-8a2a-455b7372f871",
   "metadata": {},
   "outputs": [
    {
     "name": "stdout",
     "output_type": "stream",
     "text": [
      "100 <class 'str'>\n"
     ]
    }
   ],
   "source": [
    "#17 정수를 문자열 100으로 변환\n",
    "#정수 100을 문자열 '100'으로 변환해보세요.\n",
    "\n",
    "정수 = 100\n",
    "문자열 = str(정수)\n",
    "print(문자열,type(문자열))"
   ]
  },
  {
   "cell_type": "code",
   "execution_count": 193,
   "id": "431a9ed5-a231-4015-9f34-2db27f9c02eb",
   "metadata": {},
   "outputs": [
    {
     "name": "stdout",
     "output_type": "stream",
     "text": [
      "15.79 <class 'float'>\n"
     ]
    }
   ],
   "source": [
    "#018 문자열을 실수로 변환\n",
    "#문자열 \"15.79\"를 실수(float) 타입으로 변환해보세요.\n",
    "\n",
    "문자열 = \"15.79\"\n",
    "실수 = float(문자열)\n",
    "print(실수,type(실수))"
   ]
  },
  {
   "cell_type": "code",
   "execution_count": 213,
   "id": "9c8b5a3e-9db2-44ee-818a-cb6bdd85fc8d",
   "metadata": {},
   "outputs": [
    {
     "name": "stdout",
     "output_type": "stream",
     "text": [
      "2023 2022 2021\n"
     ]
    }
   ],
   "source": [
    "#019 문자열을 정수로 변환\n",
    "#year라는 변수가 문자열 타입의 연도를 바인딩하고 있습니다. 이를 정수로 변환한 후 최근 3년의 연도를 화면에 출력해보세요.\n",
    "\n",
    "year = \"2024\"\n",
    "print(int(year)-1, end=' '); print(int(year)-2,end=' '); print(int(year)-3)\n"
   ]
  },
  {
   "cell_type": "code",
   "execution_count": 217,
   "id": "084fd350-4d3f-4806-9d4b-f02c18dd961d",
   "metadata": {},
   "outputs": [
    {
     "name": "stdout",
     "output_type": "stream",
     "text": [
      "1749024\n"
     ]
    }
   ],
   "source": [
    "#020 파이썬 계산\n",
    "#에이컨이 월 48,584원에 무이자 36개월의 조건으로 홈쇼핑에서 판매되고 있습니다. 총 금액은 계산한 후 이를 화면에 출력해보세요. (변수사용하기)\n",
    "\n",
    "month = 48584\n",
    "total = month * 36\n",
    "\n",
    "print(total)"
   ]
  },
  {
   "cell_type": "markdown",
   "id": "4cc61562-36a0-4343-9342-6280f7896732",
   "metadata": {},
   "source": [
    "# 03. 파이썬 문자열 021~050"
   ]
  },
  {
   "cell_type": "code",
   "execution_count": 234,
   "id": "d94095ef-5ee6-4d6f-8e14-5e7818f0099b",
   "metadata": {},
   "outputs": [
    {
     "data": {
      "text/plain": [
       "'pt'"
      ]
     },
     "execution_count": 234,
     "metadata": {},
     "output_type": "execute_result"
    }
   ],
   "source": [
    "#021 문자열 인덱싱\n",
    "#letters가 바인딩하는 문자열에서 첫번째와 세번째 문자를 출력하세요.\n",
    "\n",
    "letters = 'python'\n",
    "letters[0] + letters[2]"
   ]
  },
  {
   "cell_type": "code",
   "execution_count": 248,
   "id": "8ab7d3eb-b0ab-4be1-82f6-a64a732da808",
   "metadata": {},
   "outputs": [
    {
     "data": {
      "text/plain": [
       "'2210'"
      ]
     },
     "execution_count": 248,
     "metadata": {},
     "output_type": "execute_result"
    }
   ],
   "source": [
    "#022 문자열 슬라이싱\n",
    "#자동차 번호가 다음과 같을 때 뒤에 4자리만 출력하세요.\n",
    "# license_plate = \"24가 2210\"\n",
    "\n",
    "license_plate = \"24가 2210\"\n",
    "license_plate[4:]"
   ]
  },
  {
   "cell_type": "code",
   "execution_count": 14,
   "id": "31888044-5e77-49ad-bdd5-86a4e2769399",
   "metadata": {},
   "outputs": [
    {
     "data": {
      "text/plain": [
       "'홀홀홀'"
      ]
     },
     "execution_count": 14,
     "metadata": {},
     "output_type": "execute_result"
    }
   ],
   "source": [
    "#023 문자열 인덱싱\n",
    "#아래의 문자열에서 '홀' 만 출력하세요.\n",
    "#string = \"홀짝홀짝홀짝\"\n",
    "\n",
    "a = \"홀짝홀짝홀짝\"\n",
    "a[0]+a[2]+a[4]"
   ]
  },
  {
   "cell_type": "code",
   "execution_count": 18,
   "id": "50af0175-7fa7-47bd-96a4-8351cb7d2620",
   "metadata": {},
   "outputs": [
    {
     "name": "stdout",
     "output_type": "stream",
     "text": [
      "NOHTYP\n"
     ]
    }
   ],
   "source": [
    "#024 문자열 슬라이싱\n",
    "#문자열을 거꾸로 뒤집어 출력하세요.\n",
    "string = \"PYTHON\"\n",
    "print(string[::-1])"
   ]
  },
  {
   "cell_type": "code",
   "execution_count": 20,
   "id": "27750da5-f157-4ede-a57b-b5ca268bfd56",
   "metadata": {},
   "outputs": [
    {
     "data": {
      "text/plain": [
       "'010 1111 2222'"
      ]
     },
     "execution_count": 20,
     "metadata": {},
     "output_type": "execute_result"
    }
   ],
   "source": [
    "#025 문자열 치환\n",
    "#아래의 전화번호에서 하이푼 ('-')을 제거하고 출력하세요.\n",
    "phone_number = \"010-1111-2222\"\n",
    "phone_number.replace(\"-\",\" \")"
   ]
  },
  {
   "cell_type": "code",
   "execution_count": 22,
   "id": "cf9bf1b3-da02-42d2-b374-040bf3c2e418",
   "metadata": {},
   "outputs": [
    {
     "data": {
      "text/plain": [
       "'01011112222'"
      ]
     },
     "execution_count": 22,
     "metadata": {},
     "output_type": "execute_result"
    }
   ],
   "source": [
    "#026 문자열 다루기\n",
    "#25번 문제의 전화번호를 아래와 같이 모두 붙여 출력하세요.\n",
    "phone_number = \"010-1111-2222\"\n",
    "phone_number.replace(\"-\",\"\")"
   ]
  },
  {
   "cell_type": "code",
   "execution_count": 50,
   "id": "3edc46ca-2ea6-4bb7-8b9d-992854354c05",
   "metadata": {},
   "outputs": [
    {
     "name": "stdout",
     "output_type": "stream",
     "text": [
      "kr\n"
     ]
    }
   ],
   "source": [
    "#027 문자열 다루기\n",
    "#url 에 저장된 웹 페이지 주소에서 도메인을 출력하세요.\n",
    "a = \"http://sharebook.kr\"\n",
    "b = a.split('.')\n",
    "print(b[-1])"
   ]
  },
  {
   "cell_type": "code",
   "execution_count": 52,
   "id": "048707b2-4449-4117-a7ef-b71df1f3c7e5",
   "metadata": {},
   "outputs": [
    {
     "ename": "TypeError",
     "evalue": "'str' object does not support item assignment",
     "output_type": "error",
     "traceback": [
      "\u001b[1;31m---------------------------------------------------------------------------\u001b[0m",
      "\u001b[1;31mTypeError\u001b[0m                                 Traceback (most recent call last)",
      "Cell \u001b[1;32mIn[52], line 5\u001b[0m\n\u001b[0;32m      1\u001b[0m \u001b[38;5;66;03m# 028 문자열은 immutable\u001b[39;00m\n\u001b[0;32m      2\u001b[0m \u001b[38;5;66;03m# 아래 코드의 실행 결과를 예상해보세요.\u001b[39;00m\n\u001b[0;32m      4\u001b[0m lang \u001b[38;5;241m=\u001b[39m \u001b[38;5;124m'\u001b[39m\u001b[38;5;124mpython\u001b[39m\u001b[38;5;124m'\u001b[39m\n\u001b[1;32m----> 5\u001b[0m lang[\u001b[38;5;241m0\u001b[39m] \u001b[38;5;241m=\u001b[39m \u001b[38;5;124m'\u001b[39m\u001b[38;5;124mP\u001b[39m\u001b[38;5;124m'\u001b[39m\n\u001b[0;32m      6\u001b[0m \u001b[38;5;28mprint\u001b[39m(lang)\n",
      "\u001b[1;31mTypeError\u001b[0m: 'str' object does not support item assignment"
     ]
    }
   ],
   "source": [
    "# 028 문자열은 immutable\n",
    "# 아래 코드의 실행 결과를 예상해보세요.\n",
    "\n",
    "lang = 'python'\n",
    "lang[0] = 'P'\n",
    "print(lang)\n",
    "\n",
    "#문자열은 수정불"
   ]
  },
  {
   "cell_type": "code",
   "execution_count": 54,
   "id": "ac1dc4dd-7bb1-47e8-aa02-621b0e5702bc",
   "metadata": {},
   "outputs": [
    {
     "data": {
      "text/plain": [
       "'Abcdfe2A354A32A'"
      ]
     },
     "execution_count": 54,
     "metadata": {},
     "output_type": "execute_result"
    }
   ],
   "source": [
    "#029 replace 메서드\n",
    "#아래 문자열에서 소문자 'a'를 대문자 'A'로 변경하세요.\n",
    "\n",
    "string = 'abcdfe2a354a32a'\n",
    "string.replace(\"a\",\"A\")"
   ]
  },
  {
   "cell_type": "code",
   "execution_count": 62,
   "id": "7fda74cb-c66d-4e98-8e24-4d47bac77ff1",
   "metadata": {},
   "outputs": [
    {
     "name": "stdout",
     "output_type": "stream",
     "text": [
      "abcd\n"
     ]
    }
   ],
   "source": [
    "#030 replace 메서드\n",
    "#아래 코드의 실행 결과를 예상해보세요.\n",
    "string = 'abcd'\n",
    "string.replace(\"b\", \"B\")\n",
    "print(string)"
   ]
  },
  {
   "cell_type": "code",
   "execution_count": 64,
   "id": "2f6ab1d7-daf7-49ad-9892-636c1a401897",
   "metadata": {},
   "outputs": [
    {
     "name": "stdout",
     "output_type": "stream",
     "text": [
      "34\n"
     ]
    }
   ],
   "source": [
    "#031 문자열 합치기\n",
    "#아래 코드의 실행 결과를 예상해보세요.\n",
    "a = \"3\"\n",
    "b = \"4\"\n",
    "print(a + b)"
   ]
  },
  {
   "cell_type": "code",
   "execution_count": 66,
   "id": "7c03f1e6-9cd8-42b8-be81-35002c97625a",
   "metadata": {},
   "outputs": [
    {
     "name": "stdout",
     "output_type": "stream",
     "text": [
      "HiHiHi\n"
     ]
    }
   ],
   "source": [
    "#032 문자열 곱하기\n",
    "#아래 코드의 실행 결과를 예상해보세요.\n",
    "print(\"Hi\" * 3)"
   ]
  },
  {
   "cell_type": "code",
   "execution_count": 70,
   "id": "1ca19b29-4dc8-44c4-9021-2ac4ae9bb2d9",
   "metadata": {},
   "outputs": [
    {
     "name": "stdout",
     "output_type": "stream",
     "text": [
      "--------------------------------------------------------------------------------\n"
     ]
    }
   ],
   "source": [
    "#033 문자열 곱하기\n",
    "#화면에 '-'를 80개 출력하세요.\n",
    "print(\"-\" * 80)"
   ]
  },
  {
   "cell_type": "code",
   "execution_count": 72,
   "id": "063f6e1f-0c04-478f-830e-c76cb44a51a3",
   "metadata": {},
   "outputs": [
    {
     "data": {
      "text/plain": [
       "'python java python java python java python java '"
      ]
     },
     "execution_count": 72,
     "metadata": {},
     "output_type": "execute_result"
    }
   ],
   "source": [
    "#034 문자열 곱하기\n",
    "#변수에 다음과 같은 문자열이 바인딩되어 있습니다.\n",
    "#변수에 문자열 더하기와 문자열 곱하기를 사용해서 아래와 같이 출력해보세요.\n",
    "#python java python java python java python java\n",
    "t1 = 'python'\n",
    "t2 = 'java'\n",
    "t3 = t1 + ' ' + t2 + ' '\n",
    "t3 * 4"
   ]
  },
  {
   "cell_type": "code",
   "execution_count": 100,
   "id": "17c23556-81d1-4db8-ad2c-ef8ad8609f3e",
   "metadata": {},
   "outputs": [
    {
     "name": "stdout",
     "output_type": "stream",
     "text": [
      "이름: 김민수 나이:10\n",
      "이름: 이철희 나이:13\n"
     ]
    }
   ],
   "source": [
    "#035 문자열 출력\n",
    "#변수에 다음과 같이 문자열과 정수가 바인딩되어 있을 때 % formatting을 사용해서 다음과 같이 출력해보세요.\n",
    "#이름: 김민수 나이: 10\n",
    "#이름: 이철희 나이: 13\n",
    "name1 = \"김민수\" \n",
    "age1 = 10\n",
    "name2 = \"이철희\"\n",
    "age2 = 13\n",
    "\n",
    "print(\"이름: %s 나이:%d\" %  (name1,age1))\n",
    "print(\"이름: %s 나이:%d\" %  (name2,age2))\n"
   ]
  },
  {
   "cell_type": "code",
   "execution_count": 106,
   "id": "3216ed3d-04d4-4066-b9c4-5d4ee5781ed9",
   "metadata": {},
   "outputs": [
    {
     "name": "stdout",
     "output_type": "stream",
     "text": [
      "이름: 김민수 나이: 10\n",
      "이름: 이철희 나이: 13\n"
     ]
    }
   ],
   "source": [
    "#036 문자열 출력\n",
    "#문자열의 format( ) 메서드를 사용해서 035번 문제를 다시 풀어보세요.\n",
    "name1 = \"김민수\" \n",
    "age1 = 10\n",
    "name2 = \"이철희\"\n",
    "age2 = 13\n",
    "\n",
    "print(\"이름: {} 나이: {}\".format(name1,age1))\n",
    "print(\"이름: {} 나이: {}\".format(name2,age2))"
   ]
  },
  {
   "cell_type": "code",
   "execution_count": 114,
   "id": "515048aa-ddc5-4e14-9520-a68e6c0be142",
   "metadata": {},
   "outputs": [
    {
     "name": "stdout",
     "output_type": "stream",
     "text": [
      "이름: 김민수 나이: 10\n",
      "이름: 이철희 나이: 13\n"
     ]
    }
   ],
   "source": [
    "#037 문자열 출력\n",
    "#파이썬 3.6부터 지원하는 f-string을 사용해서 035번 문제를 다시 풀어보세요.\n",
    "name1 = \"김민수\" \n",
    "age1 = 10\n",
    "name2 = \"이철희\"\n",
    "age2 = 13\n",
    "\n",
    "print(f'이름: {name1} 나이: {age1}')\n",
    "print(f'이름: {name2} 나이: {age2}')"
   ]
  },
  {
   "cell_type": "code",
   "execution_count": 122,
   "id": "8880bffa-7cc5-463a-9697-fe343db5328d",
   "metadata": {},
   "outputs": [
    {
     "name": "stdout",
     "output_type": "stream",
     "text": [
      "5969782550 <class 'int'>\n"
     ]
    }
   ],
   "source": [
    "#038 컴마 제거하기\n",
    "#삼성전자의 상장주식수가 다음과 같습니다. 컴마를 제거한 후 이를 정수 타입으로 변환해보세요.\n",
    "상장주식수 = \"5,969,782,550\"\n",
    "a = 상장주식수.replace(\",\",\"\")\n",
    "b = int(a)\n",
    "print(b, type(b))"
   ]
  },
  {
   "cell_type": "code",
   "execution_count": 124,
   "id": "066ccaef-5b04-496d-ad5b-baee9a63e84b",
   "metadata": {},
   "outputs": [
    {
     "data": {
      "text/plain": [
       "'2020/03'"
      ]
     },
     "execution_count": 124,
     "metadata": {},
     "output_type": "execute_result"
    }
   ],
   "source": [
    "#039 문자열 슬라이싱\n",
    "#다음과 같은 문자열에서 '2020/03'만 출력하세요.\n",
    "분기 = \"2020/03(E) (IFRS연결)\"\n",
    "분기[:7]\n"
   ]
  },
  {
   "cell_type": "code",
   "execution_count": 130,
   "id": "ae7eb103-8385-4701-b5cc-216d7d82d4bf",
   "metadata": {},
   "outputs": [
    {
     "data": {
      "text/plain": [
       "'삼성전자'"
      ]
     },
     "execution_count": 130,
     "metadata": {},
     "output_type": "execute_result"
    }
   ],
   "source": [
    "#040 strip 메서드\n",
    "#문자열의 좌우의 공백이 있을 때 이를 제거해보세요.\n",
    "data = \"   삼성전자    \"\n",
    "data.strip()"
   ]
  },
  {
   "cell_type": "code",
   "execution_count": 132,
   "id": "14e1f767-ff66-4889-9cde-b59d4eb246c9",
   "metadata": {},
   "outputs": [
    {
     "data": {
      "text/plain": [
       "'BTC_KRW'"
      ]
     },
     "execution_count": 132,
     "metadata": {},
     "output_type": "execute_result"
    }
   ],
   "source": [
    "#041 upper 메서드\n",
    "#다음과 같은 문자열이 있을 때 이를 대문자 BTC_KRW로 변경하세요.\n",
    "ticker = \"btc_krw\"\n",
    "ticker.upper()"
   ]
  },
  {
   "cell_type": "code",
   "execution_count": 136,
   "id": "ec42dc4b-9657-47a8-a567-d04838af55b0",
   "metadata": {},
   "outputs": [
    {
     "data": {
      "text/plain": [
       "'btc_krw'"
      ]
     },
     "execution_count": 136,
     "metadata": {},
     "output_type": "execute_result"
    }
   ],
   "source": [
    "#042 lower 메서드\n",
    "#다음과 같은 문자열이 있을 때 이를 소문자 btc_krw로 변경하세요.\n",
    "\n",
    "ticker = \"BTC_KRW\"\n",
    "ticker.lower()"
   ]
  },
  {
   "cell_type": "code",
   "execution_count": 140,
   "id": "6b24abfa-740a-4f23-856a-85aa42b2ae33",
   "metadata": {},
   "outputs": [
    {
     "data": {
      "text/plain": [
       "'Hello'"
      ]
     },
     "execution_count": 140,
     "metadata": {},
     "output_type": "execute_result"
    }
   ],
   "source": [
    "#043 capitalize 메서드\n",
    "#문자열 'hello'가 있을 때 이를 'Hello'로 변경해보세요.\n",
    "a = \"hello\"\n",
    "a.capitalize()"
   ]
  },
  {
   "cell_type": "code",
   "execution_count": 144,
   "id": "20da1fa7-4a37-4cef-bb8e-09ec905827fa",
   "metadata": {},
   "outputs": [
    {
     "data": {
      "text/plain": [
       "True"
      ]
     },
     "execution_count": 144,
     "metadata": {},
     "output_type": "execute_result"
    }
   ],
   "source": [
    "#044 endswith 메서드\n",
    "#파일 이름이 문자열로 저장되어 있을 때 endswith 메서드를 사용해서 파일 이름이 'xlsx'로 끝나는지 확인해보세요.\n",
    "file_name = \"보고서.xlsx\"\n",
    "file_name.endswith(\"xlsx\")"
   ]
  },
  {
   "cell_type": "code",
   "execution_count": 152,
   "id": "49a5f0b4-d334-4b09-98c9-1cd0b17e9ab9",
   "metadata": {},
   "outputs": [
    {
     "data": {
      "text/plain": [
       "False"
      ]
     },
     "execution_count": 152,
     "metadata": {},
     "output_type": "execute_result"
    }
   ],
   "source": [
    "#045 endswith 메서드\n",
    "#파일 이름이 문자열로 저장되어 있을 때 endswith 메서드를 사용해서 파일 이름이 'xlsx' 또는 'xls'로 끝나는지 확인해보세요.\n",
    "\n",
    "file_name = \"보고서.xlsx\"\n",
    "file_name.endswith((\"xlssx\",\"xlsss\"))"
   ]
  },
  {
   "cell_type": "code",
   "execution_count": 154,
   "id": "2c333ef6-695b-4f5d-9fcb-223ebaac4879",
   "metadata": {},
   "outputs": [
    {
     "data": {
      "text/plain": [
       "True"
      ]
     },
     "execution_count": 154,
     "metadata": {},
     "output_type": "execute_result"
    }
   ],
   "source": [
    "#046 startswith 메서드\n",
    "#파일 이름이 문자열로 저장되어 있을 때 startswith 메서드를 사용해서 파일 이름이 '2020'로 시작하는지 확인해보세요.\n",
    "\n",
    "file_name = \"2020_보고서.xlsx\"\n",
    "file_name.startswith(\"2020\")"
   ]
  },
  {
   "cell_type": "code",
   "execution_count": 156,
   "id": "78d45203-000d-4e26-8e66-ba2b841eb9f0",
   "metadata": {},
   "outputs": [
    {
     "data": {
      "text/plain": [
       "['hello', 'world']"
      ]
     },
     "execution_count": 156,
     "metadata": {},
     "output_type": "execute_result"
    }
   ],
   "source": [
    "#047 split 메서드\n",
    "#다음과 같은 문자열이 있을 때 공백을 기준으로 문자열을 나눠보세요.\n",
    "a = \"hello world\"\n",
    "a.split()"
   ]
  },
  {
   "cell_type": "code",
   "execution_count": 158,
   "id": "88b3abed-0a65-4702-8e61-c85228313607",
   "metadata": {},
   "outputs": [
    {
     "data": {
      "text/plain": [
       "['btc', 'krw']"
      ]
     },
     "execution_count": 158,
     "metadata": {},
     "output_type": "execute_result"
    }
   ],
   "source": [
    "#048 split 메서드\n",
    "#다음과 같이 문자열이 있을 때 btc와 krw로 나눠보세요.\n",
    "ticker = \"btc_krw\"\n",
    "ticker.split(\"_\")"
   ]
  },
  {
   "cell_type": "code",
   "execution_count": 162,
   "id": "d070f61e-811b-4a52-8f88-00e47c89abb4",
   "metadata": {},
   "outputs": [
    {
     "data": {
      "text/plain": [
       "['2020', '05', '01']"
      ]
     },
     "execution_count": 162,
     "metadata": {},
     "output_type": "execute_result"
    }
   ],
   "source": [
    "#049 split 메서드\n",
    "#다음과 같이 날짜를 표현하는 문자열이 있을 때 연도, 월, 일로 나눠보세요.\n",
    "date = \"2020-05-01\"\n",
    "date.split(\"-\")"
   ]
  },
  {
   "cell_type": "code",
   "execution_count": 164,
   "id": "a2c20fc3-9b35-4325-a370-c0328882039c",
   "metadata": {},
   "outputs": [
    {
     "data": {
      "text/plain": [
       "'039490'"
      ]
     },
     "execution_count": 164,
     "metadata": {},
     "output_type": "execute_result"
    }
   ],
   "source": [
    "#050 rstrip 메서드\n",
    "#문자열의 오른쪽에 공백이 있을 때 이를 제거해보세요\n",
    "data = \"039490     \"\n",
    "data.rstrip()"
   ]
  },
  {
   "cell_type": "code",
   "execution_count": null,
   "id": "6785b9d5-a5c4-49ac-8f12-e816d07bc16f",
   "metadata": {},
   "outputs": [],
   "source": []
  }
 ],
 "metadata": {
  "kernelspec": {
   "display_name": "Python 3 (ipykernel)",
   "language": "python",
   "name": "python3"
  },
  "language_info": {
   "codemirror_mode": {
    "name": "ipython",
    "version": 3
   },
   "file_extension": ".py",
   "mimetype": "text/x-python",
   "name": "python",
   "nbconvert_exporter": "python",
   "pygments_lexer": "ipython3",
   "version": "3.12.4"
  }
 },
 "nbformat": 4,
 "nbformat_minor": 5
}
