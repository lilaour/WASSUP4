{
 "cells": [
  {
   "cell_type": "markdown",
   "id": "c41b8278-0bb7-468f-9ada-43b62307f9ce",
   "metadata": {},
   "source": [
    "# 04. 파이썬 리스트"
   ]
  },
  {
   "cell_type": "code",
   "execution_count": 9,
   "id": "13ebe744-80b9-40f5-a032-152e13ec8ec5",
   "metadata": {},
   "outputs": [
    {
     "data": {
      "text/plain": [
       "['닥터 스트레인지', '스플릿', '럭키']"
      ]
     },
     "execution_count": 9,
     "metadata": {},
     "output_type": "execute_result"
    }
   ],
   "source": [
    "#051 리스트 생성\n",
    "#2016년 11월 영화 예매 순위 기준 top3는 다음과 같습니다. 영화 제목을 movie_rank 이름의 리스트에 저장해보세요. (순위 정보는 저장하지 않습니다.)\n",
    "\n",
    "#순위\t영화\n",
    "#1\t닥터 스트레인지\n",
    "#2\t스플릿\n",
    "#3\t럭키\n",
    "\n",
    "list = [\"닥터 스트레인지\", \"스플릿\", \"럭키\"]\n",
    "list"
   ]
  },
  {
   "cell_type": "code",
   "execution_count": 13,
   "id": "790eedf3-cb47-49de-8b40-26ad0d2bb177",
   "metadata": {},
   "outputs": [
    {
     "data": {
      "text/plain": [
       "['닥터 스트레인지', '스플릿', '럭키', '배트맨']"
      ]
     },
     "execution_count": 13,
     "metadata": {},
     "output_type": "execute_result"
    }
   ],
   "source": [
    "#052 리스트에 원소 추가\n",
    "#051의 movie_rank 리스트에 \"배트맨\"을 추가하라.\n",
    "list.append(\"배트맨\")\n",
    "list"
   ]
  },
  {
   "cell_type": "code",
   "execution_count": 39,
   "id": "0298b07a-660b-4657-bc22-60f62a02206f",
   "metadata": {},
   "outputs": [
    {
     "data": {
      "text/plain": [
       "['닥터 스트레인지', '슈퍼맨', '스플릿', '럭키']"
      ]
     },
     "execution_count": 39,
     "metadata": {},
     "output_type": "execute_result"
    }
   ],
   "source": [
    "#053 movie_rank 리스트에는 아래와 같이 네 개의 영화 제목이 바인딩되어 있다. \"슈퍼맨\"을 \"닥터 스트레인지\"와 \"스플릿\" 사이에 추가하라.\n",
    "list = [\"닥터 스트레인지\", \"스플릿\", \"럭키\"]\n",
    "list.insert(1, \"슈퍼맨\")\n",
    "list"
   ]
  },
  {
   "cell_type": "code",
   "execution_count": 43,
   "id": "94606716-598e-4377-ac20-1cbc01d89b11",
   "metadata": {},
   "outputs": [
    {
     "name": "stdout",
     "output_type": "stream",
     "text": [
      "['닥터 스트레인지', '슈퍼맨', '스플릿']\n"
     ]
    }
   ],
   "source": [
    "#054\n",
    "#movie_rank 리스트에서 '럭키'를 삭제하라\n",
    "\n",
    "del list[3]\n",
    "print(list)"
   ]
  },
  {
   "cell_type": "code",
   "execution_count": 47,
   "id": "3ca80193-f07d-491a-9440-911c718f380f",
   "metadata": {},
   "outputs": [
    {
     "data": {
      "text/plain": [
       "['닥터 스트레인지', '스플릿', '럭키', '배트맨']"
      ]
     },
     "execution_count": 47,
     "metadata": {},
     "output_type": "execute_result"
    }
   ],
   "source": [
    "#055\n",
    "#movie_rank 리스트에서 '스플릿' 과 '배트맨'을 를 삭제하라.\n",
    "list = [\"닥터 스트레인지\", \"스플릿\", \"럭키\", \"배트맨\"]\n",
    "list"
   ]
  },
  {
   "cell_type": "code",
   "execution_count": 65,
   "id": "07b0133b-0d2f-4ee1-8abe-d5e275a43a38",
   "metadata": {},
   "outputs": [
    {
     "data": {
      "text/plain": [
       "['닥터 스트레인지', '슈퍼맨', '스플릿', '배트맨']"
      ]
     },
     "execution_count": 65,
     "metadata": {},
     "output_type": "execute_result"
    }
   ],
   "source": [
    "list = ['닥터 스트레인지', '슈퍼맨', '스플릿', '배트맨']\n",
    "list"
   ]
  },
  {
   "cell_type": "code",
   "execution_count": 67,
   "id": "3d75d8df-c93d-461b-9594-5953f1342052",
   "metadata": {},
   "outputs": [
    {
     "data": {
      "text/plain": [
       "['닥터 스트레인지', '배트맨']"
      ]
     },
     "execution_count": 67,
     "metadata": {},
     "output_type": "execute_result"
    }
   ],
   "source": [
    "del list[1]\n",
    "del list[1]\n",
    "list"
   ]
  },
  {
   "cell_type": "code",
   "execution_count": 79,
   "id": "704849a2-a642-435e-8147-3ff2be1181ff",
   "metadata": {},
   "outputs": [
    {
     "data": {
      "text/plain": [
       "['C', 'C++', 'JAVA', 'Python', 'Go', 'C#']"
      ]
     },
     "execution_count": 79,
     "metadata": {},
     "output_type": "execute_result"
    }
   ],
   "source": [
    "#056\n",
    "#lang1과 lang2 리스트가 있을 때 lang1과 lang2의 원소를 모두 갖고 있는 langs 리스트를 만들어라.\n",
    "lang1 = [\"C\", \"C++\", \"JAVA\"]\n",
    "lang2 = [\"Python\", \"Go\", \"C#\"]\n",
    "langs = lang1 + lang2\n",
    "langs"
   ]
  },
  {
   "cell_type": "code",
   "execution_count": 91,
   "id": "6f38bcc6-e335-45bb-87c5-72fec38a8b6d",
   "metadata": {},
   "outputs": [
    {
     "name": "stdout",
     "output_type": "stream",
     "text": [
      "7\n",
      "1\n"
     ]
    }
   ],
   "source": [
    "#057 다음 리스트에서 최댓값과 최솟값을 출력하라. (힌트: min(), max() 함수 사용)\n",
    "nums = [1, 2, 3, 4, 5, 6, 7]\n",
    "print(max(nums))\n",
    "print(min(nums))"
   ]
  },
  {
   "cell_type": "code",
   "execution_count": 93,
   "id": "e5528471-796a-4d3b-978e-4de99313fc5d",
   "metadata": {},
   "outputs": [
    {
     "data": {
      "text/plain": [
       "15"
      ]
     },
     "execution_count": 93,
     "metadata": {},
     "output_type": "execute_result"
    }
   ],
   "source": [
    "#058 다음 리스트의 합을 출력하라.\n",
    "nums = [1, 2, 3, 4, 5]\n",
    "sum(nums)"
   ]
  },
  {
   "cell_type": "code",
   "execution_count": 95,
   "id": "4c715cbd-79bd-4450-9b73-a6c8334607c4",
   "metadata": {},
   "outputs": [
    {
     "name": "stdout",
     "output_type": "stream",
     "text": [
      "12\n"
     ]
    }
   ],
   "source": [
    "#059 다음 리스트에 저장된 데이터의 개수를 화면에 구하하라.\n",
    "\n",
    "cook = [\"피자\", \"김밥\", \"만두\", \"양념치킨\", \"족발\", \"피자\", \"김치만두\", \"쫄면\", \"소시지\", \"라면\", \"팥빙수\", \"김치전\"]\n",
    "print(len(cook))"
   ]
  },
  {
   "cell_type": "code",
   "execution_count": 97,
   "id": "03e89462-31b1-45ab-bb7e-d3c8d2092611",
   "metadata": {},
   "outputs": [
    {
     "data": {
      "text/plain": [
       "3.0"
      ]
     },
     "execution_count": 97,
     "metadata": {},
     "output_type": "execute_result"
    }
   ],
   "source": [
    "# 060 다음 리스트의 평균을 출력하라.\n",
    "\n",
    "nums = [1, 2, 3, 4, 5]\n",
    "sum(nums) / len(nums)"
   ]
  },
  {
   "cell_type": "code",
   "execution_count": 101,
   "id": "1e8a8bf5-1ac2-4e11-bcef-255ddd942582",
   "metadata": {},
   "outputs": [
    {
     "data": {
      "text/plain": [
       "[100, 130, 140, 150, 160, 170]"
      ]
     },
     "execution_count": 101,
     "metadata": {},
     "output_type": "execute_result"
    }
   ],
   "source": [
    "# 061 price 변수에는 날짜와 종가 정보가 저장돼 있다. 날짜 정보를 제외하고 가격 정보만을 출력하라. (힌트 : 슬라이싱)\n",
    "price = ['20180728', 100, 130, 140, 150, 160, 170]\n",
    "price[1:]"
   ]
  },
  {
   "cell_type": "code",
   "execution_count": 103,
   "id": "ad280dce-5c21-483d-8f51-fa7a6eabcd50",
   "metadata": {},
   "outputs": [
    {
     "data": {
      "text/plain": [
       "[1, 3, 5, 7, 9]"
      ]
     },
     "execution_count": 103,
     "metadata": {},
     "output_type": "execute_result"
    }
   ],
   "source": [
    "# 062 슬라이싱을 사용해서 홀수만 출력하라.\n",
    "nums = [1, 2, 3, 4, 5, 6, 7, 8, 9, 10]\n",
    "nums[::2]"
   ]
  },
  {
   "cell_type": "code",
   "execution_count": 107,
   "id": "0428b525-7c57-4fa6-9dc3-168cad6c12c5",
   "metadata": {},
   "outputs": [
    {
     "data": {
      "text/plain": [
       "[2, 4, 6, 8, 10]"
      ]
     },
     "execution_count": 107,
     "metadata": {},
     "output_type": "execute_result"
    }
   ],
   "source": [
    "# 063 슬라이싱을 사용해서 짝수만 출력하라.\n",
    "nums = [1, 2, 3, 4, 5, 6, 7, 8, 9, 10]\n",
    "nums[1::2]"
   ]
  },
  {
   "cell_type": "code",
   "execution_count": 113,
   "id": "36887b08-e900-437e-9344-d7be774d45c6",
   "metadata": {},
   "outputs": [
    {
     "data": {
      "text/plain": [
       "[5, 4, 3, 2, 1]"
      ]
     },
     "execution_count": 113,
     "metadata": {},
     "output_type": "execute_result"
    }
   ],
   "source": [
    "#064슬라이싱을 사용해서 리스트의 숫자를 역 방향으로 출력하라.\n",
    "\n",
    "nums = [1, 2, 3, 4, 5]\n",
    "nums[::-1]"
   ]
  },
  {
   "cell_type": "code",
   "execution_count": 115,
   "id": "13f1ac1b-9bfc-47e0-8e4e-06203464acb9",
   "metadata": {},
   "outputs": [
    {
     "data": {
      "text/plain": [
       "('삼성전자', 'Naver')"
      ]
     },
     "execution_count": 115,
     "metadata": {},
     "output_type": "execute_result"
    }
   ],
   "source": [
    "# 065 interest 리스트에는 아래의 데이터가 바인딩되어 있다. interest 리스트를 사용하여 아래와 같이 화면에 출력하라.\n",
    "# 출력 예시: 삼성전자 Naver\n",
    "interest = ['삼성전자', 'LG전자', 'Naver']\n",
    "interest[0], interest[2]"
   ]
  },
  {
   "cell_type": "code",
   "execution_count": 121,
   "id": "e81f0948-524f-484e-bbfa-533bc500b30b",
   "metadata": {},
   "outputs": [
    {
     "name": "stdout",
     "output_type": "stream",
     "text": [
      "삼성전자 LG전자 Naver SK하이닉스 미래에셋대우\n"
     ]
    }
   ],
   "source": [
    "# 066 join 메서드 \n",
    "#interest 리스트에는 아래의 데이터가 바인딩되어 있다.interest 리스트를 사용하여 아래와 같이 화면에 출력하라.\n",
    "#출력 예시:삼성전자 LG전자 Naver SK하이닉스 미래에셋대우\n",
    "interest = ['삼성전자', 'LG전자', 'Naver', 'SK하이닉스', '미래에셋대우']\n",
    "print(\" \".join(interest))"
   ]
  },
  {
   "cell_type": "code",
   "execution_count": 125,
   "id": "24966acb-43ff-4cce-88f2-47cbd94c7e00",
   "metadata": {},
   "outputs": [
    {
     "name": "stdout",
     "output_type": "stream",
     "text": [
      "삼성전자/LG전자/Naver/SK하이닉스/미래에셋대우\n"
     ]
    }
   ],
   "source": [
    "# 067 join 메서드 \n",
    "# interest 리스트에는 아래의 데이터가 바인딩되어 있다. interest 리스트를 사용하여 아래와 같이 화면에 출력하라.\n",
    "# 출력 예시:삼성전자/LG전자/Naver/SK하이닉스/미래에셋대우\n",
    "interest = ['삼성전자', 'LG전자', 'Naver', 'SK하이닉스', '미래에셋대우']\n",
    "print( \"/\".join(interest))"
   ]
  },
  {
   "cell_type": "code",
   "execution_count": 131,
   "id": "c54770b6-7fe8-4e54-90e2-ed49d3530120",
   "metadata": {},
   "outputs": [
    {
     "name": "stdout",
     "output_type": "stream",
     "text": [
      "삼성전자\n",
      "LG전자\n",
      "Naver\n",
      "SK하이닉스\n",
      "미래에셋대우\n"
     ]
    }
   ],
   "source": [
    "# 068 join 메서드\n",
    "# interest 리스트에는 아래의 데이터가 바인딩되어 있다. join() 메서드를 사용해서 interest 리스트를 아래와 같이 화면에 출력하라.\n",
    "# 출력 예시: \n",
    "#삼성전자\n",
    "#LG전자\n",
    "#Naver\n",
    "#SK하이닉스\n",
    "#미래에셋대우\n",
    "\n",
    "\n",
    "interest = ['삼성전자', 'LG전자', 'Naver', 'SK하이닉스', '미래에셋대우']\n",
    "print(\"\\n\".join(interest))"
   ]
  },
  {
   "cell_type": "code",
   "execution_count": 141,
   "id": "f644f33c-7f76-4f2c-8272-be2a9b815db7",
   "metadata": {},
   "outputs": [
    {
     "data": {
      "text/plain": [
       "['삼성전자', 'LG전자', 'Naver']"
      ]
     },
     "execution_count": 141,
     "metadata": {},
     "output_type": "execute_result"
    }
   ],
   "source": [
    "# 069 문자열 split 메서드\n",
    "# 회사 이름이 슬래시 ('/')로 구분되어 하나의 문자열로 저장되어 있다. 이를 interest 이름의 리스트로 분리 저장하라.\n",
    "# 실행 예시 ['삼성전자', 'LG전자', 'Naver']\n",
    "\n",
    "string = \"삼성전자/LG전자/Naver\"\n",
    "interest = string.split(\"/\")\n",
    "interest\n"
   ]
  },
  {
   "cell_type": "code",
   "execution_count": 147,
   "id": "e86ff888-77c2-4306-baec-0fad4d0e1235",
   "metadata": {},
   "outputs": [
    {
     "data": {
      "text/plain": [
       "[1, 2, 3, 4, 5, 9, 10]"
      ]
     },
     "execution_count": 147,
     "metadata": {},
     "output_type": "execute_result"
    }
   ],
   "source": [
    "# 70 리스트 정렬\n",
    "# 리스트에 있는 값을 오름차순으로 정렬하세요.\n",
    "data = [2, 4, 3, 1, 5, 10, 9]\n",
    "data.sort()\n",
    "data"
   ]
  },
  {
   "cell_type": "markdown",
   "id": "0ca69c0c-c4b5-48b3-84e5-f41ff5045687",
   "metadata": {},
   "source": [
    "## 파이썬 튜플"
   ]
  },
  {
   "cell_type": "code",
   "execution_count": 153,
   "id": "869e25d6-146c-427e-8eb9-96e0d7450053",
   "metadata": {},
   "outputs": [
    {
     "name": "stdout",
     "output_type": "stream",
     "text": [
      "<class 'tuple'>\n"
     ]
    }
   ],
   "source": [
    "# 071 my_variable 이름의 비어있는 튜플을 만들라\n",
    "my_variable = ()\n",
    "print(type(my_variable))"
   ]
  },
  {
   "cell_type": "code",
   "execution_count": 157,
   "id": "ae4ff162-4fd9-4282-acd1-7935f2c5f9f4",
   "metadata": {},
   "outputs": [
    {
     "data": {
      "text/plain": [
       "('닥터 스트레인지', '스플릿', '럭키')"
      ]
     },
     "execution_count": 157,
     "metadata": {},
     "output_type": "execute_result"
    }
   ],
   "source": [
    "# 072 2016년 11월 영화 예매 순위 기준 top3는 다음과 같다. 영화 제목을 movie_rank 이름의 튜플에 저장하라. (순위 정보는 저장하지 않는다.)\n",
    "# 순위\t영화\n",
    "# 1\t닥터 스트레인지\n",
    "# 2\t스플릿\n",
    "# 3\t럭키\n",
    "\n",
    "movie_rank = (\"닥터 스트레인지\", \"스플릿\", \"럭키\")\n",
    "movie_rank"
   ]
  },
  {
   "cell_type": "code",
   "execution_count": 161,
   "id": "5473f9f5-5618-47af-a47b-944ac5f9d8fe",
   "metadata": {},
   "outputs": [
    {
     "name": "stdout",
     "output_type": "stream",
     "text": [
      "1\n",
      "<class 'int'>\n"
     ]
    }
   ],
   "source": [
    "# 073 숫자 1 이 저장된 튜플을 생성하라.\n",
    "tuple = (1)\n",
    "print(tuple)\n",
    "print(type(tuple))"
   ]
  },
  {
   "cell_type": "code",
   "execution_count": 163,
   "id": "84de1bf8-4524-48e9-9c9b-a4f49e314e29",
   "metadata": {},
   "outputs": [
    {
     "ename": "SyntaxError",
     "evalue": "invalid syntax. Perhaps you forgot a comma? (3857254808.py, line 4)",
     "output_type": "error",
     "traceback": [
      "\u001b[1;36m  Cell \u001b[1;32mIn[163], line 4\u001b[1;36m\u001b[0m\n\u001b[1;33m    Traceback (most recent call last):\u001b[0m\n\u001b[1;37m               ^\u001b[0m\n\u001b[1;31mSyntaxError\u001b[0m\u001b[1;31m:\u001b[0m invalid syntax. Perhaps you forgot a comma?\n"
     ]
    }
   ],
   "source": [
    "# 074 다음 코드를 실행해보고 오류가 발생하는 원인을 설명하라.\n",
    "t = (1, 2, 3)\n",
    "t[0] = 'a'\n",
    "Traceback (most recent call last):\n",
    "  File \"<pyshell#46>\", line 1, in <module>\n",
    "    t[0] = 'a'\n",
    "TypeError: 'tuple' object does not support item assignment\n"
   ]
  },
  {
   "cell_type": "code",
   "execution_count": null,
   "id": "8d1ec814-6aae-429f-bcb9-b17949421a43",
   "metadata": {},
   "outputs": [],
   "source": [
    "# 74번 답 : 튜플은 값 변경이 불가하다."
   ]
  },
  {
   "cell_type": "code",
   "execution_count": null,
   "id": "c8f63f95-da41-4930-bc7b-5fd26b445f4d",
   "metadata": {},
   "outputs": [],
   "source": [
    "# 075 아래와 같이 t에는 1, 2, 3, 4 데이터가 바인딩되어 있다. t가 바인딩하는 데이터 타입은 무엇인가?\n",
    "t = 1, 2, 3, 4\n",
    "\n",
    "# 튜플은 괄호 없이도 동작한다."
   ]
  },
  {
   "cell_type": "markdown",
   "id": "bb238991-46ad-41db-bfb0-174e2f97fdc2",
   "metadata": {},
   "source": [
    "## 파이썬 딕셔너리"
   ]
  },
  {
   "cell_type": "code",
   "execution_count": null,
   "id": "851c3c38-e879-488a-b1c2-8903e1f9006d",
   "metadata": {},
   "outputs": [],
   "source": [
    "# 081 별 표현식"
   ]
  },
  {
   "cell_type": "code",
   "execution_count": null,
   "id": "57a30e69-0fc2-45df-ad64-af13a8d85ae5",
   "metadata": {},
   "outputs": [],
   "source": []
  },
  {
   "cell_type": "code",
   "execution_count": null,
   "id": "d2b2e199-e1af-496c-8420-6bd6f36d4fab",
   "metadata": {},
   "outputs": [],
   "source": []
  },
  {
   "cell_type": "code",
   "execution_count": null,
   "id": "59f53aff-4db9-4855-bc16-337775d162bf",
   "metadata": {},
   "outputs": [],
   "source": []
  },
  {
   "cell_type": "code",
   "execution_count": null,
   "id": "ed5738d8-3fc0-441a-8497-a8f9ff31955d",
   "metadata": {},
   "outputs": [],
   "source": []
  },
  {
   "cell_type": "code",
   "execution_count": null,
   "id": "50d6f7c5-2ee8-4446-86dd-55b723379b33",
   "metadata": {},
   "outputs": [],
   "source": []
  },
  {
   "cell_type": "code",
   "execution_count": null,
   "id": "539dc869-3ea7-44a6-b0a4-22c8eb34ec1f",
   "metadata": {},
   "outputs": [],
   "source": []
  },
  {
   "cell_type": "code",
   "execution_count": null,
   "id": "ced2ef5c-e09d-4dad-b99a-e7669cb403bc",
   "metadata": {},
   "outputs": [],
   "source": []
  },
  {
   "cell_type": "code",
   "execution_count": null,
   "id": "38b58867-99da-4205-afb8-d084fb280a3f",
   "metadata": {},
   "outputs": [],
   "source": []
  },
  {
   "cell_type": "code",
   "execution_count": null,
   "id": "e3782e0a-9b67-4df0-91c3-d4eae58eaa99",
   "metadata": {},
   "outputs": [],
   "source": []
  }
 ],
 "metadata": {
  "kernelspec": {
   "display_name": "Python 3 (ipykernel)",
   "language": "python",
   "name": "python3"
  },
  "language_info": {
   "codemirror_mode": {
    "name": "ipython",
    "version": 3
   },
   "file_extension": ".py",
   "mimetype": "text/x-python",
   "name": "python",
   "nbconvert_exporter": "python",
   "pygments_lexer": "ipython3",
   "version": "3.12.4"
  }
 },
 "nbformat": 4,
 "nbformat_minor": 5
}
