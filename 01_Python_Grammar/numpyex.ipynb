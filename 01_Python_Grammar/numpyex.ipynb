{
 "cells": [
  {
   "cell_type": "code",
   "execution_count": 1,
   "id": "734ee002-38f7-440c-aac2-cc4e2696f2b4",
   "metadata": {},
   "outputs": [],
   "source": [
    "# Numpy\n",
    "# Numerical Python\n",
    "# 고성능 수치 계산을 위한 라이브러리\n",
    "# 벡터나 행렬 연산에 편리한 기능 제공\n",
    "# 모든 원소는 같은 자료형만 가능"
   ]
  },
  {
   "cell_type": "code",
   "execution_count": 2,
   "id": "388a493f-03db-4d9f-afb7-8c0e33d40584",
   "metadata": {},
   "outputs": [
    {
     "name": "stdout",
     "output_type": "stream",
     "text": [
      "[ 0  1  2  3  4  5  6  7  8  9 10 11 12 13 14]\n",
      "[[ 0  3  6  9 12]\n",
      " [ 1  4  7 10 13]\n",
      " [ 2  5  8 11 14]]\n",
      "<class 'numpy.ndarray'>\n",
      "(3, 5)\n",
      "int64\n",
      "2\n",
      "15\n"
     ]
    }
   ],
   "source": [
    "import numpy as np\n",
    "a = np.arange( 15 )\n",
    "print( a )\n",
    "a = a.reshape( 3, 5, order='F' )        # C 행부터 할당 기본값  F 열부터 할당\n",
    "print( a )\n",
    "print( type( a ) )\n",
    "print( a.shape )\n",
    "print( a.dtype )\n",
    "print( a.ndim )\n",
    "print( a.size )\n",
    "\n",
    "# print( dir( np ) )"
   ]
  },
  {
   "cell_type": "code",
   "execution_count": 3,
   "id": "932ea21b-7174-481a-bb69-9115ec5aa0cd",
   "metadata": {},
   "outputs": [
    {
     "name": "stdout",
     "output_type": "stream",
     "text": [
      "<class 'list'>\n",
      "<class 'numpy.ndarray'>\n",
      "<class 'tuple'>\n",
      "<class 'numpy.ndarray'>\n",
      "<class 'set'>\n",
      "<class 'numpy.ndarray'>\n"
     ]
    }
   ],
   "source": [
    "b = [-1, 2, 5, -3, 0, 7, -9, 7, -4, -7 ]      # List\n",
    "print( type( b ) )\n",
    "b = np.array( b )\n",
    "print( type( b ) )\n",
    "\n",
    "t = ( 10, 20, 30, 40, 50 )                  # Tuple\n",
    "print( type( t ) )\n",
    "t = np.array( t )\n",
    "print( type( t ) )\n",
    "\n",
    "s = { 10, 20, 30, 40, 50 }                  # Set\n",
    "print( type( s ) )\n",
    "s = np.array( s )\n",
    "print( type( s ) )"
   ]
  },
  {
   "cell_type": "code",
   "execution_count": 4,
   "id": "6f0c0500-c1db-4eee-ad68-c31a72320a44",
   "metadata": {},
   "outputs": [
    {
     "name": "stdout",
     "output_type": "stream",
     "text": [
      "(10,)\n",
      "1\n",
      "int64\n",
      "[-1  2  5 -3  0  7 -9  7 -4 -7]\n",
      "[1 2 5 3 0 7 9 7 4 7]\n",
      "[1.         1.41421356 2.23606798 1.73205081 0.         2.64575131\n",
      " 3.         2.64575131 2.         2.64575131]\n",
      "[ 1  4 25  9  0 49 81 49 16 49]\n",
      "[False False False False False False False False False False]\n",
      "-3\n",
      "-0.3\n",
      "7\n",
      "-9\n",
      "5\n",
      "6\n",
      "[-9 -7 -4 -3 -1  0  2  5  7  7]\n",
      "[ 7  7  5  2  0 -1 -3 -4 -7 -9]\n",
      "-0.5\n"
     ]
    }
   ],
   "source": [
    "print( b.shape )\n",
    "print( b.ndim )\n",
    "print( b.dtype )\n",
    "print( b )\n",
    "\n",
    "# print( help( np.arange ) )\n",
    "print( np.abs( b ) )                   # 절대값\n",
    "print( np.sqrt( np.abs( b ) ) )        # 제곱근\n",
    "print( np.square( b ) )                # 제곱\n",
    "print( np.isnan( b ) )                 # NaN 여부\n",
    "print( np.sum( b ) )                   # 합계\n",
    "print( np.mean( b ) )                  # 평균\n",
    "print( np.max( b ) )                   # 최대값\n",
    "print( np.min( b ) )                   # 최소값\n",
    "print( np.argmax( b ) )                # 최대값 인덱스\n",
    "print( np.argmin( b ) )                # 최소값 인덱스\n",
    "print( np.sort( b ) )                  # 정렬 오름차순\n",
    "print( np.sort( b )[::-1] )            # 정렬 내림차순      [start : end : step]\n",
    "print( np.median( b ) )                # 중간값"
   ]
  },
  {
   "cell_type": "code",
   "execution_count": 21,
   "id": "f517b335-9eb9-4242-aa56-6d02d324585c",
   "metadata": {},
   "outputs": [
    {
     "name": "stdout",
     "output_type": "stream",
     "text": [
      "<class 'list'>\n",
      "[[1, 2, 3], [4, 5, 6]]\n",
      "<class 'numpy.ndarray'>\n",
      "[[1 2 3]\n",
      " [4 5 6]]\n",
      "21\n",
      "[5 7 9]\n",
      "[ 6 15]\n",
      "3.5\n",
      "[2.5 3.5 4.5]\n",
      "[2. 5.]\n",
      "3.5\n",
      "[2.5 3.5 4.5]\n",
      "[2. 5.]\n",
      "6\n",
      "[4 5 6]\n",
      "[3 6]\n",
      "1.707825127659933\n",
      "2.9166666666666665\n"
     ]
    }
   ],
   "source": [
    "c = [ [ 1, 2, 3 ], [4, 5, 6] ]\n",
    "print( type( c ) )\n",
    "print( c )\n",
    "c = np.array( c )\n",
    "print( type( c ) )\n",
    "print( c )\n",
    "\n",
    "print( np.sum( c ) )\n",
    "print( np.sum( c, axis=0 ) )\n",
    "print( np.sum( c, axis=1 ) )\n",
    "print( np.mean( c ) )\n",
    "print( np.mean( c, axis=0 ) )\n",
    "print( np.mean( c, axis=1 ) )\n",
    "print( np.median( c ) )\n",
    "print( np.median( c, axis=0 ) )\n",
    "print( np.median( c, axis=1 ) )\n",
    "print( np.max( c ) )\n",
    "print( np.max( c, axis=0 ) )\n",
    "print( np.max( c, axis=1 ) )\n",
    "\n",
    "print( np.std( c ) )                  # 표준편차\n",
    "print( np.var( c ) )                  # 분산"
   ]
  },
  {
   "cell_type": "code",
   "execution_count": 32,
   "id": "82cbd9de-c893-4a57-b223-65e58372d1ba",
   "metadata": {},
   "outputs": [
    {
     "name": "stdout",
     "output_type": "stream",
     "text": [
      "[12 22 32 42 52]\n",
      "[11 22 33 44 55]\n",
      "[ 100  400  900 1600 2500]\n",
      "[ -5.44021111  18.25890501 -29.64094872  29.80452642 -13.11874269]\n",
      "[False False False  True  True]\n",
      "[11 22 33 44 55]\n",
      "[ 9 18 27 36 45]\n",
      "[ 10  40  90 160 250]\n",
      "[10. 10. 10. 10. 10.]\n"
     ]
    }
   ],
   "source": [
    "# element wise\n",
    "d = [ 10, 20, 30, 40, 50 ]\n",
    "# print( d + 2 )               # error\n",
    "d = np.array( d )\n",
    "print( d + 2 )\n",
    "\n",
    "e = np.array( [ 1, 2, 3, 4, 5 ] )\n",
    "print( d + e )\n",
    "print( d ** 2 )\n",
    "print( d * np.sin( d ) )\n",
    "print( d > 35 )\n",
    "\n",
    "print( np.add( d, e ) )\n",
    "print( np.subtract( d, e ) )\n",
    "print( np.multiply( d, e ) )\n",
    "print( np.divide( d, e ) )"
   ]
  },
  {
   "cell_type": "code",
   "execution_count": 36,
   "id": "78eacd28-ea39-4fea-aa34-5c515f43f96b",
   "metadata": {},
   "outputs": [
    {
     "name": "stdout",
     "output_type": "stream",
     "text": [
      "[[0 0]\n",
      " [3 4]]\n",
      "[[3 4]\n",
      " [5 4]]\n",
      "[[3 4]\n",
      " [5 4]]\n",
      "[[3 4]\n",
      " [5 4]]\n"
     ]
    }
   ],
   "source": [
    "f = np.array( [ [0, 1], [1, 1] ] )\n",
    "g = np.array( [ [2, 0], [3, 4] ] )\n",
    "print( f * g )\n",
    "print( f @ g )                 # 행렬곱\n",
    "print( np.dot( f, g ) )        # 행렬곱\n",
    "print( f.dot( g ) )             "
   ]
  },
  {
   "cell_type": "code",
   "execution_count": 53,
   "id": "28362e8e-c4cb-46bb-bc21-18a79884d7f1",
   "metadata": {},
   "outputs": [
    {
     "name": "stdout",
     "output_type": "stream",
     "text": [
      "[0. 0. 0. 0. 0. 0. 0. 0. 0. 0.]\n",
      "[[0. 0. 0. 0. 0.]\n",
      " [0. 0. 0. 0. 0.]\n",
      " [0. 0. 0. 0. 0.]\n",
      " [0. 0. 0. 0. 0.]\n",
      " [0. 0. 0. 0. 0.]]\n",
      "[1. 1. 1. 1. 1. 1. 1. 1. 1. 1.]\n",
      "<class 'numpy.ndarray'>\n",
      "[18 16 13  5  6  5 73 84 23 52]\n",
      "12\n",
      "[[0.21259423 0.84986202]\n",
      " [0.71882952 0.99245898]\n",
      " [0.29902758 0.38233151]\n",
      " [0.55800134 0.05141651]\n",
      " [0.021345   0.64079744]]\n"
     ]
    }
   ],
   "source": [
    "h = np.zeros( 10 )\n",
    "print( h )\n",
    "i = np.zeros( ( 5, 5 ) )\n",
    "print( i )\n",
    "j = np.ones( 10 )\n",
    "print( j )\n",
    "\n",
    "# np.random.random\t\t\t0~1 사이의 난수 발생\n",
    "# np.random.randint\t\t\t균일 분포의 정수 난수 발생\n",
    "# np.random.rand\t\t\t0~1 사이의 균일 분포 난수 matrix array 생성\n",
    "# np.random.randn\t\t\t가우시안 표준 정규 분포 난수 matrix array 생성\n",
    "# np.random.nomral\t\t    평균, 표준편차, sample 개수\n",
    "\n",
    "k = np.random.random( 10 ) * 100\n",
    "k = np.array( [ int(i) for i in k ] )\n",
    "print( type( k ) )\n",
    "print( k )\n",
    "\n",
    "print( np.random.randint( 10, 20 ) )\n",
    "print( np.random.rand( 5, 2 ) )"
   ]
  },
  {
   "cell_type": "code",
   "execution_count": 65,
   "id": "19cc832b-f61a-4ce9-b7e2-592783c89059",
   "metadata": {},
   "outputs": [
    {
     "name": "stdout",
     "output_type": "stream",
     "text": [
      "[10, 11, 12, 13, 14]\n",
      "[10, 12, 14]\n",
      "[10, 11, 12, 13, 14, 15, 16, 17, 18, 19]\n",
      "[15, 16, 17, 18, 19]\n",
      "[10, 11, 12, 13, 14, 15, 16, 17, 18]\n",
      "[19, 18, 17, 16, 15, 14, 13, 12, 11, 10]\n",
      "[10 11 12 13 14]\n",
      "[10 12 14]\n",
      "[10 11 12 13 14 15 16 17]\n"
     ]
    }
   ],
   "source": [
    "# 슬라이싱\n",
    "# List\n",
    "m = [ i for i in range( 10, 20 ) ]\n",
    "print( m[0:5] )            # [ 시작 : 끝 -1 : 간격 ]\n",
    "print( m[0:5:2] )\n",
    "print( m[:] )\n",
    "print( m[5:] )\n",
    "print( m[:-1] )\n",
    "print( m[::-1] )\n",
    "\n",
    "# ndarray\n",
    "w = np.arange( 10, 20 )\n",
    "print( w[0:5] )\n",
    "print( w[0:5:2] )\n",
    "print( w[:-2] )"
   ]
  },
  {
   "cell_type": "code",
   "execution_count": 88,
   "id": "4d2d45eb-e448-456e-91cc-4954c6c9adbe",
   "metadata": {},
   "outputs": [
    {
     "name": "stdout",
     "output_type": "stream",
     "text": [
      "13\n",
      "[[1, 2, 3, 4, 5], [6, 7, 8, 9, 10], [11, 12, 13, 14, 15]]\n",
      "[11, 12, 13, 14, 15]\n",
      "[6, 7]\n",
      "[[1, 2, 3, 4, 5]]\n",
      "[[ 1  2  3  4  5]\n",
      " [ 6  7  8  9 10]\n",
      " [11 12 13 14 15]]\n",
      "13\n",
      "[[ 1  2  3  4  5]\n",
      " [ 6  7  8  9 10]\n",
      " [11 12 13 14 15]]\n",
      "[11 12 13 14 15]\n",
      "[[1 2 3 4 5]]\n",
      "[[1 2]\n",
      " [6 7]]\n",
      "[[ 1  2  3  4  5]\n",
      " [ 6  7  8  9 10]\n",
      " [11 12 13 14 15]]\n",
      "[[1 2 3 4]\n",
      " [6 7 8 9]]\n",
      "13\n",
      "[[15 14 13 12 11]\n",
      " [10  9  8  7  6]\n",
      " [ 5  4  3  2  1]]\n",
      "[[ 1  2  3  4  5]\n",
      " [11 12 13 14 15]]\n",
      "[[ 2  4  5]\n",
      " [ 7  9 10]\n",
      " [12 14 15]]\n",
      "[ 4 15]\n"
     ]
    }
   ],
   "source": [
    "r = [ [1, 2, 3, 4, 5], [6, 7, 8, 9, 10], [11, 12, 13, 14, 15] ]\n",
    "print( r[2][2] )\n",
    "print( r[:][:] )\n",
    "print( r[2][:] )\n",
    "print( r[1][:2] )\n",
    "print( r[:2][:1] )               # [[1, 2, 3, 4, 5]]\n",
    "# print( r[:, :] )               # 에러\n",
    "\n",
    "s = np.arange( 1, 16 ).reshape( 3, 5 )\n",
    "print( s )\n",
    "print( s[2][2] )\n",
    "print( s[:][:] )\n",
    "print( s[2][:] )\n",
    "print( s[:2][:1] )               # [[1 2 3 4 5]]\n",
    "\n",
    "print( s[:2, :2] )\n",
    "print( s[:, :] )\n",
    "print( s[:-1, :-1] )\n",
    "print( s[2, 2] )\n",
    "print( s[::-1, ::-1] )\n",
    "\n",
    "print( s[[0, 2]] )\n",
    "print( s[:, [1, 3, 4]] )\n",
    "print( s[[0, 2], [3, 4]] )             # 0행 3열 2행 4열"
   ]
  },
  {
   "cell_type": "code",
   "execution_count": 90,
   "id": "842c2b23-8c77-45fb-82dd-bf8aa5f9c6c4",
   "metadata": {},
   "outputs": [
    {
     "name": "stdout",
     "output_type": "stream",
     "text": [
      "[[ 1  2  3  4  5]\n",
      " [ 6  7  8  9 10]\n",
      " [11 12 13 14 15]]\n",
      "[[ 1  6 11]\n",
      " [ 2  7 12]\n",
      " [ 3  8 13]\n",
      " [ 4  9 14]\n",
      " [ 5 10 15]]\n"
     ]
    }
   ],
   "source": [
    "# 전치 행렬\n",
    "print( s )                 # 3행 5열\n",
    "print( s.T )               # 5행 3열"
   ]
  },
  {
   "cell_type": "code",
   "execution_count": 109,
   "id": "fe2d2d1c-b056-4e7b-be5f-5aeb649c15e8",
   "metadata": {},
   "outputs": [
    {
     "name": "stdout",
     "output_type": "stream",
     "text": [
      "(1, 4)\n",
      "(2, 5)\n",
      "(3, 6)\n",
      "[(1, 4), (2, 5), (3, 6)]\n",
      "[1, 2, 3, 4, 5, 6]\n",
      "[1, 2, 3, 1, 2, 3]\n"
     ]
    }
   ],
   "source": [
    "# 결합 / 분리\n",
    "a = [ 1, 2, 3 ]\n",
    "b = [ 4, 5, 6 ]\n",
    "for ab in zip( a, b ) :\n",
    "    print( ab )\n",
    "print( list( zip( a, b ) ) )\n",
    "print( a + b )\n",
    "print( a * 2 )\n",
    "# print( a + 2 )                # 에러"
   ]
  },
  {
   "cell_type": "code",
   "execution_count": 110,
   "id": "62ea4fc9-97c2-4a51-b666-be060b997623",
   "metadata": {},
   "outputs": [
    {
     "name": "stdout",
     "output_type": "stream",
     "text": [
      "[[43. 91.]\n",
      " [99. 59.]]\n",
      "[[82. 33.]\n",
      " [67. 62.]]\n",
      "[[43. 91. 82. 33.]\n",
      " [99. 59. 67. 62.]]\n",
      "[[43. 91.]\n",
      " [99. 59.]\n",
      " [82. 33.]\n",
      " [67. 62.]]\n",
      "[[ 45.  93.]\n",
      " [101.  61.]]\n"
     ]
    }
   ],
   "source": [
    "c = np.floor( np.random.rand( 2, 2 ) * 100 )\n",
    "print( c )\n",
    "d = np.floor( np.random.rand( 2, 2 ) * 100 )\n",
    "print( d )\n",
    "print( np.hstack( ( c, d ) ) )\n",
    "print( np.vstack( ( c, d ) ) )\n",
    "print( c + 2 )"
   ]
  },
  {
   "cell_type": "code",
   "execution_count": 116,
   "id": "0b783ae7-7a4f-4ceb-868a-b8e6939f7dd4",
   "metadata": {},
   "outputs": [
    {
     "name": "stdout",
     "output_type": "stream",
     "text": [
      "[[43. 35. 34. 40. 77. 94. 15. 80. 35. 13. 31. 16. 63. 36. 31.]\n",
      " [52. 99. 15.  8. 57. 39. 34. 61. 44.  9. 74. 65. 66. 92. 42.]]\n",
      "[array([[43., 35., 34., 40., 77.],\n",
      "       [52., 99., 15.,  8., 57.]]), array([[94., 15., 80., 35., 13.],\n",
      "       [39., 34., 61., 44.,  9.]]), array([[31., 16., 63., 36., 31.],\n",
      "       [74., 65., 66., 92., 42.]])]\n",
      "[[43. 35. 34. 40. 77.]\n",
      " [52. 99. 15.  8. 57.]]\n",
      "[[94. 15. 80. 35. 13.]\n",
      " [39. 34. 61. 44.  9.]]\n",
      "[[31. 16. 63. 36. 31.]\n",
      " [74. 65. 66. 92. 42.]]\n",
      "[[43. 35. 34.]\n",
      " [52. 99. 15.]]\n",
      "[[40. 77. 94. 15.]\n",
      " [ 8. 57. 39. 34.]]\n",
      "[[80. 35. 13. 31. 16.]\n",
      " [61. 44.  9. 74. 65.]]\n",
      "[[63. 36. 31.]\n",
      " [66. 92. 42.]]\n"
     ]
    }
   ],
   "source": [
    "e = np.floor( np.random.rand( 2, 15 ) * 100 )\n",
    "print( e )\n",
    "print( np.hsplit( e, 3 ) )               # 3개\n",
    "for arr in np.hsplit( e, 3 ) :\n",
    "    print( arr )\n",
    "for arr in np.hsplit( e, ( 3, 7, 12 ) ) :       # [0:3] [3:7] [7:12] [12:]\n",
    "    print( arr )"
   ]
  },
  {
   "cell_type": "code",
   "execution_count": 122,
   "id": "555ed79d-ba12-40d9-bf95-35e86c9cd7b3",
   "metadata": {},
   "outputs": [
    {
     "name": "stdout",
     "output_type": "stream",
     "text": [
      "[np.int64(1), np.int64(2), np.str_('C'), np.str_('D'), np.int64(5)]\n",
      "['1' '2' 'C' 'D' '5']\n",
      "['작다' '작다' '크다' '크다' '크다']\n",
      "['참' '참' '거짓' '거짓' '참']\n"
     ]
    }
   ],
   "source": [
    "f = np.array( [ 1, 2, 3, 4, 5 ] )\n",
    "g = np.array( [ 'A', 'B', 'C', 'D', 'E' ] )\n",
    "h = np.array( [ True, True, False, False, True ] )\n",
    "# 삼항연산              조건 ? 참 : 거짓 \n",
    "#                       참 if 조건 else 거짓\n",
    "print( [ x if z else y for x, y, z in zip( f, g, h ) ] )\n",
    "\n",
    "print( np.where( h, f, g ) )\n",
    "print( np.where( f < 3, '작다', '크다' ) )\n",
    "print( np.where( h, '참', '거짓' ) )"
   ]
  },
  {
   "cell_type": "code",
   "execution_count": 128,
   "id": "300ee4e7-67a7-4e58-80b3-39c9c4ce1a26",
   "metadata": {},
   "outputs": [
    {
     "name": "stdout",
     "output_type": "stream",
     "text": [
      "<class 'numpy.ndarray'>\n",
      "<class 'numpy.lib.npyio.NpzFile'>\n",
      "[0 1 2 3 4 5 6 7 8 9]\n",
      "[ 0  1  2  3  4  5  6  7  8  9 10 11 12 13 14 15 16 17 18 19]\n"
     ]
    }
   ],
   "source": [
    "i = np.arange( 10 )\n",
    "np.save( 'i.npy', i )\n",
    "ii = np.load( 'i.npy' )\n",
    "print( type( ii ) )             \n",
    "\n",
    "j = np.arange( 10 )\n",
    "k = np.arange( 20 )\n",
    "np.savez( 'jk.npz', x=j, y=k )\n",
    "jk = np.load( 'jk.npz' )\n",
    "print( type( jk ) )\n",
    "print( jk['x'] )\n",
    "print( jk['y'] )"
   ]
  },
  {
   "cell_type": "code",
   "execution_count": null,
   "id": "6482d7e9-fb8c-46b8-ba2f-17543d21d423",
   "metadata": {},
   "outputs": [],
   "source": []
  },
  {
   "cell_type": "code",
   "execution_count": null,
   "id": "69b3a0e9-7216-40b0-96ab-1ff3d813e83c",
   "metadata": {},
   "outputs": [],
   "source": []
  },
  {
   "cell_type": "code",
   "execution_count": null,
   "id": "5f511eaf-6029-4b28-88da-8305186a5eac",
   "metadata": {},
   "outputs": [],
   "source": []
  },
  {
   "cell_type": "code",
   "execution_count": null,
   "id": "b32cdad0-67e3-4d96-95f6-df53d0a1b25d",
   "metadata": {},
   "outputs": [],
   "source": []
  },
  {
   "cell_type": "code",
   "execution_count": null,
   "id": "b253795d-1211-48dc-9581-7c22f7b6812d",
   "metadata": {},
   "outputs": [],
   "source": []
  }
 ],
 "metadata": {
  "kernelspec": {
   "display_name": "Python 3 (ipykernel)",
   "language": "python",
   "name": "python3"
  },
  "language_info": {
   "codemirror_mode": {
    "name": "ipython",
    "version": 3
   },
   "file_extension": ".py",
   "mimetype": "text/x-python",
   "name": "python",
   "nbconvert_exporter": "python",
   "pygments_lexer": "ipython3",
   "version": "3.12.4"
  }
 },
 "nbformat": 4,
 "nbformat_minor": 5
}
