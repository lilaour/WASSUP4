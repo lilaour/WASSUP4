{
 "cells": [
  {
   "cell_type": "code",
   "execution_count": null,
   "id": "40c73b34-212a-4712-8468-3c30f48ea0b1",
   "metadata": {},
   "outputs": [],
   "source": [
    "# Pandas\n",
    "# Series                  1차원\n",
    "# DataFrame               2차원"
   ]
  },
  {
   "cell_type": "code",
   "execution_count": 18,
   "id": "fed19c28-20ab-4d11-85b7-449083109f9e",
   "metadata": {},
   "outputs": [
    {
     "name": "stdout",
     "output_type": "stream",
     "text": [
      "<class 'pandas.core.series.Series'>\n",
      "RangeIndex(start=0, stop=9, step=1)\n",
      "int64\n",
      "0    1\n",
      "1    2\n",
      "2    3\n",
      "3    4\n",
      "4    5\n",
      "5    6\n",
      "6    7\n",
      "7    8\n",
      "8    9\n",
      "dtype: int64\n",
      "A    1\n",
      "B    2\n",
      "C    3\n",
      "D    4\n",
      "E    5\n",
      "F    6\n",
      "G    7\n",
      "H    8\n",
      "I    9\n",
      "dtype: int64\n"
     ]
    }
   ],
   "source": [
    "import pandas as pd\n",
    "import numpy as np\n",
    "# Series\n",
    "s = pd.Series( [ 1, 2, 3, 4, 5, 6, 7, 8, 9 ] )\n",
    "print( type( s ) )\n",
    "print( s.index )\n",
    "print( s.dtype )\n",
    "print( s )\n",
    "\n",
    "s.index = [ 'A', 'B', 'C', 'D', 'E', 'F', 'G', 'H', 'I' ]\n",
    "print( s )"
   ]
  },
  {
   "cell_type": "code",
   "execution_count": 22,
   "id": "7ea4f71f-1c1e-4376-9d59-ab15edf73fa3",
   "metadata": {},
   "outputs": [
    {
     "name": "stdout",
     "output_type": "stream",
     "text": [
      "A    1\n",
      "B    2\n",
      "C    3\n",
      "D    4\n",
      "E    5\n",
      "F    6\n",
      "G    7\n",
      "H    8\n",
      "I    9\n",
      "dtype: int64\n",
      "Index(['A', 'B', 'C', 'D', 'E', 'F', 'G', 'H', 'I'], dtype='object')\n",
      "[1 2 3 4 5 6 7 8 9]\n",
      "1\n",
      "1\n",
      "1\n",
      "A    1\n",
      "B    2\n",
      "C    3\n",
      "D    4\n",
      "E    5\n",
      "dtype: int64\n",
      "A    1\n",
      "B    2\n",
      "C    3\n",
      "D    4\n",
      "dtype: int64\n"
     ]
    },
    {
     "name": "stderr",
     "output_type": "stream",
     "text": [
      "C:\\Users\\jjh52\\AppData\\Local\\Temp\\ipykernel_19968\\4127225422.py:5: FutureWarning: Series.__getitem__ treating keys as positions is deprecated. In a future version, integer keys will always be treated as labels (consistent with DataFrame behavior). To access a value by position, use `ser.iloc[pos]`\n",
      "  print( s[ 0 ] )\n"
     ]
    }
   ],
   "source": [
    "s = pd.Series( [ 1, 2, 3, 4, 5, 6, 7, 8, 9 ], [ 'A', 'B', 'C', 'D', 'E', 'F', 'G', 'H', 'I' ] )\n",
    "print( s )\n",
    "print( s.index )\n",
    "print( s.values )\n",
    "print( s[ 0 ] )\n",
    "print( s[ 'A' ] )\n",
    "print( s.A )\n",
    "print( s[0:5] )\n",
    "print( s['A':'D'] )"
   ]
  },
  {
   "cell_type": "code",
   "execution_count": 24,
   "id": "8fcd3794-90b5-447b-84ab-3867b73ae0fa",
   "metadata": {},
   "outputs": [
    {
     "name": "stdout",
     "output_type": "stream",
     "text": [
      "<class 'dict'>\n",
      "A : 10\n",
      "D : 20\n",
      "F : 30\n",
      "H : 40\n",
      "10\n",
      "Index(['A', 'D', 'F', 'H'], dtype='object')\n",
      "[10 20 30 40]\n",
      "10\n",
      "10\n",
      "A    10\n",
      "D    20\n",
      "F    30\n",
      "dtype: int64\n",
      "A    10\n",
      "D    20\n",
      "F    30\n",
      "dtype: int64\n"
     ]
    }
   ],
   "source": [
    "# Dictionary (Map, JSON) -> Series\n",
    "d = { 'A':10, 'D':20, 'F':30, 'H':40 }\n",
    "print( type( d ) )\n",
    "for key, value in d.items() : \n",
    "    print( key, \":\", value )\n",
    "print( d['A'] )\n",
    "# print( d.A )                 # 에러\n",
    "# print( d[0:3] )              # 에러\n",
    "# print( d['A':'F'] )          # 에러\n",
    "\n",
    "s = pd.Series( d )\n",
    "print( s.index )\n",
    "print( s.values )\n",
    "print( s[ 'A' ] )\n",
    "print( s.A )\n",
    "print( s[0:3] )\n",
    "print( s['A':'F'] )"
   ]
  },
  {
   "cell_type": "code",
   "execution_count": 26,
   "id": "a15d045f-dc99-4458-ad50-cce177d06648",
   "metadata": {},
   "outputs": [
    {
     "name": "stdout",
     "output_type": "stream",
     "text": [
      "<class 'dict'>\n",
      "   name  age        tel\n",
      "0   kim   25  1111-2222\n",
      "1   lee   30  2222-1111\n",
      "2  park   35  3333-1111\n",
      "3  jung   20  2222-3333\n",
      "RangeIndex(start=0, stop=4, step=1)\n",
      "Index(['name', 'age', 'tel'], dtype='object')\n",
      "[['kim' 25 '1111-2222']\n",
      " ['lee' 30 '2222-1111']\n",
      " ['park' 35 '3333-1111']\n",
      " ['jung' 20 '2222-3333']]\n",
      "User  name  age        tel\n",
      "Num                       \n",
      "0      kim   25  1111-2222\n",
      "1      lee   30  2222-1111\n",
      "2     park   35  3333-1111\n",
      "3     jung   20  2222-3333\n",
      "RangeIndex(start=0, stop=4, step=1, name='Num')\n",
      "Index(['name', 'age', 'tel'], dtype='object', name='User')\n"
     ]
    }
   ],
   "source": [
    "# DataFrame\n",
    "# Dictionary -> DataFrame\n",
    "d = {\n",
    "    'name' : [ 'kim', 'lee', 'park', 'jung' ],\n",
    "    'age' : [ 25, 30, 35, 20 ],\n",
    "    'tel' : [ '1111-2222', '2222-1111', '3333-1111', '2222-3333']\n",
    "}\n",
    "print( type( d ) )\n",
    "\n",
    "df = pd.DataFrame( d )\n",
    "print( df )\n",
    "print( df.index )\n",
    "print( df.columns )\n",
    "print( df.values )\n",
    "df.index.name = 'Num'\n",
    "df.columns.name = 'User'\n",
    "print( df )\n",
    "print( df.index )\n",
    "print( df.columns )"
   ]
  },
  {
   "cell_type": "code",
   "execution_count": 28,
   "id": "e0b955b6-62a5-45b9-9d82-7158501b2cb7",
   "metadata": {},
   "outputs": [
    {
     "name": "stdout",
     "output_type": "stream",
     "text": [
      "<class 'numpy.ndarray'>\n",
      "   name age        tel\n",
      "A   kim  20  1111-2222\n",
      "B   lee  30  2222-1111\n",
      "C  park  35  3333-2222\n",
      "D  jung  25  3333-1111\n",
      "Index(['A', 'B', 'C', 'D'], dtype='object')\n",
      "Index(['name', 'age', 'tel'], dtype='object')\n",
      "   name age        tel\n",
      "A   kim  20  1111-2222\n",
      "B   lee  30  2222-1111\n",
      "C  park  35  3333-2222\n",
      "D  jung  25  3333-1111\n",
      "       name age        tel\n",
      "count     4   4          4\n",
      "unique    4   4          4\n",
      "top     kim  20  1111-2222\n",
      "freq      1   1          1\n"
     ]
    }
   ],
   "source": [
    "# Numpy -> DataFrame\n",
    "n = np.array(\n",
    "    [['kim', 20, '1111-2222'],\n",
    "     ['lee', 30, '2222-1111'],\n",
    "     ['park', 35, '3333-2222'],\n",
    "     ['jung', 25, '3333-1111' ]]   \n",
    ")\n",
    "print( type( n ) )\n",
    "df = pd.DataFrame( n ) \n",
    "\n",
    "df.columns = [ 'name', 'age', 'tel' ]\n",
    "df.index = [ 'A', 'B', 'C', 'D' ]\n",
    "print( df )\n",
    "print( df.index )\n",
    "print( df.columns )\n",
    "\n",
    "df = pd.DataFrame( n, columns=[ 'name', 'age', 'tel' ], index=[ 'A', 'B', 'C', 'D' ] )\n",
    "print( df )\n",
    "\n",
    "print( df.describe() )"
   ]
  },
  {
   "cell_type": "code",
   "execution_count": 30,
   "id": "2ededded-d1f4-475e-8862-0e3e93df1c72",
   "metadata": {},
   "outputs": [
    {
     "name": "stdout",
     "output_type": "stream",
     "text": [
      "A     kim\n",
      "B     lee\n",
      "C    park\n",
      "D    jung\n",
      "Name: name, dtype: object\n",
      "   name        tel\n",
      "A   kim  1111-2222\n",
      "B   lee  2222-1111\n",
      "C  park  3333-2222\n",
      "D  jung  3333-1111\n",
      "park\n",
      "park\n",
      "park\n",
      "B     lee\n",
      "C    park\n",
      "D    jung\n",
      "Name: name, dtype: object\n",
      "A     kim\n",
      "B     lee\n",
      "C    park\n",
      "D    jung\n",
      "Name: name, dtype: object A    20\n",
      "B    30\n",
      "C    35\n",
      "D    25\n",
      "Name: age, dtype: object\n",
      "park\n"
     ]
    },
    {
     "name": "stderr",
     "output_type": "stream",
     "text": [
      "C:\\Users\\jjh52\\AppData\\Local\\Temp\\ipykernel_19968\\4179663581.py:3: FutureWarning: Series.__getitem__ treating keys as positions is deprecated. In a future version, integer keys will always be treated as labels (consistent with DataFrame behavior). To access a value by position, use `ser.iloc[pos]`\n",
      "  print( df['name'][2] )\n"
     ]
    }
   ],
   "source": [
    "print( df['name'] )\n",
    "print( df[['name','tel']] )\n",
    "print( df['name'][2] )\n",
    "print( df['name']['C'] )\n",
    "print( df['name'].C )\n",
    "print( df['name']['B':'D'] )\n",
    "\n",
    "print( df.name, df.age )\n",
    "print( df.name.C )"
   ]
  },
  {
   "cell_type": "code",
   "execution_count": 32,
   "id": "8fbcfed5-165e-44a0-83b8-a3e6fba0a5be",
   "metadata": {},
   "outputs": [
    {
     "name": "stdout",
     "output_type": "stream",
     "text": [
      "   name age        tel\n",
      "A   kim  20  1111-2222\n",
      "B   lee  30  2222-1111\n",
      "C  park  35  3333-2222\n",
      "D  jung  25  3333-1111\n",
      "  name age        tel\n",
      "A  kim  20  1111-2222\n",
      "   name        tel\n",
      "A   kim  1111-2222\n",
      "B   lee  2222-1111\n",
      "C  park  3333-2222\n",
      "D  jung  3333-1111\n"
     ]
    }
   ],
   "source": [
    "print( df[:][:] )\n",
    "print( df[:2][:1] )\n",
    "print( df[['name','tel']] )\n",
    "# print( df[[ 0, 2 ]] )              # 에러    컬럼명이 있는 경우 숫자 X\n",
    "# print( df[0][0] )                  # 에러"
   ]
  },
  {
   "cell_type": "code",
   "execution_count": 34,
   "id": "8b092203-59e4-417b-9c22-ebbf33e3559f",
   "metadata": {},
   "outputs": [
    {
     "name": "stdout",
     "output_type": "stream",
     "text": [
      "   name age        tel address\n",
      "A   kim  30  1111-2222      서울\n",
      "B   lee  30  2222-1111      수원\n",
      "C  park  35  3333-2222      인천\n",
      "D  jung  25  3333-1111      안산\n"
     ]
    },
    {
     "name": "stderr",
     "output_type": "stream",
     "text": [
      "C:\\Users\\jjh52\\AppData\\Local\\Temp\\ipykernel_19968\\688117240.py:2: FutureWarning: ChainedAssignmentError: behaviour will change in pandas 3.0!\n",
      "You are setting values through chained assignment. Currently this works in certain cases, but when using Copy-on-Write (which will become the default behaviour in pandas 3.0) this will never work to update the original DataFrame or Series, because the intermediate object on which we are setting values will behave as a copy.\n",
      "A typical example is when you are setting values in a column of a DataFrame, like:\n",
      "\n",
      "df[\"col\"][row_indexer] = value\n",
      "\n",
      "Use `df.loc[row_indexer, \"col\"] = values` instead, to perform the assignment in a single step and ensure this keeps updating the original `df`.\n",
      "\n",
      "See the caveats in the documentation: https://pandas.pydata.org/pandas-docs/stable/user_guide/indexing.html#returning-a-view-versus-a-copy\n",
      "\n",
      "  df[ 'age' ][ 'A' ] = 30\n"
     ]
    }
   ],
   "source": [
    "df[ 'address' ] = [ '서울', '수원', '인천', '안산' ]\n",
    "df[ 'age' ][ 'A' ] = 30\n",
    "df[ 'adult' ] = df[ 'age' ].astype( np.int64 ) > 30\n",
    "\n",
    "del( df[ 'adult' ] )\n",
    "\n",
    "print( df )"
   ]
  },
  {
   "cell_type": "code",
   "execution_count": 36,
   "id": "7c349aae-23a2-448a-991b-3fefe276730e",
   "metadata": {},
   "outputs": [
    {
     "name": "stdout",
     "output_type": "stream",
     "text": [
      "a    10\n",
      "g    20\n",
      "d    40\n",
      "f    50\n",
      "c    60\n",
      "b    70\n",
      "dtype: int64\n"
     ]
    }
   ],
   "source": [
    "# Series 정렬\n",
    "s = pd.Series( [ 10, 40, 50, 20, 70, 60 ], index=[ 'a', 'd', 'f', 'g', 'b', 'c' ] )\n",
    "s = s.sort_index( ascending=False )\n",
    "s = s.sort_values()\n",
    "print( s )"
   ]
  },
  {
   "cell_type": "code",
   "execution_count": 38,
   "id": "0debcdc4-e021-4db4-bd56-54ec3e3155fe",
   "metadata": {},
   "outputs": [
    {
     "name": "stdout",
     "output_type": "stream",
     "text": [
      "     D    C    A    B\n",
      "c    4    5   40  100\n",
      "a  300   10  200    2\n",
      "b   20  400    4   30\n",
      "     A    D    B    C\n",
      "b    4   20   30  400\n",
      "c   40    4  100    5\n",
      "a  200  300    2   10\n"
     ]
    }
   ],
   "source": [
    "# DataFrame 정렬\n",
    "df = pd.DataFrame( [[ 4, 5, 40, 100 ],\n",
    "                    [ 300, 10, 200, 2],\n",
    "                    [ 20, 400, 4, 30 ]], index=[ 'c', 'a', 'b' ], columns=[ 'D', 'C', 'A', 'B' ])\n",
    "print( df )\n",
    "df = df.sort_index()             # index\n",
    "df = df.sort_index( axis=0 )\n",
    "df = df.sort_index( axis=1, ascending=False )     # column\n",
    "\n",
    "df = df.sort_values( by='A', ascending=False )    # 행끼리\n",
    "df = df.sort_values( by=['A', 'B'] )\n",
    "\n",
    "df = df.sort_values( by='b', axis=1 )             # 열끼리\n",
    "print( df )"
   ]
  },
  {
   "cell_type": "code",
   "execution_count": 40,
   "id": "fbc6e469-0552-4476-abbd-21b7d1910bc3",
   "metadata": {},
   "outputs": [
    {
     "name": "stdout",
     "output_type": "stream",
     "text": [
      "[[1, 2, 3], [4, 5, 6], [7, 8, 9]]\n",
      "9\n",
      "[[1, 2, 3], [4, 5, 6], [7, 8, 9]]\n",
      "[[1, 2, 3], [4, 5, 6]]\n",
      "[[1 2 3]\n",
      " [4 5 6]\n",
      " [7 8 9]]\n",
      "9\n",
      "[[1 2 3]\n",
      " [4 5 6]\n",
      " [7 8 9]]\n",
      "[[1 2 3]\n",
      " [4 5 6]]\n",
      "[[1 2]\n",
      " [4 5]]\n",
      "   0  1  2\n",
      "0  1  2  3\n",
      "1  4  5  6\n",
      "2  7  8  9\n",
      "9\n",
      "   0  1  2\n",
      "0  1  2  3\n",
      "1  4  5  6\n",
      "2  7  8  9\n",
      "   0  1  2\n",
      "0  1  2  3\n",
      "1  4  5  6\n"
     ]
    }
   ],
   "source": [
    "# 슬라이싱\n",
    "# .iloc              정수 인덱스\n",
    "# .loc               라벨 인덱스\n",
    "# .ix                deprecated\n",
    "\n",
    "# list\n",
    "m = [ [1, 2, 3], [4, 5, 6], [7, 8, 9] ]\n",
    "print( m )\n",
    "print( m[2][2] )\n",
    "print( m[:][:] )\n",
    "print( m[:2][:2] )\n",
    "# print( m[:2, :2] )                  # 에러\n",
    "\n",
    "# Numpy\n",
    "n = np.array( m )\n",
    "print( n )\n",
    "print( n[2][2] )\n",
    "print( n[:][:] )\n",
    "print( n[:2][:2] )\n",
    "print( n[:2, :2] )\n",
    "\n",
    "# Pandas\n",
    "df = pd.DataFrame( n )\n",
    "print( df )\n",
    "print( df[2][2] )\n",
    "print( df[:][:] )\n",
    "print( df[:2][:2] )\n",
    "# print( df[:2, :2] )                  # 에러"
   ]
  },
  {
   "cell_type": "code",
   "execution_count": 42,
   "id": "3b8e4235-f0b5-49bd-8511-ff05d0d44bd8",
   "metadata": {},
   "outputs": [
    {
     "name": "stdout",
     "output_type": "stream",
     "text": [
      "    A   B   C   D\n",
      "0   1   2   3   4\n",
      "1   5   6   7   8\n",
      "2   9  10  11  12\n",
      "3  13  14  15  16\n",
      "4  17  18  19  20\n",
      "11\n",
      "    A   D\n",
      "0   1   4\n",
      "1   5   8\n",
      "2   9  12\n",
      "3  13  16\n",
      "4  17  20\n",
      "11\n",
      "11\n",
      "   A  B\n",
      "0  1  2\n",
      "1  5  6\n",
      "   A   C\n",
      "0  1   3\n",
      "2  9  11\n",
      "   A  B  C\n",
      "0  1  2  3\n",
      "1  5  6  7\n",
      "    D   C   B   A\n",
      "4  20  19  18  17\n",
      "3  16  15  14  13\n",
      "2  12  11  10   9\n",
      "1   8   7   6   5\n",
      "0   4   3   2   1\n"
     ]
    },
    {
     "name": "stderr",
     "output_type": "stream",
     "text": [
      "C:\\Users\\jjh52\\AppData\\Local\\Temp\\ipykernel_19968\\2043596094.py:11: FutureWarning: Series.__getitem__ treating keys as positions is deprecated. In a future version, integer keys will always be treated as labels (consistent with DataFrame behavior). To access a value by position, use `ser.iloc[pos]`\n",
      "  print( df.iloc[2][2] )\n"
     ]
    }
   ],
   "source": [
    "# iloc\n",
    "df = pd.DataFrame( np.arange( 1, 21 ).reshape( 5, 4 ), columns=['A', 'B', 'C', 'D'] )\n",
    "print( df )\n",
    "\n",
    "# print( df[2][2] )                # 에러\n",
    "print( df['C'][2] )\n",
    "print( df[['A', 'D']] )\n",
    "# print( df['A' : 'C'] )           # 에러\n",
    "# print( df[[ 'A' : 'C' ]] )       # 에러\n",
    "\n",
    "print( df.iloc[2][2] )\n",
    "print( df.iloc[2, 2] )\n",
    "# print( df.iloc[2, 'C'] )         # 에러\n",
    "print( df.iloc[:2, :2] )\n",
    "print( df.iloc[:3:2, :3:2] )\n",
    "print( df.iloc[:2, :-1] )\n",
    "print( df.iloc[::-1, ::-1] )"
   ]
  },
  {
   "cell_type": "code",
   "execution_count": 44,
   "id": "f77999a0-40eb-40fc-a39b-4c297a40d440",
   "metadata": {},
   "outputs": [
    {
     "name": "stdout",
     "output_type": "stream",
     "text": [
      "    A   B   C   D\n",
      "0   1   2   3   4\n",
      "1   5   6   7   8\n",
      "2   9  10  11  12\n",
      "3  13  14  15  16\n",
      "4  17  18  19  20\n",
      "11\n",
      "   A   B   C\n",
      "0  1   2   3\n",
      "1  5   6   7\n",
      "2  9  10  11\n",
      "   A  B  C  D\n",
      "0  1  2  3  4\n",
      "1  5  6  7  8\n",
      "    B   C   D\n",
      "1   6   7   8\n",
      "2  10  11  12\n",
      "3  14  15  16\n",
      "0     3\n",
      "1     7\n",
      "2    11\n",
      "3    15\n",
      "4    19\n",
      "Name: C, dtype: int32\n",
      "    B   D\n",
      "0   2   4\n",
      "1   6   8\n",
      "2  10  12\n",
      "3  14  16\n",
      "4  18  20\n",
      "    B   D\n",
      "0   2   4\n",
      "1   6   8\n",
      "2  10  12\n",
      "3  14  16\n",
      "4  18  20\n"
     ]
    }
   ],
   "source": [
    "# loc\n",
    "print( df )\n",
    "# print( df.loc[2, 2] )                 # 에러\n",
    "print( df.loc[2, 'C'] )\n",
    "# print( df.loc[:2, :2] )               # 에러\n",
    "print( df.loc[:2, :'C'] )\n",
    "print( df[:2] )\n",
    "print( df.loc[1:3, 'B':'D'] )\n",
    "print( df.loc[:, 'C'] )\n",
    "print( df.loc[:, ['B', 'D']] )\n",
    "print( df[['B' ,'D']] )"
   ]
  },
  {
   "cell_type": "code",
   "execution_count": 46,
   "id": "22322bfa-1007-469f-8ea2-ec5390bd1086",
   "metadata": {},
   "outputs": [
    {
     "name": "stdout",
     "output_type": "stream",
     "text": [
      "     A    B    C   D\n",
      "0   99    2    3   4\n",
      "1  100  101  102   8\n",
      "2    9   10   11  12\n",
      "3  200   14  201  16\n",
      "4   17   18   19  20\n"
     ]
    }
   ],
   "source": [
    "df = pd.DataFrame( np.arange( 1, 21 ).reshape( 5, 4 ), columns=['A', 'B', 'C', 'D'] )\n",
    "df['E'] = [ 31, 32, 33, 34, 35 ]\n",
    "# df[5][:] = [ 90, 91, 92, 93, 94 ]               에러\n",
    "# df.iloc[:, 5] = [ 40, 41, 42, 43, 44 ]          에러\n",
    "# df.iloc[5, :] = [ 90, 91, 92, 93, 94 ]          에러\n",
    "df.loc[5] = [ 90, 91, 92, 93, 94 ]\n",
    "df.loc[:, 'F'] = [ 40, 41, 42, 43, 44, 45 ] \n",
    "\n",
    "df.loc[0, 'A'] = 99\n",
    "df.loc[1, 'A':'C'] = [100, 101, 102]\n",
    "df.loc[3, ['A', 'C', 'E']] = [200, 201, 202]\n",
    "\n",
    "del( df['E'] )\n",
    "# del( df.loc[:, 'F'] )               에러\n",
    "\n",
    "# df.drop( 'F' )                      에러\n",
    "df = df.drop( 'F', axis=1 )\n",
    "# df.drop( 5, axis=1 )                에러\n",
    "df = df.drop( 5 )\n",
    "print( df )"
   ]
  },
  {
   "cell_type": "code",
   "execution_count": 48,
   "id": "4177dc21-4bfd-45cf-aea9-0c3f0410fd2e",
   "metadata": {},
   "outputs": [
    {
     "name": "stdout",
     "output_type": "stream",
     "text": [
      "   name  age        tel\n",
      "0   kim   20  1111-2222\n",
      "1   lee   30  2222-1111\n",
      "2  park   35  3333-2222\n",
      "3  jung   25  3333-1111\n",
      "4  hong   40  1111-3333\n",
      "jung\n",
      "   name  age\n",
      "2  park   35\n",
      "4  hong   40\n",
      "  name  age        tel\n",
      "0  kim   20  1111-2222\n",
      "   name  age        tel\n",
      "1   lee   30  2222-1111\n",
      "2  park   35  3333-2222\n",
      "3  jung   25  3333-1111\n",
      "0    kim\n",
      "1    lee\n",
      "Name: name, dtype: object\n"
     ]
    }
   ],
   "source": [
    "# Boolean Indexing\n",
    "df = pd.DataFrame(\n",
    "     [['kim', 20, '1111-2222'],\n",
    "      ['lee', 30, '2222-1111'],\n",
    "      ['park', 35, '3333-2222'],\n",
    "      ['jung', 25, '3333-1111'],\n",
    "      ['hong', 40, '1111-3333']], columns=[ 'name', 'age', 'tel']    \n",
    ")\n",
    "print( df )\n",
    "\n",
    "print( df.loc[3, 'name'] )\n",
    "print( df.loc[ df['age'] > 30, ['name', 'age' ]] )\n",
    "print( df.loc[ df['name'] == 'kim', : ] )\n",
    "print( df.loc[ ( df['age']>20 ) & ( df['age']<40 ), 'name':'tel'] )\n",
    "print( df.loc[ [True, True, False, False, False], \"name\" ] )\n"
   ]
  },
  {
   "cell_type": "code",
   "execution_count": 50,
   "id": "d1d2256e-737a-487f-8c87-ccec04cca777",
   "metadata": {},
   "outputs": [
    {
     "name": "stdout",
     "output_type": "stream",
     "text": [
      "Series([], Name: address, dtype: object)\n",
      "Series([], Name: address, dtype: object)\n",
      "1     NaN\n",
      "2     NaN\n",
      "4    None\n",
      "Name: address, dtype: object\n",
      "   name  age        tel address\n",
      "0   kim   20  1111-2222      서울\n",
      "1   lee   30  2222-1111      서울\n",
      "2  park   35  3333-2222      서울\n",
      "3  jung   25  3333-1111      수원\n",
      "4  hong   40  1111-3333      서울\n"
     ]
    }
   ],
   "source": [
    "# 결측값 대체\n",
    "df['address'] = [ '서울', np.nan, np.nan, '수원', None ]\n",
    "\n",
    "print( df.loc[ df['address'] == np.nan, 'address' ]  )\n",
    "print( df.loc[ df['address'] == None, 'address' ]  )\n",
    "print( df.loc[ df['address'].isnull(), 'address' ] )\n",
    "\n",
    "df.loc[ df['address'].isnull(), 'address' ] = '서울'\n",
    "\n",
    "df.loc[ ::2, 'address' ] = '' \n",
    "df.loc[ df['address'] == '', 'address' ] = '서울' \n",
    "print( df )"
   ]
  },
  {
   "cell_type": "code",
   "execution_count": 52,
   "id": "bba94e00-8ebc-4ac6-b2ce-0e4d6c4122cd",
   "metadata": {},
   "outputs": [
    {
     "name": "stdout",
     "output_type": "stream",
     "text": [
      "   name   age        tel\n",
      "0   kim  20.0  1111-2222\n",
      "1   lee  30.0  2222-1111\n",
      "2  park  35.0  3333-2222\n",
      "3  jung  25.0  3333-1111\n",
      "              0          1          2          3\n",
      "name        kim        lee       park       jung\n",
      "age        20.0       30.0       35.0       25.0\n",
      "tel   1111-2222  2222-1111  3333-2222  3333-1111\n"
     ]
    }
   ],
   "source": [
    "# 결측값 제거\n",
    "df = pd.DataFrame(\n",
    "     [['kim', 20, '1111-2222', '서울'],\n",
    "      ['lee', 30, '2222-1111', np.nan ],\n",
    "      ['park', 35, '3333-2222', '수원'],\n",
    "      ['jung', 25, '3333-1111', np.nan],\n",
    "      ['hong', 40, '1111-3333', np.nan]], columns=[ 'name', 'age', 'tel', 'address']    \n",
    ")\n",
    "df.loc[ 5, : ] = [ np.nan, np.nan, np.nan, np.nan ]\n",
    "\n",
    "# df.dropna( how='all', inplace=True )\n",
    "# df.dropna( how='any', inplace=True )\n",
    "\n",
    "df['income'] = [ 300, np.nan, 400, 500, np.nan, 300 ]\n",
    "# df['address'].fillna( value='서울', inplace=True )\n",
    "df.fillna( {'address' : '서울'}, inplace=True ) \n",
    "df.fillna( {'income' : np.mean( df['income'] ) }, inplace=True )\n",
    "\n",
    "df.drop( [4, 5], inplace=True )\n",
    "df.drop( ['address', 'income'], axis=1, inplace=True )\n",
    "\n",
    "print( df )\n",
    "\n",
    "# print( df.T )\n",
    "print( df.transpose() )              # 전치행렬"
   ]
  },
  {
   "cell_type": "code",
   "execution_count": 54,
   "id": "651aeb5a-b39d-4b9a-a273-32a152ef3463",
   "metadata": {},
   "outputs": [
    {
     "name": "stdout",
     "output_type": "stream",
     "text": [
      "   name   kor   eng   mat\n",
      "0   kim  90.0  80.0  70.0\n",
      "1   lee  45.0   NaN  55.0\n",
      "2  park  76.0  77.0  83.0\n",
      "3  hong   NaN   NaN  77.0\n",
      "4  kang  35.0  58.0  52.0\n",
      "5  jang   NaN   NaN   NaN\n",
      "0.9926458576614517\n",
      "   name   kor   eng   mat    tot        avg\n",
      "0   kim  90.0  80.0  70.0  240.0  80.000000\n",
      "1   lee  45.0   NaN  55.0  100.0  50.000000\n",
      "2  park  76.0  77.0  83.0  236.0  78.666667\n",
      "3  hong   NaN   NaN  77.0   77.0  77.000000\n",
      "4  kang  35.0  58.0  52.0  145.0  48.333333\n",
      "5  jang   NaN   NaN   NaN    0.0        NaN\n"
     ]
    }
   ],
   "source": [
    "# Pandas 함수\n",
    "df = pd.DataFrame( \n",
    "    [[ 'kim', 90, 80, 70 ],\n",
    "     [ 'lee', 45, np.nan, 55 ],\n",
    "     [ 'park', 76, 77, 83 ],\n",
    "     [ 'hong', np.nan, np.nan, 77 ],\n",
    "     [ 'kang', 35, 58, 52 ],\n",
    "     [ 'jang', np.nan, np.nan, np.nan]], columns=[ 'name', 'kor', 'eng', 'mat' ]\n",
    ")\n",
    "print( df )\n",
    "\n",
    "# print( df.count() )\n",
    "# print( df.count( axis=1 ) )\n",
    "# print( df.min() )\n",
    "# print( df.loc[:, 'kor':'mat'].min( axis=1 ) )\n",
    "# print( df.max() )\n",
    "# print( df.loc[:, 'kor':'mat'].mean() )\n",
    "# print( df.loc[:, 'kor':'mat'].mean( axis=1 ) )\n",
    "# print( df.sum() )\n",
    "# print( df.loc[:, 'kor':'mat'].sum( axis=1 ) )\n",
    "# print( df.loc[:, 'kor':'mat'].median() )\n",
    "# print( df.loc[:, 'kor':'mat'].cumsum() )\n",
    "# print( df.loc[:, 'kor':'mat'].cumprod() )\n",
    "# print( df.idxmax() )\n",
    "# print( df.idxmin() )\n",
    "\n",
    "# print( df.loc[:, 'kor':'mat'].var() )           # 분산\n",
    "# print( df.loc[:, 'kor':'mat'].std() )           # 표준편차\n",
    "\n",
    "df['tot'] = df.loc[:, 'kor':'mat'].sum( axis=1 )\n",
    "df['avg'] = df.loc[:, 'kor':'mat'].mean( axis=1 )\n",
    "\n",
    "print( df['kor'].corr( df['eng'] ) )\n",
    "# 1          양의 상관관계\n",
    "# 0          상관관계가 낮다\n",
    "# -1         음의 상관관계\n",
    "\n",
    "print( df )"
   ]
  },
  {
   "cell_type": "code",
   "execution_count": null,
   "id": "9de2cf74-d9eb-4a17-b8cb-066900f63ac8",
   "metadata": {},
   "outputs": [],
   "source": []
  },
  {
   "cell_type": "code",
   "execution_count": null,
   "id": "f3a36c47-c565-4e8b-aaf3-ac873510bba1",
   "metadata": {},
   "outputs": [],
   "source": []
  },
  {
   "cell_type": "code",
   "execution_count": null,
   "id": "c04373fc-a742-4217-abd1-76c770a5a478",
   "metadata": {},
   "outputs": [],
   "source": []
  },
  {
   "cell_type": "code",
   "execution_count": null,
   "id": "2ad01d5b-e1fa-4ccf-8422-05aa9fac760e",
   "metadata": {},
   "outputs": [],
   "source": []
  },
  {
   "cell_type": "code",
   "execution_count": null,
   "id": "a0c47bcc-5e31-44aa-b1ab-85fc411d8233",
   "metadata": {},
   "outputs": [],
   "source": []
  },
  {
   "cell_type": "code",
   "execution_count": null,
   "id": "0fe4e043-a1de-444d-97d4-1b38e0fbbce2",
   "metadata": {},
   "outputs": [],
   "source": []
  },
  {
   "cell_type": "code",
   "execution_count": null,
   "id": "0e6ea1bc-6432-4970-a734-0c8320ea71ae",
   "metadata": {},
   "outputs": [],
   "source": []
  }
 ],
 "metadata": {
  "kernelspec": {
   "display_name": "Python 3 (ipykernel)",
   "language": "python",
   "name": "python3"
  },
  "language_info": {
   "codemirror_mode": {
    "name": "ipython",
    "version": 3
   },
   "file_extension": ".py",
   "mimetype": "text/x-python",
   "name": "python",
   "nbconvert_exporter": "python",
   "pygments_lexer": "ipython3",
   "version": "3.12.4"
  }
 },
 "nbformat": 4,
 "nbformat_minor": 5
}
