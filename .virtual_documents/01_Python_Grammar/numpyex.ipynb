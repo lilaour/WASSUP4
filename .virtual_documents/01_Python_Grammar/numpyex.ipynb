# Numpy
# Numerical Python
# 고성능 수치 계산을 위한 라이브러리
# 벡터나 행렬 연산에 편리한 기능 제공
# 모든 원소는 같은 자료형만 가능


import numpy as np
a = np.arange( 15 )
print( a )
a = a.reshape( 3, 5, order='F' )        # C 행부터 할당 기본값  F 열부터 할당
print( a )
print( type( a ) )
print( a.shape )
print( a.dtype )
print( a.ndim )
print( a.size )

# print( dir( np ) )


b = [-1, 2, 5, -3, 0, 7, -9, 7, -4, -7 ]      # List
print( type( b ) )
b = np.array( b )
print( type( b ) )

t = ( 10, 20, 30, 40, 50 )                  # Tuple
print( type( t ) )
t = np.array( t )
print( type( t ) )

s = { 10, 20, 30, 40, 50 }                  # Set
print( type( s ) )
s = np.array( s )
print( type( s ) )


print( b.shape )
print( b.ndim )
print( b.dtype )
print( b )

# print( help( np.arange ) )
print( np.abs( b ) )                   # 절대값
print( np.sqrt( np.abs( b ) ) )        # 제곱근
print( np.square( b ) )                # 제곱
print( np.isnan( b ) )                 # NaN 여부
print( np.sum( b ) )                   # 합계
print( np.mean( b ) )                  # 평균
print( np.max( b ) )                   # 최대값
print( np.min( b ) )                   # 최소값
print( np.argmax( b ) )                # 최대값 인덱스
print( np.argmin( b ) )                # 최소값 인덱스
print( np.sort( b ) )                  # 정렬 오름차순
print( np.sort( b )[::-1] )            # 정렬 내림차순      [start : end : step]
print( np.median( b ) )                # 중간값


c = [ [ 1, 2, 3 ], [4, 5, 6] ]
print( type( c ) )
print( c )
c = np.array( c )
print( type( c ) )
print( c )

print( np.sum( c ) )
print( np.sum( c, axis=0 ) )
print( np.sum( c, axis=1 ) )
print( np.mean( c ) )
print( np.mean( c, axis=0 ) )
print( np.mean( c, axis=1 ) )
print( np.median( c ) )
print( np.median( c, axis=0 ) )
print( np.median( c, axis=1 ) )
print( np.max( c ) )
print( np.max( c, axis=0 ) )
print( np.max( c, axis=1 ) )

print( np.std( c ) )                  # 표준편차
print( np.var( c ) )                  # 분산


# element wise
d = [ 10, 20, 30, 40, 50 ]
# print( d + 2 )               # error
d = np.array( d )
print( d + 2 )

e = np.array( [ 1, 2, 3, 4, 5 ] )
print( d + e )
print( d ** 2 )
print( d * np.sin( d ) )
print( d > 35 )

print( np.add( d, e ) )
print( np.subtract( d, e ) )
print( np.multiply( d, e ) )
print( np.divide( d, e ) )


f = np.array( [ [0, 1], [1, 1] ] )
g = np.array( [ [2, 0], [3, 4] ] )
print( f * g )
print( f @ g )                 # 행렬곱
print( np.dot( f, g ) )        # 행렬곱
print( f.dot( g ) )             


h = np.zeros( 10 )
print( h )
i = np.zeros( ( 5, 5 ) )
print( i )
j = np.ones( 10 )
print( j )

# np.random.random			0~1 사이의 난수 발생
# np.random.randint			균일 분포의 정수 난수 발생
# np.random.rand			0~1 사이의 균일 분포 난수 matrix array 생성
# np.random.randn			가우시안 표준 정규 분포 난수 matrix array 생성
# np.random.nomral		    평균, 표준편차, sample 개수

k = np.random.random( 10 ) * 100
k = np.array( [ int(i) for i in k ] )
print( type( k ) )
print( k )

print( np.random.randint( 10, 20 ) )
print( np.random.rand( 5, 2 ) )


# 슬라이싱
# List
m = [ i for i in range( 10, 20 ) ]
print( m[0:5] )            # [ 시작 : 끝 -1 : 간격 ]
print( m[0:5:2] )
print( m[:] )
print( m[5:] )
print( m[:-1] )
print( m[::-1] )

# ndarray
w = np.arange( 10, 20 )
print( w[0:5] )
print( w[0:5:2] )
print( w[:-2] )


r = [ [1, 2, 3, 4, 5], [6, 7, 8, 9, 10], [11, 12, 13, 14, 15] ]
print( r[2][2] )
print( r[:][:] )
print( r[2][:] )
print( r[1][:2] )
print( r[:2][:1] )               # [[1, 2, 3, 4, 5]]
# print( r[:, :] )               # 에러

s = np.arange( 1, 16 ).reshape( 3, 5 )
print( s )
print( s[2][2] )
print( s[:][:] )
print( s[2][:] )
print( s[:2][:1] )               # [[1 2 3 4 5]]

print( s[:2, :2] )
print( s[:, :] )
print( s[:-1, :-1] )
print( s[2, 2] )
print( s[::-1, ::-1] )

print( s[[0, 2]] )
print( s[:, [1, 3, 4]] )
print( s[[0, 2], [3, 4]] )             # 0행 3열 2행 4열


# 전치 행렬
print( s )                 # 3행 5열
print( s.T )               # 5행 3열


# 결합 / 분리
a = [ 1, 2, 3 ]
b = [ 4, 5, 6 ]
for ab in zip( a, b ) :
    print( ab )
print( list( zip( a, b ) ) )
print( a + b )
print( a * 2 )
# print( a + 2 )                # 에러


c = np.floor( np.random.rand( 2, 2 ) * 100 )
print( c )
d = np.floor( np.random.rand( 2, 2 ) * 100 )
print( d )
print( np.hstack( ( c, d ) ) )
print( np.vstack( ( c, d ) ) )
print( c + 2 )


e = np.floor( np.random.rand( 2, 15 ) * 100 )
print( e )
print( np.hsplit( e, 3 ) )               # 3개
for arr in np.hsplit( e, 3 ) :
    print( arr )
for arr in np.hsplit( e, ( 3, 7, 12 ) ) :       # [0:3] [3:7] [7:12] [12:]
    print( arr )


f = np.array( [ 1, 2, 3, 4, 5 ] )
g = np.array( [ 'A', 'B', 'C', 'D', 'E' ] )
h = np.array( [ True, True, False, False, True ] )
# 삼항연산              조건 ? 참 : 거짓 
#                       참 if 조건 else 거짓
print( [ x if z else y for x, y, z in zip( f, g, h ) ] )

print( np.where( h, f, g ) )
print( np.where( f < 3, '작다', '크다' ) )
print( np.where( h, '참', '거짓' ) )


i = np.arange( 10 )
np.save( 'i.npy', i )
ii = np.load( 'i.npy' )
print( type( ii ) )             

j = np.arange( 10 )
k = np.arange( 20 )
np.savez( 'jk.npz', x=j, y=k )
jk = np.load( 'jk.npz' )
print( type( jk ) )
print( jk['x'] )
print( jk['y'] )















