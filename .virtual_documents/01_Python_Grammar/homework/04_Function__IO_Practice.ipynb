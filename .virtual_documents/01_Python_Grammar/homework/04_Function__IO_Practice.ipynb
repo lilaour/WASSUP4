


























f1 = open("test.txt", 'w')
f1.write("Life is too short")

f2 = open("test.txt", 'r')
print(f2.read())















