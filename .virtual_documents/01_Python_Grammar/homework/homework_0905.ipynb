


#051 리스트 생성
#2016년 11월 영화 예매 순위 기준 top3는 다음과 같습니다. 영화 제목을 movie_rank 이름의 리스트에 저장해보세요. (순위 정보는 저장하지 않습니다.)

#순위	영화
#1	닥터 스트레인지
#2	스플릿
#3	럭키

list = ["닥터 스트레인지", "스플릿", "럭키"]
list


#052 리스트에 원소 추가
#051의 movie_rank 리스트에 "배트맨"을 추가하라.
list.append("배트맨")
list


#053 movie_rank 리스트에는 아래와 같이 네 개의 영화 제목이 바인딩되어 있다. "슈퍼맨"을 "닥터 스트레인지"와 "스플릿" 사이에 추가하라.
list = ["닥터 스트레인지", "스플릿", "럭키"]
list.insert(1, "슈퍼맨")
list


#054
#movie_rank 리스트에서 '럭키'를 삭제하라

del list[3]
print(list)


#055
#movie_rank 리스트에서 '스플릿' 과 '배트맨'을 를 삭제하라.
list = ["닥터 스트레인지", "스플릿", "럭키", "배트맨"]
list


list = ['닥터 스트레인지', '슈퍼맨', '스플릿', '배트맨']
list


del list[1]
del list[1]
list


#056
#lang1과 lang2 리스트가 있을 때 lang1과 lang2의 원소를 모두 갖고 있는 langs 리스트를 만들어라.
lang1 = ["C", "C++", "JAVA"]
lang2 = ["Python", "Go", "C#"]
langs = lang1 + lang2
langs


#057 다음 리스트에서 최댓값과 최솟값을 출력하라. (힌트: min(), max() 함수 사용)
nums = [1, 2, 3, 4, 5, 6, 7]
print(max(nums))
print(min(nums))


#058 다음 리스트의 합을 출력하라.
nums = [1, 2, 3, 4, 5]
sum(nums)


#059 다음 리스트에 저장된 데이터의 개수를 화면에 구하하라.

cook = ["피자", "김밥", "만두", "양념치킨", "족발", "피자", "김치만두", "쫄면", "소시지", "라면", "팥빙수", "김치전"]
print(len(cook))


# 060 다음 리스트의 평균을 출력하라.

nums = [1, 2, 3, 4, 5]
sum(nums) / len(nums)


# 061 price 변수에는 날짜와 종가 정보가 저장돼 있다. 날짜 정보를 제외하고 가격 정보만을 출력하라. (힌트 : 슬라이싱)
price = ['20180728', 100, 130, 140, 150, 160, 170]
price[1:]


# 062 슬라이싱을 사용해서 홀수만 출력하라.
nums = [1, 2, 3, 4, 5, 6, 7, 8, 9, 10]
nums[::2]


# 063 슬라이싱을 사용해서 짝수만 출력하라.
nums = [1, 2, 3, 4, 5, 6, 7, 8, 9, 10]
nums[1::2]


#064슬라이싱을 사용해서 리스트의 숫자를 역 방향으로 출력하라.

nums = [1, 2, 3, 4, 5]
nums[::-1]


# 065 interest 리스트에는 아래의 데이터가 바인딩되어 있다. interest 리스트를 사용하여 아래와 같이 화면에 출력하라.
# 출력 예시: 삼성전자 Naver
interest = ['삼성전자', 'LG전자', 'Naver']
interest[0], interest[2]


# 066 join 메서드 
#interest 리스트에는 아래의 데이터가 바인딩되어 있다.interest 리스트를 사용하여 아래와 같이 화면에 출력하라.
#출력 예시:삼성전자 LG전자 Naver SK하이닉스 미래에셋대우
interest = ['삼성전자', 'LG전자', 'Naver', 'SK하이닉스', '미래에셋대우']
print(" ".join(interest))


# 067 join 메서드 
# interest 리스트에는 아래의 데이터가 바인딩되어 있다. interest 리스트를 사용하여 아래와 같이 화면에 출력하라.
# 출력 예시:삼성전자/LG전자/Naver/SK하이닉스/미래에셋대우
interest = ['삼성전자', 'LG전자', 'Naver', 'SK하이닉스', '미래에셋대우']
print( "/".join(interest))


# 068 join 메서드
# interest 리스트에는 아래의 데이터가 바인딩되어 있다. join() 메서드를 사용해서 interest 리스트를 아래와 같이 화면에 출력하라.
# 출력 예시: 
#삼성전자
#LG전자
#Naver
#SK하이닉스
#미래에셋대우


interest = ['삼성전자', 'LG전자', 'Naver', 'SK하이닉스', '미래에셋대우']
print("\n".join(interest))


# 069 문자열 split 메서드
# 회사 이름이 슬래시 ('/')로 구분되어 하나의 문자열로 저장되어 있다. 이를 interest 이름의 리스트로 분리 저장하라.
# 실행 예시 ['삼성전자', 'LG전자', 'Naver']

string = "삼성전자/LG전자/Naver"
interest = string.split("/")
interest



# 70 리스트 정렬
# 리스트에 있는 값을 오름차순으로 정렬하세요.
data = [2, 4, 3, 1, 5, 10, 9]
data.sort()
data





# 071 my_variable 이름의 비어있는 튜플을 만들라
my_variable = ()
print(type(my_variable))


# 072 2016년 11월 영화 예매 순위 기준 top3는 다음과 같다. 영화 제목을 movie_rank 이름의 튜플에 저장하라. (순위 정보는 저장하지 않는다.)
# 순위	영화
# 1	닥터 스트레인지
# 2	스플릿
# 3	럭키

movie_rank = ("닥터 스트레인지", "스플릿", "럭키")
movie_rank


# 073 숫자 1 이 저장된 튜플을 생성하라.
tuple = (1)
print(tuple)
print(type(tuple))


# 074 다음 코드를 실행해보고 오류가 발생하는 원인을 설명하라.
t = (1, 2, 3)
t[0] = 'a'
Traceback (most recent call last):
  File "<pyshell#46>", line 1, in <module>
    t[0] = 'a'
TypeError: 'tuple' object does not support item assignment



# 74번 답 : 튜플은 값 변경이 불가하다.


# 075 아래와 같이 t에는 1, 2, 3, 4 데이터가 바인딩되어 있다. t가 바인딩하는 데이터 타입은 무엇인가?
t = 1, 2, 3, 4

# 튜플은 괄호 없이도 동작한다.





# 081 별 표현식



























