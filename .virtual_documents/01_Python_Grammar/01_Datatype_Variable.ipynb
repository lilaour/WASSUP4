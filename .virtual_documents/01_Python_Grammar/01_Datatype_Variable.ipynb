





a = 1
print(a)


b = 'python'
b


c = [1, 2, 3]
c 


a = [1, 2, 3]


id(a)


b = a
b


id(a)


id(b)


b[1] = 9
b


a is b





a, a[:]


b = a[:]
b


id(b)


a is b


b[0] = 9
b


a


#copy 모듈 이용하기
from copy import copy
a = [1, 2, 3]
b = copy(a)
a, b


id(a), id(b)


a is b


c = a.copy()
a is c


#변수를 만드는 여러 가지 방법
a, b = ('python', 'life')


a


b


[a, b] = ['python', 'life']


a


a = b = 'python'


b


a


a = 3
b = 5
a, b = b, a


a


b





# 정수형
a = 123
a


a = -178
a


a = 0
a


# 실수형
a =1.2
b = -3.45
a, b


a = 4.24E10
a


a = 4.24E-10
a


#8진수와 16진수
a = 0o177
print(a)


a = 0x8ff
b = 0xABC
a,b





# 사칙연산
a = 3
b =4
a + b


a-b, a*b, a/b


# x의 y제곱을 나타내는 **연산자
a ** b


#나눗셈 후 나머지를 리턴
7 % 3, 3 % 7





# 복합 연산자
a = a + 1
a


a += 1
a


a -= 1
a





"hello world"


'python is fun'


"""Life is too short, You need python"""


'''Life is too short, You need python'''





"Python's favorite food is perl"





'"Python is very easy." he says.'





food = 'Python\'s favorite food is perl'
food


say = "\"Python is very easy.\" he says."
say





a = 'Life is too short
You need python'


#1. 줄을 바꾸기 위한 이스케이프 코드 \n 삽입하기
multiline = 'Life is too short\nYou need python'
multiline


print(multiline)


#2. 연속된 작은따옴표 3개 또는 큰따옴표 3개 사용하기
'''
Life is too short
You need python
'''


"""
Life is too short
You need python
"""





head = "python"
tail = ' is fun!'
head + tail


head * 2


# multistring.py

print("=" * 50)
print("My Program")
print("=" * 50)


a = "Life is too short"
len(a)





a = "Life is too short, You need Python"
a


a[3]


a[17]


a[-1]


a[-6]


a[-0]


a[0]+a[1]+a[2]+a[3]


a[0:4]


a[19:-7]


a[-1]


a[12:19]


a[12:]


a[:17]


a[:]


a = "20240904Sunny"
date =a[:8]
weather =a[8:]
date,weather


year = a[:4]
day = a[4:8]
year,day


# 문자열은 변경할 수 있을까?
a= "pithon"
a[1]


a[1] = 'y'


a[:1] + 'y' + a[2:]





"I eat %d apples"%3


"I eat %s apples"%"five"


number = 3
"I eat %d apples"%number


number = 10
day = "three"
"I ate %d apples. so I was sick for %s days." % (number, day)


# Erroor is 98%
"Error is %d%%"%98


# 소수점 표현하기

"%0.2f"%3.42134234





"I eat {} apples".format(3)


"I eat {} apples".format("five")


"I eat {} apples".format(number)


"I ate {} apples. so i was sick for {} days".format(number,day)


"{a} apples. so i was sick {b} days".format(b=day,a=number)


# 소수점 4자리까지만 표현
y = 3.4123434
"{0:0.4f}".format(y)


"{{and}}".format()





name = '홍길동'
age = 30
'나의 이름은 {a}입니다. 나이는 {b}입니다.'.format(a=name,b=age)


f'나의 이름은 {name}입니다. 나이는 {age}입니다.' 


f'나의 이름은 {name}입니다. 나이는 {age+1}입니다.' 


d = {'name' : '홍길동', 'age' : 30}
d


f"나의 이름은 {d['name']}입니다. 나이는 {d['age']}입니다."


y


y
f'{y:0.4f}'


f'{y:10.4f}'





a = 'hobby'
len(a)


# 특정 문자열 개수를 세기
a.count('b')


# 위치 알려주기
a = 'Python is the best choice'
a.find('b')


a.find('w')


a.find?


help(a.find)


# 위치 알려주기1
#index는 존재하는 값만 반환해준다.
a = "Life is too short"
a.index('t'), a.find('t')


a.index('w')


a.find('w')


# 문자열 삽입 join
'abcd'


# 반드시 문자열로 반환한다.
",".join('abcd')


','.join(['a','b','c','d'])


a = "hi"
a.upper()


a.upper?


a = 'HI'
a.lower()


#공백 지우기
a = "   hi   "
a.rstrip()


a


a.lstrip()


a.strip()


a = 'Life is too short'
a.replace("Life", "Your leg")


a.replace?


# 문자열 나누기
a.split() # 리스트로 반환해줍니다.


a.split?


b ="a:b:c:d"
b.split(':')





add = [1,3,5,7,9]
add


a = []
b = [1, 2, 3]
c = ['Life', 'is', 'too', 'short']
d = [1, 2, 'Life', 'is']
e = [1, 2, ['Life', 'is']]
f = list()





a = [1,2,3]
a


a[0]


a[0]+a[2]


a[-1]


a = [1, 2, 3,['a', 'b', 'c']]
a


len(a)


a[-1]


a[-1][1]


a = [1, 2, ['a', 'b', ['Life', 'is']]]
a


a = [1, 2,  3, 4, 5]


a[0:2]


a = [1, 2, 3, ['a', 'b', 'c'], 4, 5]
a


a[2:5]


a[3][0:2]





a = [1, 2, 3]
b = [4,5,6]
a + b


type(a[0])


a * 3


str(a[2])


str(a[2]) + "hi"





a = [1, 2, 3]
a[2] = 4
a


del a[1]
a


a = [1, 2, 3, 4, 5]
del a[2:]
a





#리스트에 요소 추가하기 - append
a = [1, 2, 3]
a.append(4)
a


a.append([5,6])
a


#리스트 정렬
a = [1, 4, 3, 2]
a.sort()
a


a.sort?


a = ['a', 'c', 'b']
a.sort()
a


a.sort(reverse=True)
a


# 리스트 뒤집기


a = ['a', 'c', 'b']
a.reverse()
a


# 인덱스 반환 index
a = [1, 2, 3]
a.index(3)


a.index(0)


# 리스트 요소 삽입 insert


a = [1, 2, 3]
a.insert(0, 4)
a


a.insert(3, 5)
a


# 리스트 요소 제거 remove
a = [1, 2, 3, 1, 2, 3]
a.remove(3)
a


a.remove?


#리스트 요소 끄집어 내기 - pop
a = [1, 2, 3]
a.pop()


a


# 리스트에 포함된 요소 x의 개수 세기 - count
a = [1, 2, 3, 1]
a.count(1)


# 리스트 확장 - extend
a = [1, 2, 3]
a.append([4,5])
a


a = [1, 2, 3]
a.extend([4,5])
a





t1 = ()
t2 = (1,)
t3 = (1, 2, 3)
t4 = 1, 2, 3
t5 = ('a', 'b', ('ab', 'cd'))
t1, t2, t3, t4, t5


type(t1), type(t2), type(t3), type(t4), type(t5)   


t6 = (1)
t6, type(t6)


# 튜플 요솟값을 삭제하려 할 때
t1 = (1, 2, 'a', 'b')
t1


del t1[0]


# 튜플 요솟값을 변하려 할 때
t1[0] = 'c'





t1[0]


t1[1:]


t2 = (3,4)
t1 + t2


t2 * 3


len(t1)





dic = {'name': 'pey', 'phone': '010-9999-1234', 'birth': '1118'}
dic


a = {'a' : [1,2,3]}
a


a = {[1,2,3] : 'a'}
b





a = {1 :'a'}
a


a[2] = 'b'
a


a['name'] = 'pey'
a


a[3] = [1, 2, 3]
a


del a[1]
a





#딕셔너리에서 Key를 사용해 Value 얻기
grade = {'pey': 10, 'julliet': 99}
grade['pey']


grade['julliet']


dic = {'name': 'pey', 'phone': '010-9999-1234', 'birth': '1118'}
dic


dic.keys()


for k in dic.keys():
    print(k)


for k in dic.keys():
    print(dic[k])


type(dic.keys())


list(dic.keys())


# value 리스트 만들기 values
dic.values()


# key, values 쌍 얻기 items
dic.items()


# key : value 쌍 모두 지우기 clear
dic.clear()
dic


#Key로 Value 얻기 - get

a = {'name': 'pey', 'phone': '010-9999-1234', 'birth': '1118'}
a.get('name')


a.get('phone')


a.get('nokey')


a['nokey']


a.get?


a.get('nokey', 'defaultkey')


'name' in a


'email' in a





s1 = set([1, 2, 3])
s1, type(s1)


s2 = set("Hello")
s2


s1[0]


l1 = list(s1)
l1


l1[0]


tuple(s1)


s1 = set([1, 2, 3, 4, 5, 6])
s2 = set([4, 5, 6, 7, 8, 9])


#교집합 구하기


s1 & s2


s1.intersection(s2)


#합집합 구하기
s1 | s2


s1.union(s2)


#차집합 구하기
s1 - s2


s2 - s1


s1.difference(s2)


# 값 1개 추가하기 add
s1.add(0)
s1


#값 여러 개 추가하기 - update
s1.update([7, 8, 9])
s1


#특정 값 제거하기 - remove
s1.remove(0)
s1





True, type(True)


TRUE


true


a = True
b = False
type(a), type(b)


1 == 1


2 > 1 


2 < 1


a = [1, 2, 3, 4]
while a :
    print(a)
    print(a, a.pop())


if [] : 
    print("참")
else : 
    print("거짓")


# 불 연산
bool('python')


bool('')


















