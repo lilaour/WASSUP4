








money = True
if money : 
    print("택시를 타고 가라")
else : 
    print("걸어 가라")


# 코드 블럭 들려쓰기 에러
if money : 
    print("택시를")
print("타고")
    print("가라")


# 코드 블럭 들려쓰기 에러
if money : 
    print("택시를")
    print("타고")
        print("가라")





x = 3
y = 2
x > y


x < y


x != y


x == y





money = 3100
if money >= 3000 :
    print("택시를 타고 가라")
else : 
    print("걸어 가라")


money = True
if money >= 3000 :
    print("택시를 타고 가라")
else : 
    print("걸어 가라")
    
#True = 1이여서 1>=3000 -> False





money = 2900
card = False
if money >= 3000 or card :
    print("택시를 타고 가라")
else : 
    print("걸어 가라")


1 in [1, 2, 3]


1 not in [1, 2, 3]


'a' in ('a', 'b', 'c')


'j' not in 'python'





pocket = ['핸드폰', '카드']
if '돈' in pocket :
    print("택시를 타고 가라")
else : 
    print("걸어 가라")





pocket = ['money', 'card', 'phone']
if 'money' in pocket :
    pass
else : 
    print('Walk')





pocket = ['money', 'card', 'phone']
if 'money' in pocket : 
    print("Take a taxi")
elif 'card' in pocket : 
    print("Take a taxi")
else : 
    print(("Walk"))





if 'a' in 'banana' : pass
else : print("no")





score = 80
if score >= 60 :
    message = "success"
else : 
    message = "failure"
print(message)


# 위 코드를 간단하게!
message = "success" if score >= 60 else "failure"
print(message)











treeHit = 0
while treeHit < 10 : 
    treeHit += 1
    print("Hit the tree %d times" % treeHit)
    if treeHit == 10 :
        print("Tree falls down")


prompt = '''
1. Add
2. Del
3. List
4. Quit

Enger number : '''

print(prompt)


input()


number = 0
while number != 4 :
    print(prompt)
    number = int(input())





coffee = 10
money = 300
while money : 
    print("Take money, give coffee")
    coffee -= 1
    print("Stock of coffee is %d." % coffee)
    if coffee == 0:
        print("Coffee is sold out. Stop the selling")
        break





money = input()
coffee = 10
while money : 
    print("Take money, give coffee")
    coffee -= 1
    print("Stock of coffee is %d." % coffee)
    if coffee == 0:
        print("Coffee is sold out. Stop the selling")
        break


coffee = 3
while True : 
    money = int(input("Insert coin: "))
    
    # 돈을 딱 맞게 준 경우
    if money == 300 : 
        print("Give coffee")
        coffee -= 1
        print(f"{coffee} is left.")
    
    #돈을 더 받았을 경우
    elif money > 300 : 
        print("Give change %d and coffee" % (money - 300))
        coffee -= 1
        print(f"{coffee} is left.")
        
    #돈이 부족할 경우
    else : 
        print("Give money back, no coffee")
        print(f"{coffee} is left.")
    
    #커피가 다 떨어졌을 경우
    if coffee == 0:
        print("Coffee is sold out, stop the selling")
        break





# 1부터 10까지 숫자 중 홀수만 출력하는 프로그램
a = 0
while a < 10 :
    a += 1
    if a%2 == 0:
        continue
    print(a)








test_list = ['one', 'two','three']
for i in test_list:
    print(i)


a = [(1,2), (3,4), (5,6)]
for i in a:
    print(i)


for first, last in a:
    print(first + last)





scores = [90, 25, 67, 45, 80]
number = 1
for i in scores:
    if i>-60:
        print("Success")
        print(f"{number}번째 {i}점으로 학생은 합격입니다")
    else :
        print("Failure")
        print(f"{number}번째 {i}점으로 학생은 불합격입니다")
    number += 1


scores = [90, 25, 67, 45, 80]

number = 0
for s in scores:
    number += 1
    if s < 60: 
        continue
    print(f"{number}번 학생 축하합니다. 합격입니다.") 


range(10)


for i in range(10): 
    print(i)


for i in range(1,11): 
    print(i)


total = 0

for number in range(1, 11):
    total += number 
    print(total)


scores = [90, 25, 67, 45, 80]

#number = 0
for s in range(len(scores)):
    #number += 1
    if scores[s] < 60: 
        continue
    print(f"{s+1}번 학생 축하합니다. 합격입니다.") 


for i in range(2, 10):
    for j in range(1, 10):
        print(f"{i} x {j} = {i * j}", end="\t")
    print('')


print?





a = [1,2,3,4]
result = []
for num in a : 
    result.append(num*3)
print(result)


a = [1,2,3,4]
result = [num * 3 for num in a if num % 2 == 0]
print(result)


#시간 측정을 위한 코드, 2배넘게 차이남
import time

start = time.time() 
numbers = [i for i in range(1000000)] 
end = time.time() 
print('List Comprehension Time:', end-start)

start = time.time() 
numbers = []
for i in range(1000000):
    numbers.append(i)
end = time.time() 
print('For loop Time:', end-start)





# 초기 연락처 데이터
list = {"홍길동": "010-123-4567"}

while True:
    # 메뉴
    print("\n전화번호 프로그램")
    print("1. 연락처 추가")
    print("2. 연락처 전체조회")
    print("3. 연락처 검색")
    print("4. 연락처 수정")
    print("5. 연락처 삭제")
    print("6. 프로그램 종료")

    # 사용자 input
    choice = input("어떤 기능을 원하시나요?: ")

    # 연락처 추가 기능
    if choice == "1":  
        name = input("추가할 이름: ")
        phone = input("전화번호: ")
        list[name] = phone
        print(f"{name}의 연락처가 추가되었습니다.")
        
    # 연락처 전체조회
    elif choice == "2":  
        if list:
            print("\n연락처 전체조회:")
            for name, phone in list.items():
                print(f"{name}: {phone}")
        else:
            print("연락처가 없습니다.")

    #연락처 검색
    elif choice == "3":  
        name = input("검색할 이름: ")
        if name in list:
            print(f"{name}의 전화번호: {list[name]}")
        else:
            print(f"{name}의 연락처를 찾을 수 없습니다.")

    #연락처 수정
    elif choice == "4":  
        name = input("수정할 이름: ")
        if name in list:
            new_phone = input("새로운 전화번호: ")
            list[name] = new_phone
            print(f"{name}의 전화번호가 수정되었습니다.")
        else:
            print(f"{name}의 연락처를 찾을 수 없습니다.")

    #연락처 삭제
    elif choice == "5": 
        name = input("삭제할 이름: ")
        if name in list:
            del list[name]
            print(f"{name}의 연락처가 삭제되었습니다.")
        else:
            print(f"{name}의 연락처를 찾을 수 없습니다.")

    #프로그램 종료 
    elif choice == "6":
        print("프로그램을 종료합니다.")
        break

    else:
        print("잘못된 입력입니다")





contact = {}


while True :
    print('--------전화번호보 프로그램---------')
    print('1.추가  2.조회   3.검색  4.수정  5.삭제  9.종료')
    menu=int(input('메뉴를 선택해주세요(숫자only) : '))

    if menu == 1: #연락처 추가
        print('연락처를 추가합니다.')
        new_name = input('이름 : ')
        new_tel = input('전화번호 : ')
        print(new_name, new_tel)

        #contact[new_name] = new_tel
        contact.setdefault(new_name, new_tel)
        
    elif menu == 2 :
        print('연락처를 조회합니다.')
        print(contact)
        for name, tel in contact.items():
            print(name, ':', tel)
        
    elif menu == 3 :
        print('연락처를 검색합니다.')
        search_name = input('검색 이름 : ')
        #print(contact[search_name])
        print(contact.get(search_name, '없는 이름입니다.'))
        
    elif menu == 4 :
        print('연락처를 수정합니다.')
        mod_name = input('수정 이름 : ')

        if mod_name in contact:
            mod_tel = input('새 전화번호 : ')
            contact[mod_name] = mod_tel
        else : 
            print('등록되지 않은 이름입니다.')
    
    elif menu == 5 :
        print('연락처를 삭제합니다.')
        del_name = input('삭제 이름 : ')

        if del_name in contact:
            del contact[del_name]
        else : 
            print('등록되지 않은 이름입니다.')

    elif menu == 9 :
        print('연락처를 종료합니다.')
        break

    else : 
        print('잘못된 입력입니다')

































