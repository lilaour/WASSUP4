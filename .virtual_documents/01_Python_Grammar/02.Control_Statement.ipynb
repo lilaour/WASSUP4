








money = True
if money : 
    print("택시를 타고 가라")
else : 
    print("걸어 가라")


# 코드 블럭 들려쓰기 에러
if money : 
    print("택시를")
print("타고")
    print("가라")


# 코드 블럭 들려쓰기 에러
if money : 
    print("택시를")
    print("타고")
        print("가라")





x = 3
y = 2
x > y


x < y


x != y


x == y





money = 3100
if money >= 3000 :
    print("택시를 타고 가라")
else : 
    print("걸어 가라")


money = True
if money >= 3000 :
    print("택시를 타고 가라")
else : 
    print("걸어 가라")
    
#True = 1이여서 1>=3000 -> False





money = 2900
card = False
if money >= 3000 or card :
    print("택시를 타고 가라")
else : 
    print("걸어 가라")


1 in [1, 2, 3]


1 not in [1, 2, 3]


'a' in ('a', 'b', 'c')


'j' not in 'python'





pocket = ['핸드폰', '카드']
if '돈' in pocket :
    print("택시를 타고 가라")
else : 
    print("걸어 가라")





pocket = ['money', 'card', 'phone']
if 'money' in pocket :
    pass
else : 
    print('Walk')





pocket = ['money', 'card', 'phone']
if 'money' in pocket : 
    print("Take a taxi")
elif 'card' in pocket : 
    print("Take a taxi")
else : 
    print(("Walk"))





if 'a' in 'banana' : pass
else : print("no")





score = 80
if score >= 60 :
    message = "success"
else : 
    message = "failure"
print(message)


# 위 코드를 간단하게!
message = "success" if score >= 60 else "failure"
print(message)











treeHit = 0
while treeHit < 10 : 
    treeHit += 1
    print("Hit the tree %d times" % treeHit)
    if treeHit == 10 :
        print("Tree falls down")


prompt = '''
1. Add
2. Del
3. List
4. Quit

Enger number : '''

print(prompt)


input()


number = 0
while number != 4 :
    print(prompt)
    number = int(input())





coffee = 10
money = 300
while money : 
    print("Take money, give coffee")
    coffee -= 1
    print("Stock of coffee is %d." % coffee)
    if coffee == 0:
        print("Coffee is sold out. Stop the selling")
        break





money = input()
coffee = 10
while money : 
    print("Take money, give coffee")
    coffee -= 1
    print("Stock of coffee is %d." % coffee)
    if coffee == 0:
        print("Coffee is sold out. Stop the selling")
        break


coffee = 3
while True : 
    money = int(input("Insert coin: "))
    
    # 돈을 딱 맞게 준 경우
    if money == 300 : 
        print("Give coffee")
        coffee -= 1
        print(f"{coffee} is left.")
    
    #돈을 더 받았을 경우
    elif money > 300 : 
        print("Give change %d and coffee" % (money - 300))
        coffee -= 1
        print(f"{coffee} is left.")
        
    #돈이 부족할 경우
    else : 
        print("Give money back, no coffee")
        print(f"{coffee} is left.")
    
    #커피가 다 떨어졌을 경우
    if coffee == 0:
        print("Coffee is sold out, stop the selling")
        break





# 1부터 10까지 숫자 중 홀수만 출력하는 프로그램
a = 0
while a < 10 :
    a += 1
    if a%2 == 0:
        continue
    print(a)








test_list = ['one', 'two','three']
for i in test_list:
    print(i)


a = [(1,2), (3,4), (5,6)]
for i in a:
    print(i)


for first, last in a:
    print(first + last)





scores = [90, 25, 67, 45, 80]
number = 1
for i in scores:
    if i>-60:
        print("Success")
        print(f"{number}번째 {i}점으로 학생은 합격입니다")
    else :
        print("Failure")
        print(f"{number}번째 {i}점으로 학생은 불합격입니다")
    number += 1
