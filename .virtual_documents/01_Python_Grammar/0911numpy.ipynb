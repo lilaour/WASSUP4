# Numpy
# Numerical Python
# 벡터나 행렬 연산에 편리한 기능 제공
# 모든 원소는 같은 자료형만 가능


for i in range(15):
    print(i, end=' ')


import numpy as np
a = np.arange( 15 )

print( a )
a = a.reshape(3, 5) # 3행 5열, -1 자동
print('a :',a)
print('a 타입 : ',type(a))
print('a shape : ',a.shape)
print('자료형 : ',a.dtype)
print('차원 수 : ',a.ndim)
print('데이터크기 : ',a.size)








np.array(a)

a_2 = [[ 0,  1,  2,  3,  4],
    [ 5,  6,  7,  8,  9],
    [10, 11, 12, 13, 14]]
a, a_2


b = [-1, 2, -3, 9, 8, 7, -4, -7]
print(type(b))
b = np.array(b)
print(type(b))

t = (10,20,30,40,50)
print(type(t))
t = np.array(t)
print(type(t))

s = {10, 20, 30, 40, 50}
print(type(s))
s = np.array(s)
print(type(s))



li_1 = [[80,70,90],[30,60,50],[80,70,80]]
li_2 = [[90,80,70],[50,70,60],[80,80,90]]
li_3 = li_1 + li_2
print(li_3)

array_1 = np.array(li_1)
array_2 = np.array(li_2)
array_3 = array_1 + array_2
print(array_3)
print((array_3) / 2)


b = [-1, -2, 4, 0, 6, np.nan]
print(b)
print('절대값 : ',np.abs(b))
print('제곱(power) : ',np.power(b, 2))
b_p = np.power(b, 2)
print('제곱(square) : ',np.square(b))
print('제곱근 : ',np.sqrt(b_p))
print('결측치 확인 : ',np.isnan(b_p))
b[-1] = 11
print(b)
print('총합 : ',np.sum(b))
print('평균(mean) : ',np.mean(b))
print('평균(average) : ',np.average(b))
print('최대값 : ',np.max(b))
print('최소값 : ',np.min(b))
print('최대값의 인덱스 : ',np.argmax(b))
print('최소값의 인덱스 : ',np.argmin(b))
print('오름차순 정렬 : ',np.sort(b))
print('내림차순 정렬 : ',np.sort(b)[::-1])
print('중위수 : ',np.median(b))












# element wise
d = [ 10, 20, 30, 40 , 50 ]
#print( d + 2 )  #error
d = np.array(d)
print( d + 2 )

e = np.array ([1, 2, 3, 4, 5])
print( d + e )
print( d ** 2 )
print (d * np.sin(d))
print( d > 35 )

print(np. add( d,e))
print(np. subtract( d,e))
print(np. multiply( d,e))
print(np. divide( d,e))



f = np.array( [ [0, 1], [1, 1] ]  )
g = np.array( [ [ 2, 0 ] , [3, 4] ] )
print(f * g)
print(f @ g )    # 행렬곱
print( np.dot(f,g) ) # 행렬곱
print(f.dot ( g ) )  # 행렬곱




h = np.zeros( 10 )
print (h)
i = np.zeros( (5, 5) )  # 튜플로 만들어야 돌아간다. 
print(i)

j = np.ones( 10 )
print (j)

# np.ramdom.ramdom 0~1 사이의 난수 발생
# np.ramdom.randict 균일 분포의 정수 난수 발생
# np.random.rand 0~1 사이의 균일 분포 난수 matrix array 생성
# np.random.randn 가우시안 표준 정규 분포 난수 matrix array생성
# np.random.normal 평균,표준편차, sample 개수


k = np.random.random( 10 ) * 100
k = np.array( [ int(i) for i in k ] )
print( type( k ) )
print( k )

print(np.random.randint( 10, 20 ) )
print(np.random.rand( 5, 2 ) ) 


# 슬라이싱

m = [ i for i in range (10, 20) ]
print( m[0:5] )  # [ 시작 : 끝 -1 : 간격 ]
print( m [0:5:2] )
print( m[:] )
print( m[5:] )
print( m[:-1] )
print( m[::-1] )

# nparray
w = np.arange( 10 , 20)
print( w[0:5:2] )
print( w [:-2] )


r = [ [ 1, 2, 3, 4, 5] , [ 6, 7, 8, 9, 10], [11, 12, 13, 14, 15] ]
print ( r[2][2] )
print( r[:][:] )
print( r[2][:] )
print ( r[1][:2] )
print( r[:2][:2] )









