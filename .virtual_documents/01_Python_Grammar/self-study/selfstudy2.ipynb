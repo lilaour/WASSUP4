'돈이 있으면 택시를 타고 가고, 돈이 없으면 걸어간다.'


money = True
if money :
    print("택시를 타고 가라")
else : 
    print("걸어가라")


money = True
if money :
print("택시를 타고 가라")
else : 
    print("걸어가라")


x = 3
y = 2
x > y


x < y


x != y


money = 2888

if money >= 3000 :
    print("택시를 타고 가라")
else :
    print("걸어가라")


money = 3000
card = False

if money >=3000 or card :
    print("택시 타고 가라")
else : 
    print("걸어가라")


1 in [1, 2, 3]


1 not in [1, 2, 3]


'a' in ('a', 'b', 'c')


pocket = ['paper', 'cellphone', 'money']

if 'money' in pocket : 
    print("택시를 타고가라")
else : 
    print("걸어가라")
    


pocket = ['paper', 'cellphone', 'money']

if 'sdsd' in pocket : 
    pass
else : 
    print("걸어가라")
    


"주머니에 돈이 있으면 택시를 타고 가고, 주머니에 돈은 없지만 카드가 있으면 택시를 타고 가고, 돈도 없고 카드도 없으면 걸어가라."


pocket = ['money','card', 'phone']

if 'money' in pocket : 
    print("택시타")
elif 'card' in pocket : 
    print("택시타")
else :
    print("걸어가")


pocket = ['money','card', 'phone']
if 'money' in pocket : pass
else : print("no")


score = 90
if score >= 60 : 
    message = "success"
else : 
    message = "failure"

print(message)


message = "success" if score >= 60 else "failure"
print(message)








treeHit = 0
while treeHit < 10 : 
    treeHit = treeHit + 1
    print("나무를 %d번 찍었습니다." % treeHit)
    if treeHit == 10 : 
        print("나무 넘어갑니다.")


treeHit = 0
while treeHit < 10 : 
    treeHit = treeHit + 1
    print("나무를 %d번 찍었습니다." % treeHit)


prompt = """
1. Add
2. Del
3. List
4. Quit

Enter number : """

print(prompt)


input()


input()


number = 0
while number != 4 :
    print(prompt)
    number = int(input())


coffee = 10
money = 300
while money : 
    print ("돈을 받았으니 커피를 줍니다.")
    coffee = coffee -1
    print("남은 커피 양은 %d개 입니다." % coffee)
    if coffee == 0 : 
        print("커피가 다 떨어졌습니다. 판매를 중지합니다.")
        break


money = input()
coffee = 10
while money : 
    print("돈을 받았으니 커피를 줍니다")
    coffee -= 1
    print("남은 커피 양은 %d개 입니다." % coffee)
    if coffee == 0:
        print("커피가 다 떨어졌습니다. 판매를 중지합니다.")
        break


coffee = 3
while True : 
    money = int(input("돈을 넣어 주세요 : "))
    if money == 300:
        print("커피를 줍니다")
        coffee = coffee -1
    elif money > 300 :
        print("거스름돈 %d를 주고 커피를 줍니다." %(money-300))
        coffee = coffee-1
    else :
        print("돈을 다시 돌려주고 커피를 주지 않습니다.")
        print("남은 커피의 양은 %d 입니다." % coffee)
    if coffee == 0:
        print("커피가 다 떨어졌습니다. 판매를 중지 합니다.")
        break


a = 0
while a < 10 : 
    a = a + 1
    if a % 2 == 0 : continue
    print(a)








test_list = ['one', 'two', 'three']
for i in test_list :
    print(i)


a = [(1,2), (3,4), (5,6)]
for (first,last) in a : 
    print(first + last)


"총 5명의 학생이 시험을 보았는데 시험 점수가 60점 이상이면 합격이고 그렇지 않으면 불합격이다. 합격인지, 불합격인지 결과를 보여 주시오."


scores = [50,60,80,63,90]
number = 1
for i in scores :
    if i >= 60 : 
        print("success")
        print(f'{number}번째 {i}점으로 학생은 합격입니다')
    else :
        print("failure")
        print(f'{number}번째 {i}점으로 학생은 불합격입니다')
    number +=1















