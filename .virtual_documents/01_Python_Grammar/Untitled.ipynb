# pandas
# series  1차원
# dataFrame2차원


import pandas as pd
import numpy as np

#Series
s = pd.Series( [1, 2, 3, 4, 5, 6, 7, 8, 9] )
print( type(s) )
print( s.index )
print ( s. dtype )
print ( s )

s.index = ['A', 'B', 'C', 'D', 'E', 'F', 'G', 'H', 'I']  ##인덱스 지정
print(s)


s = pd.Series( [1, 2, 3, 4, 5, 6, 7, 8, 9], index = ['A', 'B', 'C', 'D', 'E', 'F', 'G', 'H', 'I'] )   ##처음부터 인덱스 지정도 가능하다  'index =' 처럼 이름 명시도 가능하다. (파이썬만 가능함)
print(s)
print( s.index )
print( s.values )
#print( s[ '0' ] )  꺼내지긴하나 오류뜸. 내가 지정한 인덱스명이 있기 때문. 그걸 사용해라~!
print( s[ 'B' ] )
print( s.A ) # . 을 찍어서도 접근가능
print( s [0:5] )
print (s [ 'A' : 'D' ] )


# Dictionary(Map, JSON) -> Series
d = {'A':10, 'D':20, 'F':30, 'H':40 }
print(type(d))
for key, value in d.items() : 
    print(key, ":", value)
print(d ['A'] )
# print (d,A)     #에러
# print( d[0:3)   #에러
# print(d['A':'F'])  #에러  딕셔너리는 슬라이싱이 안되지만 시리즈는 슬라이싱이 된다.

s = pd.Series ( d )
print(s.index)
print(s.values)
print(s ['A'] )
print(s.A)
print(s [0:3] )
print(s['A' : 'F'] )


#DataFrame
#Dicionary -> DataFrame

d = {
    'name' : ['Kim', 'lee', 'pakr', 'jung'],
    'age' : [20,30,45,25], 
    'tel' : ['1111-2222','2222-3333', '4444-2222', '3333-2222']
}
print(type(d))

df = pd.DataFrame( d )
print( df )
print( df.index )
print( df.columns )
print( df.values )     # numpy array 로 꺼내준다
df.index.name ='Num'
df.columns.name ='User'



n = np.array (
    [['kim', 20, '1111-2222'],
     ['lee', 30, '2222-1111'],
     ['park', 35, '3333-2222'],
     ['jung',24,'3333-1111']]
)
print( type(n) )
df = pd.DataFrame( n )

df.columns = ['name', 'age', 'tel' ]
df.index = [ 'A','B','C','D' ]

print (df)
print(df.index)
print(df.columns)

df = pd.DataFrame( n, columns =['name', 'age', 'tel'], index = ['A', 'B', 'C', 'D' ] )
print(df)

print(df.describe())


print (df ['name'] )
print( df [['name', 'tel']] )
#print( df['name'][2])
print( df['name']['C'] )
print( df['name'].C)
print(df ['name']['B' : 'D'] )

print(df.name, df.age)
print(df.name.C)


print (df [:][:] )
print (df [:2][:1] )
print (df [['name','tel']])
#print( df [[0,2]] )      #에러 - 컬럼명이 있는 경우 숫자 사용 x
#print( df[0][0] )        #에러


df ['address' ] = ['서울', '수원', '인천', '광주' ]
#df['age'] ['A'] = 30
df ['adult'] = df['age'].astype(np.int64) > 30

del(df['adult'])
print( df )


# Series 정렬
s = pd.Series( [10,40,50,80,20,70], index =['a','c','b','f','e','d'] )
s = s.sort_index(ascending = True) ##오름차순
s = s.sort_index(ascending = False) ##내림차순
s = s.sort_values()
print(s)



# DataFrame 정렬
df = pd.DataFrame( [[ 4, 5, 1, 2 ],
                    [ 300, 400,  200, 100 ],
                    [20, 10, 40, 30]], index = ['c', 'a', 'b'], columns = ['D','C','A','B'])
print( df )
df = df.sort_index()            #index
df = df.sort_index( axis = 0 )
df = df.sort_index( axis = 1, ascending = False )  #column

df = df.sort_values(by ='A', ascending = False)

print( df )



























